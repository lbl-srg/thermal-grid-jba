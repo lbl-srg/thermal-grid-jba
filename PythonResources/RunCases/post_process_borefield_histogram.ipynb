{
 "cells": [
  {
   "cell_type": "markdown",
   "metadata": {},
   "source": [
    "# Post-processing for borefield histogram\n",
    "\n",
    "## Usage notes\n",
    "\n",
    "All figures will be written to the directory `img` as pdf and png files.\n",
    "\n",
    "I run this notebook on Ubuntu, using this version of matplotlib:\n",
    "```\n",
    "pip freeze | grep matplotlib\n",
    "matplotlib==3.5.1\n",
    "```\n",
    "Some older versions return an error because they do not support some plot configurations.\n",
    "I set in the virtual machine the RAM to 12GB as 8GB is not sufficient to parse two annual result files."
   ]
  },
  {
   "cell_type": "markdown",
   "metadata": {},
   "source": [
    "## Import required libraries"
   ]
  },
  {
   "cell_type": "code",
   "execution_count": 1,
   "metadata": {
    "execution": {
     "iopub.execute_input": "2025-07-16T17:30:13.982304Z",
     "iopub.status.busy": "2025-07-16T17:30:13.981782Z",
     "iopub.status.idle": "2025-07-16T17:30:14.637362Z",
     "shell.execute_reply": "2025-07-16T17:30:14.635903Z"
    }
   },
   "outputs": [],
   "source": [
    "import cases as cas\n",
    "import post_process_configurations as con\n"
   ]
  },
  {
   "cell_type": "markdown",
   "metadata": {},
   "source": [
    "## Read annual results\n",
    "\n",
    "This section also clears the old results to free up memory."
   ]
  },
  {
   "cell_type": "code",
   "execution_count": 2,
   "metadata": {
    "execution": {
     "iopub.execute_input": "2025-07-16T17:30:14.644516Z",
     "iopub.status.busy": "2025-07-16T17:30:14.643919Z",
     "iopub.status.idle": "2025-07-16T17:30:14.691444Z",
     "shell.execute_reply": "2025-07-16T17:30:14.690869Z"
    }
   },
   "outputs": [
    {
     "name": "stdout",
     "output_type": "stream",
     "text": [
      "Cleaned up memory.\n"
     ]
    }
   ],
   "source": [
    "# Free up storage, then read new data\n",
    "import gc\n",
    "gc.collect()\n",
    "print(\"Cleaned up memory.\")"
   ]
  },
  {
   "cell_type": "code",
   "execution_count": 3,
   "metadata": {
    "execution": {
     "iopub.execute_input": "2025-07-16T17:30:14.738703Z",
     "iopub.status.busy": "2025-07-16T17:30:14.738282Z",
     "iopub.status.idle": "2025-07-16T17:30:59.176799Z",
     "shell.execute_reply": "2025-07-16T17:30:59.175469Z"
    }
   },
   "outputs": [
    {
     "name": "stdout",
     "output_type": "stream",
     "text": [
      "Reading result files\n"
     ]
    }
   ],
   "source": [
    "print(\"Reading result files\")\n",
    "r_base=con.get_results('base')\n"
   ]
  },
  {
   "cell_type": "markdown",
   "metadata": {},
   "source": [
    "# Generate histogram of the borefield specific heat flow rate (W/m)"
   ]
  },
  {
   "cell_type": "code",
   "execution_count": 4,
   "metadata": {
    "execution": {
     "iopub.execute_input": "2025-07-16T17:30:59.183018Z",
     "iopub.status.busy": "2025-07-16T17:30:59.182790Z",
     "iopub.status.idle": "2025-07-16T17:44:29.774439Z",
     "shell.execute_reply": "2025-07-16T17:44:29.773141Z"
    }
   },
   "outputs": [
    {
     "name": "stdout",
     "output_type": "stream",
     "text": [
      "Searching final time instances of the iteration ......\n",
      "-------- end -------\n",
      "Searching indexes of the begin and end moment of each hour .......\n",
      "-------- end -------\n",
      "Searching final values after the iteration ......\n",
      "-------- end -------\n",
      "Searching hourly values ......\n",
      "-------- end -------\n"
     ]
    }
   ],
   "source": [
    "# Season indicator and the borefield specific heat flow rate\n",
    "variables = [\"cenPla.gen.borCon.uSea\", \"cenPla.borFie.qBorSpePer_flow\", \"cenPla.borFie.qBorSpeCen_flow\", \"cenPla.borFie.qBorSpe_flow\"]\n",
    "\n",
    "con.plot_borefield_specific_heat([r_base], ['base'], variables)"
   ]
  },
  {
   "cell_type": "code",
   "execution_count": null,
   "metadata": {},
   "outputs": [],
   "source": []
  }
 ],
 "metadata": {
  "kernelspec": {
   "display_name": "Python 3",
   "language": "python",
   "name": "python3"
  },
  "language_info": {
   "codemirror_mode": {
    "name": "ipython",
    "version": 3
   },
   "file_extension": ".py",
   "mimetype": "text/x-python",
   "name": "python",
   "nbconvert_exporter": "python",
   "pygments_lexer": "ipython3",
   "version": "3.8.10"
  }
 },
 "nbformat": 4,
 "nbformat_minor": 1
}
