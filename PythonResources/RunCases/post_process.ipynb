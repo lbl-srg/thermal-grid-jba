{
 "cells": [
  {
   "cell_type": "markdown",
   "metadata": {},
   "source": [
    "# Post-processing of case studies\n",
    "\n",
    "## Usage notes\n",
    "\n",
    "All figures will be written to the directory `img` as pdf and png files.\n",
    "\n",
    "I run this notebook on Ubuntu, using this version of matplotlib:\n",
    "```\n",
    "pip freeze | grep matplotlib\n",
    "matplotlib==2.1.0\n",
    "```\n",
    "Some older versions return an error because they do not support some plot configurations.\n",
    "I set in the virtual machine the RAM to 12GB as 8GB is not sufficient to parse two annual result files."
   ]
  },
  {
   "cell_type": "markdown",
   "metadata": {},
   "source": [
    "## Import required libraries"
   ]
  },
  {
   "cell_type": "code",
   "execution_count": 1,
   "metadata": {},
   "outputs": [],
   "source": [
    "import os\n",
    "import cases\n",
    "\n",
    "import matplotlib\n",
    "matplotlib.use('Agg')\n",
    "import matplotlib.pyplot as plt\n",
    "\n",
    "from buildingspy.io.outputfile import Reader\n",
    "from buildingspy.io.postprocess import Plotter"
   ]
  },
  {
   "cell_type": "markdown",
   "metadata": {},
   "source": [
    "## Configure plots"
   ]
  },
  {
   "cell_type": "code",
   "execution_count": 2,
   "metadata": {},
   "outputs": [],
   "source": [
    "plt.rcParams['axes.facecolor']='whitesmoke'\n",
    "plt.rcParams['font.size'] = 6\n",
    "plt.rcParams['text.usetex'] = False\n",
    "plt.rcParams['legend.facecolor'] = 'white'\n",
    "plt.rcParams['legend.framealpha'] = 0.75\n",
    "plt.rcParams['legend.edgecolor'] = 'none'\n",
    "plt.rcParams['savefig.dpi'] = 300\n",
    "\n",
    "def save_plot(figure, file_name):\n",
    "    \"\"\" Save the figure to a pdf and png file in the directory `img`\n",
    "    \"\"\"\n",
    "    import os\n",
    "    import matplotlib.pyplot as plt\n",
    "    \n",
    "    out_dir = \"img\"\n",
    "    if not os.path.exists(out_dir):\n",
    "        os.makedirs(out_dir)\n",
    "    figure.savefig(os.path.join(out_dir, '{}.pdf'.format(file_name)))\n",
    "    figure.savefig(os.path.join(out_dir, '{}.png'.format(file_name)))\n",
    "    plt.clf()\n",
    "    \n",
    "\n",
    "def configure_axes(axes):\n",
    "    \"\"\" Configure the axis style\n",
    "    \"\"\"\n",
    "    axes.spines['right'].set_visible(False)\n",
    "    axes.spines['top'].set_visible(False)\n",
    "    axes.spines['left'].set_visible(False)\n",
    "    axes.spines['bottom'].set_visible(False)\n",
    "    axes.grid(color='lightgrey', linewidth=0.25)\n",
    "    return\n",
    "\n",
    "def get_results(case_name):\n",
    "    \"\"\" Get the results for the case with name `case_name`\n",
    "    \"\"\"\n",
    "    # Make sure simulation was successful\n",
    "    dslog_name = os.path.join(\"simulations\", case_name, \"dslog.txt\")\n",
    "    with open(dslog_name) as dslog:\n",
    "        if not \"Integration terminated successfully\" in dslog.read():\n",
    "            raise Exception(\"Simulation failed. Check {}\".format(dslog_name))\n",
    "    file_name = cases.get_result_file_name(case_name)\n",
    "    return Reader(file_name, \"dymola\")\n",
    "\n",
    "def get_partial_results(case_name, list_of_variables):\n",
    "    \"\"\" Get a dictionary with the variable names and the time series for `list_of_variables`\n",
    "    \"\"\"\n",
    "    reader = get_results(case_name)\n",
    "    d = dict()\n",
    "    read_time = True\n",
    "    for v in list_of_variables:\n",
    "        if read_time:\n",
    "            d['time'] = reader.values(v)[0]\n",
    "            read_time = False\n",
    "        d[v] = reader.values(v)[1]\n",
    "    return d\n",
    "\n",
    "\n",
    "# ---------------------------------------------------------------------------\n",
    "# helper functions and scripts\n",
    "\n",
    "def set_cases_and_initiate_plot():\n",
    "    from matplotlib.gridspec import GridSpec\n",
    "    cases = ['Base case', 'Guideline 36'] # fixme\n",
    "    seasons = ['Winter', 'Spring', 'Summer']\n",
    "    num_cases = len(cases)\n",
    "    num_seasons = len(seasons)\n",
    "    \n",
    "    fig = plt.figure(figsize=(6.5,8.))\n",
    "    gs1 = GridSpec(80, 1)\n",
    "    gs1.update(left=0.1, right=0.9, hspace=0.05)\n",
    "    \n",
    "    ax = list()\n",
    "    ax.insert(0, fig.add_subplot(gs1[0:11,:]))\n",
    "    ax.insert(1, fig.add_subplot(gs1[12:23,:]))\n",
    "    ax.insert(2, fig.add_subplot(gs1[28:39,:]))\n",
    "    ax.insert(3, fig.add_subplot(gs1[40:51,:]))\n",
    "    ax.insert(4, fig.add_subplot(gs1[56:67,:]))\n",
    "    ax.insert(5, fig.add_subplot(gs1[68:79,:]))\n",
    "    \n",
    "    # fig, ax = plt.subplots(nrows=num_cases*num_seasons, ncols=1, figsize = (6.5,8.))\n",
    "    # fig, ax = plt.subplots(nrows=20, ncols=1, figsize = (6.5,8.))\n",
    "    \n",
    "    return cases, seasons, num_cases, num_seasons, fig, ax\n",
    "\n",
    "def set_title(ax, title):\n",
    "    left, width = .01, .97\n",
    "    bottom, height = .01, .88\n",
    "    right = left + width\n",
    "    top = bottom + height\n",
    "    \n",
    "    title_str = r\"$\\it{\" + title + \"}$\"\n",
    "    ax.text(left, top,\n",
    "            title_str,\n",
    "            verticalalignment = 'center',\n",
    "            horizontalalignment = 'left', \n",
    "            transform=ax.transAxes,\n",
    "            fontsize = 6, color = 'k',\n",
    "            bbox=dict(facecolor='white', alpha=0.75, edgecolor='none'))\n",
    "    \n",
    "    \n",
    "def set_up_labels(i, ax, cases, seasons, num_cases, num_seasons, x_axis_label, y_axis_label):\n",
    "    # Hide xtick labels and ticks on the upper case subplot (each basecase)\n",
    "    if i % 2 == 0:\n",
    "        hide_tick_labels(ax)\n",
    "\n",
    "    # Print x axis title only below the lowest subplot\n",
    "    if i  == num_cases*num_seasons - 1:\n",
    "        ax.set_xlabel(x_axis_label)\n",
    "    ax.set_ylabel(y_axis_label)\n",
    "    #ax.xaxis.set_ticks(np.arange(min(t)+0, 365, 1))\n",
    "     \n",
    "    # Annotate case\n",
    "    set_title(ax, cases[i % 2])\n",
    "    # Annotate case\n",
    "    # if i % 2 == 0:\n",
    "    #     title_str = r\"$\\bf{\" + seasons[i/2] + \"}$\" + ' (upper: ' + r\"$\\it{\" + cases[i % 2] + \"}$\" + ', lower: ' + r\"$\\it{\"  + cases[(i-1) % 2] + \"}$\" + ')'\n",
    "    #     ax.set_title(title_str, # mg assign appropriate season/case\n",
    "    #                  verticalalignment = 'top',\n",
    "    #                  horizontalalignment = 'center', \n",
    "    #                  fontsize = 6, color = 'k')\n",
    "        \n",
    "    # Print legend only at the lower plot (g36 case)\n",
    "    if i % 1 == 0:\n",
    "        ax.legend(loc='center right', ncol=1)\n",
    "    configure_axes(ax)\n",
    "        \n",
    "    #plt.tight_layout(h_pad=0)\n",
    "    plt.tight_layout()\n",
    "    #plt.subplots_adjust(hspace = .2)\n",
    "        \n",
    "def tem_conv_CtoF(T_in_degC):\n",
    "    '''Converts temperature provided in degC to degF\n",
    "    '''\n",
    "    T_in_degF = (T_in_degC)*9./5. + 32.\n",
    "    \n",
    "    return T_in_degF\n",
    "        \n",
    "def add_secondary_yaxis_for_degF(ax, time, temp_in_K):\n",
    "        # Add a secondary axis with temperatures represented in F\n",
    "        ax_F = ax.twinx()\n",
    "        # Get limits to match with the left axis\n",
    "        ax_F.set_ylim([tem_conv_CtoF(ax.get_ylim()[0]),tem_conv_CtoF(ax.get_ylim()[1])])\n",
    "        # plot a \"scaler\" variable and make it invisible\n",
    "        ax_F.plot(time, tem_conv_CtoF(temp_in_K-273.15), linewidth=0.0)\n",
    "        ax_F.set_ylabel('temperature [$^\\\\circ$F]')\n",
    "        configure_axes(ax_F)\n",
    "        #ax.grid(False)\n",
    "        #ax.xaxis.grid()\n",
    "        \n",
    "def hide_tick_labels(ax):\n",
    "    '''Removes labels and ticks. Kwargs: bottom controls the ticks, labelbottom the tick labels\n",
    "    '''\n",
    "    ax.tick_params(axis = 'x',labelbottom='off',bottom='off')"
   ]
  },
  {
   "cell_type": "markdown",
   "metadata": {},
   "source": [
    "## Read annual results\n",
    "\n",
    "This section also clears the old results to free up memory."
   ]
  },
  {
   "cell_type": "code",
   "execution_count": 3,
   "metadata": {},
   "outputs": [
    {
     "name": "stdout",
     "output_type": "stream",
     "text": [
      "Cleaned up memory.\n"
     ]
    }
   ],
   "source": [
    "# Free up storage, then read new data\n",
    "import gc\n",
    "#r_all_without_diverse_loads = list()\n",
    "#r_all_with_diverse_loads = list()\n",
    "#r_all = list()\n",
    "gc.collect()\n",
    "\n",
    "print(\"Cleaned up memory.\")"
   ]
  },
  {
   "cell_type": "code",
   "execution_count": 4,
   "metadata": {},
   "outputs": [
    {
     "name": "stdout",
     "output_type": "stream",
     "text": [
      "Read base results\n"
     ]
    }
   ],
   "source": [
    "list_of_variables = ['ETot.y',\n",
    "                     \"CPUtime\"]\n",
    "#r_base=get_partial_results('base', list_of_variables)\n",
    "r_base=get_results('base')\n",
    "print(\"Read base results\")\n"
   ]
  },
  {
   "cell_type": "code",
   "execution_count": 5,
   "metadata": {},
   "outputs": [
    {
     "name": "stdout",
     "output_type": "stream",
     "text": [
      "Total energy use: 0.05 GWh\n"
     ]
    }
   ],
   "source": [
    "print(f\"Total energy use: {r_base.max('ETot.y')/3600/1E9:.2f} GWh\")\n"
   ]
  },
  {
   "cell_type": "markdown",
   "metadata": {},
   "source": [
    "### Energy use\n"
   ]
  },
  {
   "cell_type": "code",
   "execution_count": 6,
   "metadata": {
    "scrolled": true
   },
   "outputs": [],
   "source": [
    "def plot_energy(results : list):\n",
    "    from buildingspy.io.outputfile import Reader\n",
    "    import matplotlib.pyplot as plt\n",
    "    import numpy as np\n",
    "    \n",
    "    plt.clf()    \n",
    "\n",
    "    # Conversion to kWh\n",
    "    conv = 1/3600.\n",
    "    width = 0.5       # the width of the bars: can also be len(x) sequence\n",
    "\n",
    "    EPumDis    = [0., 0.]\n",
    "    EPumETS = [0., 0.]\n",
    "    EPumDryCoo = [0., 0.]\n",
    "    \n",
    "    idx = [0, 1]\n",
    "    for i in idx:\n",
    "        res = results[i]\n",
    "        # fixme: add the right variables\n",
    "        EPumDis[i]    = res.max('EPumDis.y') * conv\n",
    "        EPumETS[i]    = res.max('EPumETS.y') * conv\n",
    "        EPumDryCoo[i] = res.max('EPumDryCoo.y') * conv\n",
    "\n",
    "    EPumDryCooBas = np.add(EPumDis, EPumETS)\n",
    "        \n",
    "    p1 = plt.bar(idx, EPumDis, width, color='r')\n",
    "    p2 = plt.bar(idx, EPumETS, width, bottom=EPumDis, color='g')\n",
    "    p3 = plt.bar(idx, EPumDryCoo, width, bottom=EPumDryCooBas, color='b')\n",
    "        \n",
    "    plt.ylabel('site electricity use [kWh/(m2  a)] FIXME')\n",
    "    plt.xticks([0, 1], ('base case', 'base case'))\n",
    "    plt.tick_params(axis=u'x', which=u'both',length=0)\n",
    "\n",
    "    #plt.yticks(np.arange(0, 81, 10))\n",
    "    plt.legend((p1[0], p2[0], p3[0]), \\\n",
    "               ('pump district', 'pump ETS', 'pump dry cooler'), \\\n",
    "              loc='upper right')\n",
    "    \n",
    "    save_plot(plt, \"energy\")\n",
    "    \n",
    "    # Write result to console and file\n",
    "##    eSit = [0, 0]\n",
    "##    for i in [0, 1]:\n",
    "##        eSit[i] = hea[i]+cooSen[i]+cooLat[i]+fan[i]\n",
    "\n",
    "##    str = \"\"\"\\\n",
    "##.. table:: Heating, cooling, fan and total site HVAC energy, and savings of guideline 36 case versus base case.\n",
    "##\n",
    "##   ===================================== ===================================== ====================================== ====================================== =====\n",
    "##   :math:`E_{{h}} \\quad [kWh/(m^2\\,a)]`    :math:`E_{{c}} \\quad [kWh/(m^2\\,a)]`    :math:`E_{{f}} \\quad [kWh/(m^2\\,a)]`     :math:`E_{{tot}} \\quad [kWh/(m^2\\,a)]`     [%]\n",
    "##   ===================================== ===================================== ====================================== ====================================== =====\n",
    "##   {:37.4} {:37.4}  {:37.4}  {:37.4}   \n",
    "##   {:37.4} {:37.4}  {:37.4}  {:37.4}  {:4.3} \n",
    "##   ===================================== ===================================== ====================================== ====================================== =====\n",
    "##  \n",
    "##  \"\"\".format(\\\n",
    "##            hea[0], coo[0], fan[0], eSit[0], \\\n",
    "##            hea[1], coo[1], fan[1], eSit[1], (1-eSit[1]/eSit[0])*100.)\n",
    "    def save_rst(str, file_name):\n",
    "        ''' Save the string `str` to the rst file `file_name.rst`\n",
    "        '''\n",
    "        print(str)\n",
    "        with open(os.path.join(\"img\", \"{}.rst\".format(file_name)), \"w\") as fil:\n",
    "            fil.write(str)\n",
    "        \n",
    "##    save_rst(str, \"site_energy\")\n",
    "plot_energy([r_base, r_base])"
   ]
  },
  {
   "cell_type": "markdown",
   "metadata": {},
   "source": [
    "### Diagnostic output"
   ]
  },
  {
   "cell_type": "code",
   "execution_count": 7,
   "metadata": {},
   "outputs": [
    {
     "name": "stdout",
     "output_type": "stream",
     "text": [
      "CPUtime, base 0.05 h\n"
     ]
    }
   ],
   "source": [
    "print(f\"CPUtime, base {r_base.max('CPUtime')/3600.:.2f} h\")"
   ]
  },
  {
   "cell_type": "code",
   "execution_count": 8,
   "metadata": {},
   "outputs": [
    {
     "name": "stderr",
     "output_type": "stream",
     "text": [
      "<>:25: SyntaxWarning: invalid escape sequence '\\c'\n",
      "<>:24: SyntaxWarning: \"is\" with 'int' literal. Did you mean \"==\"?\n",
      "<>:25: SyntaxWarning: invalid escape sequence '\\c'\n",
      "<>:24: SyntaxWarning: \"is\" with 'int' literal. Did you mean \"==\"?\n",
      "/var/folders/v2/6wff_z7125dbkwqqtb7hw_fw0000gn/T/ipykernel_30152/3219937733.py:25: SyntaxWarning: invalid escape sequence '\\c'\n",
      "  plt.ylabel(u'$T_{room}$ [$^\\circ$C]')\n",
      "/var/folders/v2/6wff_z7125dbkwqqtb7hw_fw0000gn/T/ipykernel_30152/3219937733.py:24: SyntaxWarning: \"is\" with 'int' literal. Did you mean \"==\"?\n",
      "  if iSim is 1:\n",
      "/var/folders/v2/6wff_z7125dbkwqqtb7hw_fw0000gn/T/ipykernel_30152/3219937733.py:25: SyntaxWarning: invalid escape sequence '\\c'\n",
      "  plt.ylabel(u'$T_{room}$ [$^\\circ$C]')\n"
     ]
    },
    {
     "ename": "NameError",
     "evalue": "name 'r_base_annual_without_diverse_loads' is not defined",
     "output_type": "error",
     "traceback": [
      "\u001b[0;31m---------------------------------------------------------------------------\u001b[0m",
      "\u001b[0;31mNameError\u001b[0m                                 Traceback (most recent call last)",
      "Cell \u001b[0;32mIn[8], line 13\u001b[0m\n\u001b[1;32m     11\u001b[0m \u001b[38;5;28;01mfor\u001b[39;00m roo \u001b[38;5;129;01min\u001b[39;00m roo_lis:\n\u001b[1;32m     12\u001b[0m     iSim \u001b[38;5;241m=\u001b[39m \u001b[38;5;241m1\u001b[39m\n\u001b[0;32m---> 13\u001b[0m     \u001b[38;5;28;01mfor\u001b[39;00m sim \u001b[38;5;129;01min\u001b[39;00m [{\u001b[38;5;124m\"\u001b[39m\u001b[38;5;124mres\u001b[39m\u001b[38;5;124m\"\u001b[39m: \u001b[43mr_base_annual_without_diverse_loads\u001b[49m, \u001b[38;5;124m'\u001b[39m\u001b[38;5;124mname\u001b[39m\u001b[38;5;124m'\u001b[39m: \u001b[38;5;124m'\u001b[39m\u001b[38;5;124mbase case\u001b[39m\u001b[38;5;124m'\u001b[39m}, \n\u001b[1;32m     14\u001b[0m                 {\u001b[38;5;124m\"\u001b[39m\u001b[38;5;124mres\u001b[39m\u001b[38;5;124m\"\u001b[39m: r_g36_annual_without_diverse_loads, \u001b[38;5;124m'\u001b[39m\u001b[38;5;124mname\u001b[39m\u001b[38;5;124m'\u001b[39m: \u001b[38;5;124m'\u001b[39m\u001b[38;5;124mguideline36\u001b[39m\u001b[38;5;124m'\u001b[39m}]:\n\u001b[1;32m     15\u001b[0m         plt\u001b[38;5;241m.\u001b[39msubplot(nRoo, \u001b[38;5;241m2\u001b[39m, iPlt)\n\u001b[1;32m     16\u001b[0m         plt\u001b[38;5;241m=\u001b[39mPlotter\u001b[38;5;241m.\u001b[39mboxplot(t\u001b[38;5;241m=\u001b[39msim[\u001b[38;5;124m'\u001b[39m\u001b[38;5;124mres\u001b[39m\u001b[38;5;124m'\u001b[39m][\u001b[38;5;124m'\u001b[39m\u001b[38;5;124mtime\u001b[39m\u001b[38;5;124m'\u001b[39m], \\\n\u001b[1;32m     17\u001b[0m                     y\u001b[38;5;241m=\u001b[39msim[\u001b[38;5;124m'\u001b[39m\u001b[38;5;124mres\u001b[39m\u001b[38;5;124m'\u001b[39m][\u001b[38;5;124m'\u001b[39m\u001b[38;5;124mflo.\u001b[39m\u001b[38;5;132;01m{}\u001b[39;00m\u001b[38;5;124m.air.vol.T\u001b[39m\u001b[38;5;124m'\u001b[39m\u001b[38;5;241m.\u001b[39mformat(roo[\u001b[38;5;124m'\u001b[39m\u001b[38;5;124mvar\u001b[39m\u001b[38;5;124m'\u001b[39m])]\u001b[38;5;241m-\u001b[39m\u001b[38;5;241m273.15\u001b[39m, \\\n\u001b[1;32m     18\u001b[0m                     increment\u001b[38;5;241m=\u001b[39m\u001b[38;5;241m3600\u001b[39m, nIncrement\u001b[38;5;241m=\u001b[39m\u001b[38;5;241m24\u001b[39m)\n",
      "\u001b[0;31mNameError\u001b[0m: name 'r_base_annual_without_diverse_loads' is not defined"
     ]
    }
   ],
   "source": [
    "plt.clf()\n",
    "\n",
    "roo_lis = [{\"var\": 'nor', \"name\": 'north'},\n",
    "           {\"var\": 'wes', \"name\": 'west'},\n",
    "           {\"var\": 'sou', \"name\": 'south'},\n",
    "           {\"var\": 'eas', \"name\": 'east'},\n",
    "           {\"var\": 'cor', \"name\": 'corridor'}]\n",
    "nRoo = len(roo_lis)\n",
    "iRoo = 1\n",
    "iPlt = 1\n",
    "for roo in roo_lis:\n",
    "    iSim = 1\n",
    "    for sim in [{\"res\": r_base_annual_without_diverse_loads, 'name': 'base case'}, \n",
    "                {\"res\": r_g36_annual_without_diverse_loads, 'name': 'guideline36'}]:\n",
    "        plt.subplot(nRoo, 2, iPlt)\n",
    "        plt=Plotter.boxplot(t=sim['res']['time'], \\\n",
    "                    y=sim['res']['flo.{}.air.vol.T'.format(roo['var'])]-273.15, \\\n",
    "                    increment=3600, nIncrement=24)\n",
    "        #plt.set_facecolor('mistyrose')    \n",
    "        #plt.patch.fill_between(t, TSetHea-273.15, y2=TSetCoo-273.15, color='white')\n",
    "        # Decorate, save and show the plot\n",
    "        if iRoo is nRoo:\n",
    "            plt.xlabel('Time [h]') \n",
    "        if iSim is 1:\n",
    "            plt.ylabel(u'$T_{room}$ [$^\\circ$C]')\n",
    "        plt.grid()\n",
    "        plt.xlim(6.5,19.5)\n",
    "        plt.ylim(18, 26)\n",
    "        plt.yticks([18, 20, 22, 24, 26])\n",
    "\n",
    "        plt.title('{} zone, {}'.format(roo['name'], sim['name']))\n",
    "        iSim+=1\n",
    "        iPlt+=1\n",
    "    iRoo+=1\n",
    "plt.tight_layout()\n",
    "save_plot(plt, \"roomTemperatures_boxplot\")\n",
    "plt.show()"
   ]
  },
  {
   "cell_type": "code",
   "execution_count": null,
   "metadata": {},
   "outputs": [],
   "source": []
  }
 ],
 "metadata": {
  "kernelspec": {
   "display_name": "Python 3",
   "language": "python",
   "name": "python3"
  },
  "language_info": {
   "codemirror_mode": {
    "name": "ipython",
    "version": 3
   },
   "file_extension": ".py",
   "mimetype": "text/x-python",
   "name": "python",
   "nbconvert_exporter": "python",
   "pygments_lexer": "ipython3",
   "version": "3.12.4"
  }
 },
 "nbformat": 4,
 "nbformat_minor": 1
}
