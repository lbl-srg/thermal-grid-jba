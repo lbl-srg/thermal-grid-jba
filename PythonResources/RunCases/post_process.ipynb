{
 "cells": [
  {
   "cell_type": "markdown",
   "metadata": {},
   "source": [
    "# Post-processing of case studies\n",
    "\n",
    "## Usage notes\n",
    "\n",
    "All figures will be written to the directory `img` as pdf and png files.\n",
    "\n",
    "I run this notebook on Ubuntu, using this version of matplotlib:\n",
    "```\n",
    "pip freeze | grep matplotlib\n",
    "matplotlib==3.5.1\n",
    "```\n",
    "Some older versions return an error because they do not support some plot configurations.\n",
    "I set in the virtual machine the RAM to 12GB as 8GB is not sufficient to parse two annual result files."
   ]
  },
  {
   "cell_type": "markdown",
   "metadata": {},
   "source": [
    "## Import required libraries"
   ]
  },
  {
   "cell_type": "code",
   "execution_count": 57,
   "metadata": {},
   "outputs": [],
   "source": [
    "import os\n",
    "import cases\n",
    "\n",
    "import matplotlib\n",
    "matplotlib.use('Agg')\n",
    "import matplotlib.pyplot as plt\n",
    "\n",
    "import numpy as np\n",
    "\n",
    "\n",
    "from buildingspy.io.outputfile import Reader\n",
    "from buildingspy.io.postprocess import Plotter"
   ]
  },
  {
   "cell_type": "markdown",
   "metadata": {},
   "source": [
    "Constants"
   ]
  },
  {
   "cell_type": "code",
   "execution_count": 2,
   "metadata": {},
   "outputs": [],
   "source": [
    "AFlo = 111997 # Floor area in m2"
   ]
  },
  {
   "cell_type": "markdown",
   "metadata": {},
   "source": [
    "## Configure plots"
   ]
  },
  {
   "cell_type": "code",
   "execution_count": 52,
   "metadata": {},
   "outputs": [],
   "source": [
    "plt.rcParams['axes.facecolor']='whitesmoke'\n",
    "plt.rcParams['font.size'] = 8\n",
    "plt.rcParams['text.usetex'] = False\n",
    "plt.rcParams['legend.facecolor'] = 'white'\n",
    "plt.rcParams['legend.framealpha'] = 0.75\n",
    "plt.rcParams['legend.edgecolor'] = 'none'\n",
    "plt.rcParams['savefig.dpi'] = 300\n",
    "\n",
    "def save_plot(figure, file_name):\n",
    "    \"\"\" Save the figure to a pdf and png file in the directory `img`\n",
    "    \"\"\"\n",
    "    import os\n",
    "    import matplotlib.pyplot as plt\n",
    "\n",
    "    out_dir = \"img\"\n",
    "    if not os.path.exists(out_dir):\n",
    "        os.makedirs(out_dir)\n",
    "    figure.savefig(os.path.join(out_dir, '{}.pdf'.format(file_name)))\n",
    "    figure.savefig(os.path.join(out_dir, '{}.png'.format(file_name)))\n",
    "    plt.clf()\n",
    "\n",
    "\n",
    "def configure_axes(axes):\n",
    "    \"\"\" Configure the axis style\n",
    "    \"\"\"\n",
    "    axes.spines['right'].set_visible(False)\n",
    "    axes.spines['top'].set_visible(False)\n",
    "    axes.spines['left'].set_visible(False)\n",
    "    axes.spines['bottom'].set_visible(False)\n",
    "    axes.grid(color='lightgrey', linewidth=0.25)\n",
    "    return\n",
    "\n",
    "def get_results(case_name):\n",
    "    \"\"\" Get the results for the case with name `case_name`\n",
    "    \"\"\"\n",
    "    # Make sure simulation was successful\n",
    "    dslog_name = os.path.join(\"simulations\", case_name, \"dslog.txt\")\n",
    "    with open(dslog_name) as dslog:\n",
    "        if not \"Integration terminated successfully\" in dslog.read():\n",
    "            raise Exception(\"Simulation failed. Check {}\".format(dslog_name))\n",
    "    file_name = cases.get_result_file_name(case_name)\n",
    "    return Reader(file_name, \"dymola\")\n",
    "\n",
    "def get_partial_results(case_name, list_of_variables):\n",
    "    \"\"\" Get a dictionary with the variable names and the time series for `list_of_variables`\n",
    "    \"\"\"\n",
    "    reader = get_results(case_name)\n",
    "    d = dict()\n",
    "    read_time = True\n",
    "    for v in list_of_variables:\n",
    "        if read_time:\n",
    "            d['time'] = reader.values(v)[0]\n",
    "            read_time = False\n",
    "        d[v] = reader.values(v)[1]\n",
    "    return d\n",
    "\n",
    "\n",
    "# ---------------------------------------------------------------------------\n",
    "# helper functions and scripts\n",
    "\n",
    "def set_cases_and_initiate_plot():\n",
    "    from matplotlib.gridspec import GridSpec\n",
    "    cases = ['Base case', 'Guideline 36'] # fixme\n",
    "    seasons = ['Winter', 'Spring', 'Summer']\n",
    "    num_cases = len(cases)\n",
    "    num_seasons = len(seasons)\n",
    "\n",
    "    fig = plt.figure(figsize=(6.5,8.))\n",
    "    gs1 = GridSpec(80, 1)\n",
    "    gs1.update(left=0.1, right=0.9, hspace=0.05)\n",
    "\n",
    "    ax = list()\n",
    "    ax.insert(0, fig.add_subplot(gs1[0:11,:]))\n",
    "    ax.insert(1, fig.add_subplot(gs1[12:23,:]))\n",
    "    ax.insert(2, fig.add_subplot(gs1[28:39,:]))\n",
    "    ax.insert(3, fig.add_subplot(gs1[40:51,:]))\n",
    "    ax.insert(4, fig.add_subplot(gs1[56:67,:]))\n",
    "    ax.insert(5, fig.add_subplot(gs1[68:79,:]))\n",
    "\n",
    "    # fig, ax = plt.subplots(nrows=num_cases*num_seasons, ncols=1, figsize = (6.5,8.))\n",
    "    # fig, ax = plt.subplots(nrows=20, ncols=1, figsize = (6.5,8.))\n",
    "\n",
    "    return cases, seasons, num_cases, num_seasons, fig, ax\n",
    "\n",
    "def set_title(ax, title):\n",
    "    left, width = .01, .97\n",
    "    bottom, height = .01, .88\n",
    "    right = left + width\n",
    "    top = bottom + height\n",
    "\n",
    "    title_str = r\"$\\it{\" + title + \"}$\"\n",
    "    ax.text(left, top,\n",
    "            title_str,\n",
    "            verticalalignment = 'center',\n",
    "            horizontalalignment = 'left',\n",
    "            transform=ax.transAxes,\n",
    "            fontsize = 6, color = 'k',\n",
    "            bbox=dict(facecolor='white', alpha=0.75, edgecolor='none'))\n",
    "\n",
    "\n",
    "def set_up_labels(i, ax, cases, seasons, num_cases, num_seasons, x_axis_label, y_axis_label):\n",
    "    # Hide xtick labels and ticks on the upper case subplot (each basecase)\n",
    "    if i % 2 == 0:\n",
    "        hide_tick_labels(ax)\n",
    "\n",
    "    # Print x axis title only below the lowest subplot\n",
    "    if i  == num_cases*num_seasons - 1:\n",
    "        ax.set_xlabel(x_axis_label)\n",
    "    ax.set_ylabel(y_axis_label)\n",
    "    #ax.xaxis.set_ticks(np.arange(min(t)+0, 365, 1))\n",
    "\n",
    "    # Annotate case\n",
    "    set_title(ax, cases[i % 2])\n",
    "    # Annotate case\n",
    "    # if i % 2 == 0:\n",
    "    #     title_str = r\"$\\bf{\" + seasons[i/2] + \"}$\" + ' (upper: ' + r\"$\\it{\" + cases[i % 2] + \"}$\" + ', lower: ' + r\"$\\it{\"  + cases[(i-1) % 2] + \"}$\" + ')'\n",
    "    #     ax.set_title(title_str, # mg assign appropriate season/case\n",
    "    #                  verticalalignment = 'top',\n",
    "    #                  horizontalalignment = 'center',\n",
    "    #                  fontsize = 6, color = 'k')\n",
    "\n",
    "    # Print legend only at the lower plot (g36 case)\n",
    "    if i % 1 == 0:\n",
    "        ax.legend(loc='center right', ncol=1)\n",
    "    configure_axes(ax)\n",
    "\n",
    "    #plt.tight_layout(h_pad=0)\n",
    "    plt.tight_layout()\n",
    "    #plt.subplots_adjust(hspace = .2)\n",
    "\n",
    "def tem_conv_CtoF(T_in_degC):\n",
    "    '''Converts temperature provided in degC to degF\n",
    "    '''\n",
    "    T_in_degF = (T_in_degC)*9./5. + 32.\n",
    "\n",
    "    return T_in_degF\n",
    "\n",
    "def add_secondary_yaxis_for_degF(ax, time, temp_in_K):\n",
    "        # Add a secondary axis with temperatures represented in F\n",
    "        ax_F = ax.twinx()\n",
    "        # Get limits to match with the left axis\n",
    "        ax_F.set_ylim([tem_conv_CtoF(ax.get_ylim()[0]),tem_conv_CtoF(ax.get_ylim()[1])])\n",
    "        # plot a \"scaler\" variable and make it invisible\n",
    "        ax_F.plot(time, tem_conv_CtoF(temp_in_K-273.15), linewidth=0.0)\n",
    "        ax_F.set_ylabel('temperature [$^\\\\circ$F]')\n",
    "        configure_axes(ax_F)\n",
    "        #ax.grid(False)\n",
    "        #ax.xaxis.grid()\n",
    "\n",
    "def hide_tick_labels(ax):\n",
    "    '''Removes labels and ticks. Kwargs: bottom controls the ticks, labelbottom the tick labels\n",
    "    '''\n",
    "    ax.tick_params(axis = 'x',labelbottom='off',bottom='off')"
   ]
  },
  {
   "cell_type": "markdown",
   "metadata": {},
   "source": [
    "## Read annual results\n",
    "\n",
    "This section also clears the old results to free up memory."
   ]
  },
  {
   "cell_type": "code",
   "execution_count": 42,
   "metadata": {},
   "outputs": [
    {
     "name": "stdout",
     "output_type": "stream",
     "text": [
      "Cleaned up memory.\n"
     ]
    }
   ],
   "source": [
    "# Free up storage, then read new data\n",
    "import gc\n",
    "#r_all_without_diverse_loads = list()\n",
    "#r_all_with_diverse_loads = list()\n",
    "#r_all = list()\n",
    "gc.collect()\n",
    "\n",
    "print(\"Cleaned up memory.\")"
   ]
  },
  {
   "cell_type": "markdown",
   "metadata": {},
   "source": [
    "Read result file. This takes around 3 minutes."
   ]
  },
  {
   "cell_type": "code",
   "execution_count": 5,
   "metadata": {},
   "outputs": [
    {
     "name": "stdout",
     "output_type": "stream",
     "text": [
      "Read base results\n"
     ]
    }
   ],
   "source": [
    "list_of_variables = ['ETot.y',\n",
    "                     \"CPUtime\"]\n",
    "#r_base=get_partial_results('base', list_of_variables)\n",
    "r_base=get_results('base')\n",
    "print(\"Read base results\")\n"
   ]
  },
  {
   "cell_type": "code",
   "execution_count": 6,
   "metadata": {},
   "outputs": [
    {
     "name": "stdout",
     "output_type": "stream",
     "text": [
      "Total energy use: 24.67 GWh\n"
     ]
    }
   ],
   "source": [
    "print(f\"Total energy use: {r_base.max('ETot.y')/3600/1E9:.2f} GWh\")\n"
   ]
  },
  {
   "cell_type": "markdown",
   "metadata": {},
   "source": [
    "### Energy use\n"
   ]
  },
  {
   "cell_type": "code",
   "execution_count": 81,
   "metadata": {
    "scrolled": true
   },
   "outputs": [
    {
     "name": "stdout",
     "output_type": "stream",
     "text": [
      "All electricity use = [220.24158301 220.24158301]\n",
      "Sum of plot = [220.24158674 220.24158674]\n"
     ]
    }
   ],
   "source": [
    "def plot_energy(results : list, case_name: list):\n",
    "    from buildingspy.io.outputfile import Reader\n",
    "    import matplotlib.pyplot as plt\n",
    "\n",
    "    plt.clf()\n",
    "\n",
    "    n = len(results)\n",
    "    # Conversion from J to kWh/m2\n",
    "    conv = 1/3600./1000./AFlo\n",
    "    width = 0.5       # the width of the bars: can also be len(x) sequence\n",
    "\n",
    "    EHeaPum = np.zeros(n)\n",
    "    EComPla = np.zeros(n)\n",
    "    EPumETS = np.zeros(n)\n",
    "    EPumDis = np.zeros(n)\n",
    "    EPumPla = np.zeros(n)\n",
    "    EFanDry = np.zeros(n)\n",
    "    EFanBui = np.zeros(n)\n",
    "    EEleNon = np.zeros(n)\n",
    "    EAllTot = np.zeros(n)\n",
    "\n",
    "\n",
    "    idx = np.array([i for i in range(n)])\n",
    "    for i in idx:\n",
    "        res = results[i]\n",
    "\n",
    "        EHeaPum[i]        = res.max('EHeaPum.y') * conv\n",
    "        EComPla[i]        = res.max('EComPla.y') * conv\n",
    "        EPumETS[i]        = res.max('EPumETS.y') * conv\n",
    "        EPumDis[i]        = res.max('EPumDis.y') * conv\n",
    "        EPumPla[i]        = res.max('EPumPla.y') * conv\n",
    "        EFanDry[i]        = res.max('EFanDryCoo.y') * conv\n",
    "        EFanBui[i]        = res.max('EFanBui.y') * conv\n",
    "        EEleNon[i]        = res.max('EEleNonHvaETS.y') * conv\n",
    "        EAllTot[i]        = res.max('ETot.y') * conv\n",
    "\n",
    "\n",
    "    bottom = np.zeros(n)\n",
    "    p0 = plt.bar(idx, EHeaPum, width, bottom=bottom)\n",
    "    bottom = np.add(bottom, EHeaPum)\n",
    "    p1 = plt.bar(idx, EComPla, width, bottom=bottom)\n",
    "    bottom = np.add(bottom, EComPla)\n",
    "    p2 = plt.bar(idx, EPumETS, width, bottom=bottom)\n",
    "    bottom = np.add(bottom, EPumETS)\n",
    "    p3 = plt.bar(idx, EPumDis, width, bottom=bottom)\n",
    "    bottom = np.add(bottom, EPumDis)\n",
    "    p4 = plt.bar(idx, EPumPla, width, bottom=bottom)\n",
    "    bottom = np.add(bottom, EPumPla)\n",
    "    p5 = plt.bar(idx, EFanDry, width, bottom=bottom)\n",
    "    bottom = np.add(bottom, EFanDry)\n",
    "    p6 = plt.bar(idx, EFanBui, width, bottom=bottom)\n",
    "    bottom = np.add(bottom, EFanBui)\n",
    "    p7 = plt.bar(idx, EEleNon, width, bottom=bottom)\n",
    "    bottom = np.add(bottom, EEleNon)\n",
    "\n",
    "    print(f\"All electricity use = {EAllTot}\")\n",
    "    print(f\"Sum of plot = {bottom}\")\n",
    "    np.testing.assert_allclose(EAllTot, bottom, err_msg=\"Expected energy to be the same.\")\n",
    "\n",
    "    plt.ylabel('site electricity use $\\mathrm{[kWh/(m^2 \\cdot a)]}$')\n",
    "    plt.xticks(idx, ('base case', 'base case')) # fixme\n",
    "    plt.tick_params(axis=u'x', which=u'both',length=0)\n",
    "\n",
    "    #plt.yticks(np.arange(0, 81, 10))\n",
    "    plt.legend((p0[0], p1[0], p2[0], p3[0], p4[0], p5[0], p6[0], p7[0]), \\\n",
    "               ('heat pump ETS', 'heat pump plant', 'pumps ETS', 'pumps district', 'pumps plant', 'fans plant', 'fans buildings', 'electricity buildings'), \\\n",
    "                bbox_to_anchor=(1.5, 1.0), loc='upper right')\n",
    "    plt.tight_layout()\n",
    "\n",
    "    save_plot(plt, \"energy\")\n",
    "\n",
    "    # Write result to console and file\n",
    "##    eSit = [0, 0]\n",
    "##    for i in [0, 1]:\n",
    "##        eSit[i] = hea[i]+cooSen[i]+cooLat[i]+fan[i]\n",
    "\n",
    "##    str = \"\"\"\\\n",
    "##.. table:: Heating, cooling, fan and total site HVAC energy, and savings of guideline 36 case versus base case.\n",
    "##\n",
    "##   ===================================== ===================================== ====================================== ====================================== =====\n",
    "##   :math:`E_{{h}} \\quad [kWh/(m^2\\,a)]`    :math:`E_{{c}} \\quad [kWh/(m^2\\,a)]`    :math:`E_{{f}} \\quad [kWh/(m^2\\,a)]`     :math:`E_{{tot}} \\quad [kWh/(m^2\\,a)]`     [%]\n",
    "##   ===================================== ===================================== ====================================== ====================================== =====\n",
    "##   {:37.4} {:37.4}  {:37.4}  {:37.4}\n",
    "##   {:37.4} {:37.4}  {:37.4}  {:37.4}  {:4.3}\n",
    "##   ===================================== ===================================== ====================================== ====================================== =====\n",
    "##\n",
    "##  \"\"\".format(\\\n",
    "##            hea[0], coo[0], fan[0], eSit[0], \\\n",
    "##            hea[1], coo[1], fan[1], eSit[1], (1-eSit[1]/eSit[0])*100.)\n",
    "    def save_rst(str, file_name):\n",
    "        ''' Save the string `str` to the rst file `file_name.rst`\n",
    "        '''\n",
    "        print(str)\n",
    "        with open(os.path.join(\"img\", \"{}.rst\".format(file_name)), \"w\") as fil:\n",
    "            fil.write(str)\n",
    "\n",
    "##    save_rst(str, \"site_energy\")\n",
    "plot_energy([r_base, r_base], ['base', 'base'])"
   ]
  },
  {
   "cell_type": "markdown",
   "metadata": {},
   "source": [
    "### Diagnostic output"
   ]
  },
  {
   "cell_type": "code",
   "execution_count": 8,
   "metadata": {},
   "outputs": [
    {
     "name": "stdout",
     "output_type": "stream",
     "text": [
      "CPUtime, base 16.64 h\n"
     ]
    }
   ],
   "source": [
    "print(f\"CPUtime, base {r_base.max('CPUtime')/3600.:.2f} h\")"
   ]
  },
  {
   "cell_type": "markdown",
   "metadata": {},
   "source": [
    "## Loop temperatures"
   ]
  },
  {
   "cell_type": "code",
   "execution_count": 84,
   "metadata": {},
   "outputs": [],
   "source": [
    "plt.clf()\n",
    "\n",
    "(tP, TLooMin)     = r_base.values('cenPla.TLooMin')\n",
    "(tP, TLooMax)     = r_base.values('cenPla.TLooMax')\n",
    "(t, TLooMinMea)  = r_base.values('cenPla.TLooMinMea')\n",
    "(t, TLooMaxMea)  = r_base.values('cenPla.TLooMaxMea')\n",
    "(t, TSoiPer)     = r_base.values('dTSoiPer.T')\n",
    "(t, TSoiCen)     = r_base.values('dTSoiCen.T')\n",
    "\n",
    "fig = plt.figure()\n",
    "ax = fig.add_subplot(211)\n",
    "ax.plot(t/24./3600., TLooMinMea-273.15, 'b', label='Minimum loop temperature', linewidth=0.5)\n",
    "ax.plot(t/24./3600., TLooMaxMea-273.15, 'r', label='Maximum loop temperature', linewidth=0.5)\n",
    "ax.plot(t/24./3600., TSoiCen-273.15, 'k', label='Average temperature center borefield', linewidth=1.5)\n",
    "ax.plot(t/24./3600., TSoiPer-273.15, 'g', label='Average temperature perimeter borefield', linewidth=1.5)\n",
    "\n",
    "rect1 = matplotlib.patches.Rectangle((tP[0], 0), 365, TLooMin[0]-273.15, color='mistyrose')\n",
    "ax.add_patch(rect1)\n",
    "rect1 = matplotlib.patches.Rectangle((tP[0], TLooMax[0]-273.15), 365, 30, color='mistyrose')\n",
    "ax.add_patch(rect1)\n",
    "\n",
    "ax.set_xlabel('time [d]')\n",
    "ax.set_ylabel(r'temperature [$^\\circ$C]')\n",
    "#ax.set_xticks(list(range(25)))\n",
    "ax.set_xlim([0, 365])\n",
    "ax.set_ylim([10, 25])\n",
    "ax.legend(bbox_to_anchor=(1.05, 1.0), loc='upper left')\n",
    "ax.set_aspect(10)\n",
    "ax.grid(True)\n",
    "\n",
    "# Energy\n",
    "(t, EETS)     = r_base.values('ETotEts.y')\n",
    "(t, EHexDry)  = r_base.values('cenPla.EHexEne.y')\n",
    "(t, EBorCen)  = r_base.values('dTSoiCen.E')\n",
    "(t, EBorPer)  = r_base.values('dTSoiPer.E')\n",
    "(t, EHPCen)   = r_base.values('cenPla.EHeaPumEne.y')\n",
    "QPip = np.zeros(len(t))\n",
    "for i in range(1, 6):\n",
    "    (_, tmp)     = r_base.values(f'dis.heatPorts[{i}].Q_flow')\n",
    "    QPip = np.add(QPip, tmp)\n",
    "\n",
    "EPip = np.zeros(len(t))\n",
    "for i in range(len(t)-1):\n",
    "    EPip[i+1] = EPip[i] + (QPip[i+1]+QPip[i])/2.*(t[i+1]-t[i])\n",
    "\n",
    "ax = fig.add_subplot(212)\n",
    "ax.plot(t/24./3600., -EETS/3600./1E9,    'b', label='Energy from ETS heat exchanger', linewidth=0.5)\n",
    "ax.plot(t/24./3600., EHexDry/3600./1E9, 'r', label='Energy from central plant economizer', linewidth=0.5)\n",
    "ax.plot(t/24./3600., -EBorCen/3600./1E9, 'k-+', label='Energy from center borefield', linewidth=0.5, markevery=60000)\n",
    "ax.plot(t/24./3600., -EBorPer/3600./1E9, 'k-*', label='Energy from perimeter borefield', linewidth=0.5, markevery=60000)\n",
    "ax.plot(t/24./3600., EPip/3600./1E9,    'k-o', label='Energy from soil into distribution pipe', linewidth=0.5, markevery=60000)\n",
    "ax.plot(t/24./3600., EHPCen/3600./1E9,  'g', label='Energy from central heat pump', linewidth=0.5)\n",
    "\n",
    "\n",
    "ax.set_xlabel('time [d]')\n",
    "ax.set_ylabel(r'energy [GWh]')\n",
    "#ax.set_xticks(list(range(25)))\n",
    "ax.set_xlim([0, 365])\n",
    "ax.set_ylim([-11, 11])\n",
    "ax.legend(bbox_to_anchor=(1.05, 1.0), loc='upper left')\n",
    "ax.grid(True)\n",
    "plt.tight_layout()\n",
    "#plt.title()\n",
    "\n",
    "save_plot(plt, \"loopTemperatures\")\n"
   ]
  },
  {
   "cell_type": "code",
   "execution_count": 65,
   "metadata": {},
   "outputs": [
    {
     "data": {
      "text/plain": [
       "range(1, 6)"
      ]
     },
     "execution_count": 65,
     "metadata": {},
     "output_type": "execute_result"
    }
   ],
   "source": [
    "len(EBorPer)\n",
    "range(1, 6)"
   ]
  },
  {
   "cell_type": "code",
   "execution_count": 15,
   "metadata": {},
   "outputs": [
    {
     "data": {
      "text/plain": [
       "34401.9"
      ]
     },
     "execution_count": 15,
     "metadata": {},
     "output_type": "execute_result"
    }
   ],
   "source": [
    "344019/10"
   ]
  },
  {
   "cell_type": "code",
   "execution_count": null,
   "metadata": {},
   "outputs": [],
   "source": []
  }
 ],
 "metadata": {
  "kernelspec": {
   "display_name": "Python 3",
   "language": "python",
   "name": "python3"
  },
  "language_info": {
   "codemirror_mode": {
    "name": "ipython",
    "version": 3
   },
   "file_extension": ".py",
   "mimetype": "text/x-python",
   "name": "python",
   "nbconvert_exporter": "python",
   "pygments_lexer": "ipython3",
   "version": "3.8.10"
  }
 },
 "nbformat": 4,
 "nbformat_minor": 1
}
