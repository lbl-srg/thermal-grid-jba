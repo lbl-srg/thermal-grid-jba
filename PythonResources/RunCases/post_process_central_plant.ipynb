{
 "cells": [
  {
   "cell_type": "markdown",
   "metadata": {},
   "source": [
    "# Post-processing of case study for central plant results\n",
    "\n",
    "## Usage notes\n",
    "\n",
    "All figures will be written to the directory `img` as pdf and png files.\n",
    "\n",
    "I run this notebook on Ubuntu, using this version of matplotlib:\n",
    "```\n",
    "pip freeze | grep matplotlib\n",
    "matplotlib==3.5.1\n",
    "```\n",
    "Some older versions return an error because they do not support some plot configurations.\n",
    "I set in the virtual machine the RAM to 12GB as 8GB is not sufficient to parse two annual result files."
   ]
  },
  {
   "cell_type": "markdown",
   "metadata": {},
   "source": [
    "## Import required libraries"
   ]
  },
  {
   "cell_type": "code",
   "execution_count": null,
   "metadata": {},
   "outputs": [
    {
     "data": {
      "text/plain": [
       "<module 'post_process_configurations' from '/mnt/oldroot/home/mwetter/backup/thermal-grid-jba-main/PythonResources/RunCases/post_process_configurations.py'>"
      ]
     },
     "execution_count": 15,
     "metadata": {},
     "output_type": "execute_result"
    }
   ],
   "source": [
    "import os\n",
    "import cases as cas\n",
    "import importlib\n",
    "import post_process_configurations as con\n",
    "importlib.reload(con)\n"
   ]
  },
  {
   "cell_type": "markdown",
   "metadata": {},
   "source": [
    "## Read annual results\n",
    "\n",
    "This section also clears the old results to free up memory."
   ]
  },
  {
   "cell_type": "code",
   "execution_count": 2,
   "metadata": {},
   "outputs": [
    {
     "name": "stdout",
     "output_type": "stream",
     "text": [
      "Cleaned up memory.\n"
     ]
    }
   ],
   "source": [
    "# Free up storage, then read new data\n",
    "import gc\n",
    "gc.collect()\n",
    "\n",
    "print(\"Cleaned up memory.\")"
   ]
  },
  {
   "cell_type": "markdown",
   "metadata": {},
   "source": [
    "Read result file. This takes around 3 minutes per result file."
   ]
  },
  {
   "cell_type": "code",
   "execution_count": null,
   "metadata": {},
   "outputs": [
    {
     "name": "stdout",
     "output_type": "stream",
     "text": [
      "Reading result files\n",
      "Read base results\n",
      "Read base_hBor_0.8 results\n",
      "Read base_hBor_1.2 results\n"
     ]
    }
   ],
   "source": [
    "#list_of_variables = ['ETot.y',\n",
    "#                     \"CPUtime\"]\n",
    "#r_base=get_partial_results('base', list_of_variables)\n",
    "print(\"Reading result files\")\n",
    "r_base=con.get_results('base')\n",
    "print(\"Read base results\")\n",
    "r_base_hBor_0_8=con.get_results('base_hBor_0.8')\n",
    "print(\"Read base_hBor_0.8 results\")\n",
    "r_base_hBor_1_2=con.get_results('base_hBor_1.2')\n",
    "print(\"Read base_hBor_1.2 results\")\n",
    "r_base_dDis_0_8=con.get_results('base_dDis_0.8')\n",
    "print(\"Read base_hBor_0.8 results\")\n",
    "r_base_dDis_1_2=con.get_results('base_dDis_1.2')\n",
    "print(\"Read base_hBor_1.2 results\")\n"
   ]
  },
  {
   "cell_type": "code",
   "execution_count": 12,
   "metadata": {},
   "outputs": [
    {
     "name": "stdout",
     "output_type": "stream",
     "text": [
      "Base case: Total energy use: 22.29 GWh\n",
      "Base case: Total energy use: 199.06 kWh/(m a)\n",
      "Base case: Total energy cost: 3.24 million USD per year\n",
      "Base case: Total energy cost: 28.97 USD/(m2 a)\n"
     ]
    }
   ],
   "source": [
    "print(f\"Base case: Total energy use: {r_base.max('ETot.y')/3600/1E9:.2f} GWh\")\n",
    "print(f\"Base case: Total energy use: {r_base.max('ETot.y')/3600/1E9/con.AFlo*1e6:.2f} kWh/(m a)\")\n",
    "\n",
    "print(f\"Base case: Total energy cost: {r_base.max('totEleCos.y')/1E6:.2f} million USD per year\")\n",
    "print(f\"Base case: Total energy cost: {r_base.max('totEleCos.y')/con.AFlo:.2f} USD/(m2 a)\")\n",
    "\n"
   ]
  },
  {
   "cell_type": "code",
   "execution_count": 22,
   "metadata": {},
   "outputs": [
    {
     "name": "stdout",
     "output_type": "stream",
     "text": [
      "CPUtime, base 17.07 h\n"
     ]
    }
   ],
   "source": [
    "print(f\"CPUtime, base {r_base.max('CPUtime')/3600.:.2f} h\")"
   ]
  },
  {
   "cell_type": "markdown",
   "metadata": {},
   "source": [
    "### Energy use\n"
   ]
  },
  {
   "cell_type": "code",
   "execution_count": null,
   "metadata": {
    "scrolled": true
   },
   "outputs": [],
   "source": [
    "con.plot_energy([r_base, r_base_hBor_0_8, r_base_hBor_1_2, r_base_dDis_0_8, r_base_dDis_1_2], ['base', '$0.8 \\, h_{bor}$', '$1.2 \\, h_{bor}$', '$0.8 \\, d_{dis}$', '$1.2 \\, d_{dis}$'])\n"
   ]
  },
  {
   "cell_type": "markdown",
   "metadata": {},
   "source": [
    "## Loop temperatures"
   ]
  },
  {
   "cell_type": "code",
   "execution_count": 24,
   "metadata": {},
   "outputs": [
    {
     "name": "stdout",
     "output_type": "stream",
     "text": [
      "nCas = 1\n"
     ]
    }
   ],
   "source": [
    "importlib.reload(con)\n",
    "con.plot_loop_temperatures([r_base], [\"base\"])\n"
   ]
  },
  {
   "cell_type": "markdown",
   "metadata": {},
   "source": [
    "# Plot plant operation"
   ]
  },
  {
   "cell_type": "code",
   "execution_count": 30,
   "metadata": {},
   "outputs": [],
   "source": [
    "# List of days to plot\n",
    "days = [\n",
    "    {\n",
    "        \"xlim\": [31, 32],\n",
    "        \"date\": \"Feb. 1\",\n",
    "        \"name\": \"Winter\"\n",
    "    },\n",
    "    {\n",
    "        \"xlim\": [160, 161],\n",
    "        \"date\": \"June 10\",\n",
    "        \"name\": \"Spring\"\n",
    "    },\n",
    "    {\n",
    "        \"xlim\": [213, 214],\n",
    "        \"date\": \"Aug. 2\",\n",
    "        \"name\": \"Summer\"\n",
    "    }\n",
    "]\n",
    "# List of variables to plot for each subplot\n",
    "lis = [\n",
    "        {\n",
    "            \"y_label\": \"Controls\",\n",
    "            \"y_lim\": [-3, 3],\n",
    "            \"factor\": 1,\n",
    "            \"offset\": 0,\n",
    "            \"vars\": [\n",
    "                {\n",
    "                    \"label\": \"$y_{st}$\",\n",
    "                    \"var\": \"cenPla.gen.ind.ySt\",\n",
    "                    \"linewidth\": 1,\n",
    "                    },\n",
    "                    {\n",
    "                    \"label\": \"$y_{pla}$\",\n",
    "                    \"var\": \"cenPla.gen.ind.yPlaOut\",\n",
    "                    }\n",
    "                ]\n",
    "        },\n",
    "        {\n",
    "            \"y_label\": \"Temperature\\n[$^\\\\circ$C]\",\n",
    "            \"y_lim\": [10, 28],\n",
    "            \"factor\": 1,\n",
    "            \"offset\": -273.15,\n",
    "            \"vars\": [\n",
    "                 {\n",
    "                    \"label\": \"$T_{pla,hea,set}$\",\n",
    "                    \"var\": \"cenPla.gen.ind.TActPlaHeaSet\",\n",
    "                    \"linewidth\": 1,\n",
    "                    \"marker\": \">\",\n",
    "                    \"color\": \"r\",\n",
    "                    \"skip_if_ySea\": 3\n",
    "                    },\n",
    "                 {\n",
    "                    \"label\": \"$T_{pla,coo,set}$\",\n",
    "                    \"var\": \"cenPla.gen.ind.TActPlaCooSet\",\n",
    "                    \"linewidth\": 1,\n",
    "                    \"marker\": \">\",\n",
    "                    \"color\": \"r\",\n",
    "                    \"skip_if_ySea\": 1\n",
    "                    },\n",
    "                {\n",
    "                    \"label\": \"$T_{pla,in}$\",\n",
    "                    \"var\": \"TDisWatRet.T\",\n",
    "                    \"linewidth\": 0.5,\n",
    "                    \"marker\": \">\",\n",
    "                    \"color\": \"k\"\n",
    "                    },\n",
    "                    {\n",
    "                    \"label\": \"$T_{pla,out}$\",\n",
    "                    \"var\": \"cenPla.gen.senTemGenLea.T\",\n",
    "                    \"linewidth\": 0.5,\n",
    "                    \"marker\": \"<\",\n",
    "                    \"color\": \"k\"\n",
    "                    }\n",
    "            ]\n",
    "        },\n",
    "        {\n",
    "            \"y_label\": \"Temperature\\n[$^\\\\circ$C]\",\n",
    "            \"y_lim\": [10, 28],\n",
    "            \"factor\": 1,\n",
    "            \"offset\": -273.15,\n",
    "            \"vars\": [\n",
    "#                    {\n",
    "#                    \"label\": \"$T_{bor,per,ret}$\",\n",
    "#                    \"var\": \"cenPla.gen.senTemBorPerRet.T\",\n",
    "#                    \"marker\": \"<\",\n",
    "#                    \"linestyle\": \"--\",\n",
    "#                    \"color\": \"g\"\n",
    "#                    },\n",
    "#                    {\n",
    "#                    \"label\": \"$T_{bor,cen,sup}$\",\n",
    "#                    \"var\": \"cenPla.gen.senTemBorCenSup.T\",\n",
    "#                    \"linestyle\": \"-.\",\n",
    "#                    \"color\": \"r\",\n",
    "#                    \"marker\": \">\"\n",
    "#                    },\n",
    "#                    {\n",
    "#                    \"label\": \"$T_{bor,cen,ret}$\",\n",
    "#                    \"var\": \"cenPla.gen.senTemBorCenRet.T\",\n",
    "#                    \"linestyle\": \"-.\",\n",
    "#                    \"color\": \"r\",\n",
    "#                    \"marker\": \"<\"\n",
    "#                    },\n",
    "                    {\n",
    "                    \"label\": \"$T_{hea,pum,sup}$\",\n",
    "                    \"var\": \"cenPla.gen.senTemHeaPumEnt.T\",\n",
    "                    \"color\": \"b\",\n",
    "                    \"marker\": \">\"\n",
    "                    },\n",
    "                    {\n",
    "                    \"label\": \"$T_{hea,pum,ret}$\",\n",
    "                    \"var\": \"cenPla.gen.senTemHeaPumLea.T\",\n",
    "                    \"color\": \"b\",\n",
    "                    \"marker\": \"<\"\n",
    "                    }\n",
    "                ]\n",
    "            },\n",
    "#            {\n",
    "#            \"y_label\": \"Mass flow\\nrate [kg/s]\",\n",
    "#            \"y_lim\": [0, 500],\n",
    "#            \"factor\": 1,\n",
    "#            \"offset\": 0,\n",
    "#            \"vars\": [\n",
    "#                    {\n",
    "#                    \"label\": \"$\\dot m_{eco}$\",\n",
    "#                    \"var\": \"cenPla.gen.hex.m2_flow\",\n",
    "#                    },\n",
    "#                    {\n",
    "#                    \"label\": \"$\\dot m_{bor,per}$\",\n",
    "#                    \"var\": \"cenPla.gen.senTemBorPerRet.port_a.m_flow\",\n",
    "#                    \"marker\": \"o\",\n",
    "#                    },\n",
    "#                    {\n",
    "#                    \"label\": \"$\\dot m_{bor,cen}$\",\n",
    "#                    \"var\": \"cenPla.gen.senTemBorCenRet.port_a.m_flow\",\n",
    "#                    \"marker\": \"x\",\n",
    "#                    },\n",
    "#                    {\n",
    "#                    \"label\": \"$\\dot m_{hea,pum}$\",\n",
    "#                    \"var\": \"cenPla.gen.heaPum.m1_flow\",\n",
    "#                    \"marker\": \"v\",\n",
    "#                    }\n",
    "#                    ]\n",
    "#            },\n",
    "            {\n",
    "            \"y_label\": \"Heat flow\\nrate [MW]\",\n",
    "            \"y_lim\": [-8, 8],\n",
    "            \"factor\": 1E-6,\n",
    "            \"offset\": 0,\n",
    "            \"vars\": [\n",
    "#                    {\n",
    "#                    \"label\": \"$\\dot Q_{eco}$\",\n",
    "#                    \"var\": \"cenPla.gen.hex.Q2_flow\",\n",
    "#                    },\n",
    "                    {\n",
    "                    \"label\": \"$\\dot Q_{bor,per}$\",\n",
    "                    \"var\": \"cenPla.borFie.QPer_flow\",\n",
    "                    \"marker\": \"o\",\n",
    "                    },\n",
    "                    {\n",
    "                    \"label\": \"$\\dot Q_{bor,cen}$\",\n",
    "                    \"var\": \"cenPla.borFie.QCen_flow\",\n",
    "                    \"marker\": \"x\",\n",
    "                    },\n",
    "                    {\n",
    "                    \"label\": \"$\\dot Q_{hea,pum}$\",\n",
    "                    \"var\": \"cenPla.gen.heaPum.Q1_flow\",\n",
    "                    \"marker\": \"v\",\n",
    "                    }\n",
    "                    ]\n",
    "        }\n",
    "    ]\n",
    "\n",
    "con.plotPlant(lis, r_base, \"plant\", days)"
   ]
  },
  {
   "cell_type": "markdown",
   "metadata": {},
   "source": [
    "# Plot borefield energy"
   ]
  },
  {
   "cell_type": "code",
   "execution_count": 32,
   "metadata": {},
   "outputs": [
    {
     "name": "stderr",
     "output_type": "stream",
     "text": [
      "/mnt/oldroot/home/mwetter/backup/thermal-grid-jba-main/PythonResources/RunCases/post_process_configurations.py:405: RuntimeWarning: More than 20 figures have been opened. Figures created through the pyplot interface (`matplotlib.pyplot.figure`) are retained until explicitly closed and may consume too much memory. (To control this warning, see the rcParam `figure.max_open_warning`).\n",
      "  fig, axs = plt.subplots(nrows=len(lis), ncols=1, sharex=True)\n"
     ]
    }
   ],
   "source": [
    "# List of days to plot\n",
    "days = [\n",
    "    {\n",
    "        \"xlim\": [0, 365],\n",
    "        \"date\": \"\",\n",
    "        \"name\": \"Annual\"\n",
    "    }\n",
    "]\n",
    "# List of variables to plot for each subplot\n",
    "lis = [\n",
    "        {\n",
    "            \"y_label\": \"Borefield energy [GWh]\",\n",
    "            \"y_lim\": [-3, 3],\n",
    "            \"factor\": 1/3600/1E9,\n",
    "            \"offset\": 0,\n",
    "            \"vars\": [\n",
    "                {\n",
    "                    \"label\": \"Modelica $E_{bor}$\",\n",
    "                    \"var\": \"EBor.y\",\n",
    "                    \"linewidth\": 1\n",
    "                    },\n",
    "                    {\n",
    "                    \"label\": \"Modelica $E_{bor,per}$\",\n",
    "                    \"var\": \"EBorPer.y\",\n",
    "                    \"linewidth\": 1\n",
    "                    },\n",
    "                    {\n",
    "                    \"label\": \"Modelica $E_{bor,cen}$\",\n",
    "                    \"var\": \"EBorCen.y\",\n",
    "                    \"linewidth\": 1\n",
    "                    },\n",
    "                    {\n",
    "                    \"label\": \"MILP $E_{bor}$\",\n",
    "                    \"var\": \"borMil.E\",\n",
    "                    \"linestyle\": \"--\",\n",
    "                    \"mark_every\": 50\n",
    "                    }\n",
    "                ]\n",
    "        }\n",
    "]\n",
    "\n",
    "con.plotOneFigure(lis, r_base, \"borefieldEnergy\", days)"
   ]
  },
  {
   "cell_type": "code",
   "execution_count": null,
   "metadata": {},
   "outputs": [],
   "source": []
  }
 ],
 "metadata": {
  "kernelspec": {
   "display_name": "Python 3",
   "language": "python",
   "name": "python3"
  },
  "language_info": {
   "codemirror_mode": {
    "name": "ipython",
    "version": 3
   },
   "file_extension": ".py",
   "mimetype": "text/x-python",
   "name": "python",
   "nbconvert_exporter": "python",
   "pygments_lexer": "ipython3",
   "version": "3.8.10"
  }
 },
 "nbformat": 4,
 "nbformat_minor": 1
}
