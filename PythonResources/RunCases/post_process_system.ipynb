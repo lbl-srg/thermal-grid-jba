{
 "cells": [
  {
   "cell_type": "markdown",
   "metadata": {},
   "source": [
    "# Post-processing of case study for central plant results\n",
    "\n",
    "## Usage notes\n",
    "\n",
    "All figures will be written to the directory `img` as pdf and png files.\n",
    "\n",
    "I run this notebook on Ubuntu, using this version of matplotlib:\n",
    "```\n",
    "pip freeze | grep matplotlib\n",
    "matplotlib==3.5.1\n",
    "```\n",
    "Some older versions return an error because they do not support some plot configurations.\n",
    "I set in the virtual machine the RAM to 12GB as 8GB is not sufficient to parse two annual result files."
   ]
  },
  {
   "cell_type": "markdown",
   "metadata": {},
   "source": [
    "## Import required libraries"
   ]
  },
  {
   "cell_type": "code",
   "execution_count": 1,
   "metadata": {
    "execution": {
     "iopub.execute_input": "2025-07-16T21:02:00.183939Z",
     "iopub.status.busy": "2025-07-16T21:02:00.183295Z",
     "iopub.status.idle": "2025-07-16T21:02:00.782266Z",
     "shell.execute_reply": "2025-07-16T21:02:00.781646Z"
    }
   },
   "outputs": [
    {
     "data": {
      "text/plain": [
       "<module 'cases' from '/home/mwetter/test/thermal-grid-jba-main/PythonResources/RunCases/cases.py'>"
      ]
     },
     "execution_count": 1,
     "metadata": {},
     "output_type": "execute_result"
    }
   ],
   "source": [
    "import cases as cas\n",
    "import importlib\n",
    "import post_process_configurations as con\n",
    "importlib.reload(con)\n",
    "importlib.reload(cas)"
   ]
  },
  {
   "cell_type": "markdown",
   "metadata": {},
   "source": [
    "## Read annual results\n",
    "\n",
    "This section also clears the old results to free up memory."
   ]
  },
  {
   "cell_type": "code",
   "execution_count": 2,
   "metadata": {
    "execution": {
     "iopub.execute_input": "2025-07-16T21:02:00.827238Z",
     "iopub.status.busy": "2025-07-16T21:02:00.826526Z",
     "iopub.status.idle": "2025-07-16T21:02:00.875565Z",
     "shell.execute_reply": "2025-07-16T21:02:00.875003Z"
    }
   },
   "outputs": [
    {
     "name": "stdout",
     "output_type": "stream",
     "text": [
      "Cleaned up memory.\n"
     ]
    }
   ],
   "source": [
    "# Free up storage, then read new data\n",
    "import gc\n",
    "gc.collect()\n",
    "\n",
    "print(\"Cleaned up memory.\")"
   ]
  },
  {
   "cell_type": "markdown",
   "metadata": {},
   "source": [
    "Get list of cases"
   ]
  },
  {
   "cell_type": "code",
   "execution_count": 3,
   "metadata": {
    "execution": {
     "iopub.execute_input": "2025-07-16T21:02:00.878428Z",
     "iopub.status.busy": "2025-07-16T21:02:00.878263Z",
     "iopub.status.idle": "2025-07-16T21:02:00.882719Z",
     "shell.execute_reply": "2025-07-16T21:02:00.882185Z"
    }
   },
   "outputs": [],
   "source": [
    "# Build list of case files, their labels out output file prefix.\n",
    "# These are used to read in files and create plots.\n",
    "# This structure allows removing a case from the post-processing in case the simulation did not converge.\n",
    "import cases as cas\n",
    "cases = cas.get_cases()\n",
    "\n",
    "# Store commit in sim_version dictionary\n",
    "import os\n",
    "verFil = os.path.join(\"simulations\", \"base\", \"version.txt\")\n",
    "sim_version = dict()\n",
    "if os.path.exists(verFil):\n",
    "    with open(verFil, 'r') as fil:\n",
    "        s = fil.read()\n",
    "        kv_pairs = [\n",
    "            tuple(s_str.split('='))\n",
    "            for s_str in s.split('\\n')\n",
    "        ]\n",
    "        for ele in kv_pairs:\n",
    "          if ele[0] != '': # Skips empty line\n",
    "            sim_version[ele[0]] = ele[1]\n",
    "\n",
    "#print(sim_version)\n",
    "\n"
   ]
  },
  {
   "cell_type": "markdown",
   "metadata": {},
   "source": [
    "Read result file. This takes around 3 minutes per result file.\n",
    "Not all results are read at once, as this would require a lot of memory,\n",
    "and caused a Python kernel error."
   ]
  },
  {
   "cell_type": "code",
   "execution_count": 4,
   "metadata": {
    "execution": {
     "iopub.execute_input": "2025-07-16T21:02:00.886310Z",
     "iopub.status.busy": "2025-07-16T21:02:00.886045Z",
     "iopub.status.idle": "2025-07-16T21:10:26.181688Z",
     "shell.execute_reply": "2025-07-16T21:10:26.180377Z"
    }
   },
   "outputs": [
    {
     "name": "stdout",
     "output_type": "stream",
     "text": [
      "Reading result files\n",
      "Number of cases: 18\n",
      "Number of cases to read: 9\n",
      "Reading base\n",
      "\n",
      "Read base\n",
      "\n",
      "Reading base_hBor_0_8\n",
      "\n",
      "Read base_hBor_0_8\n",
      "\n",
      "Reading base_hBor_1_2\n",
      "\n",
      "Read base_hBor_1_2\n",
      "\n",
      "Reading base_dDis_0_8\n",
      "\n",
      "Read base_dDis_0_8\n",
      "\n",
      "Reading base_dDis_1_2\n",
      "\n",
      "Read base_dDis_1_2\n",
      "\n",
      "Reading base_TCon_20\n",
      "\n",
      "Read base_TCon_20\n",
      "\n",
      "Reading base_TCon_30\n",
      "\n",
      "Read base_TCon_30\n",
      "\n",
      "Reading base_noEco\n",
      "\n",
      "Read base_noEco\n",
      "\n",
      "Reading base_TMY3\n",
      "\n",
      "Read base_TMY3\n",
      "\n",
      "Reading 9 cases.\n",
      "Finished reading result files.\n"
     ]
    }
   ],
   "source": [
    "importlib.reload(con)\n",
    "print(\"Reading result files\")\n",
    "cases_to_read = [\"base\", \"base_hBor_0_8\", \"base_hBor_1_2\", \"base_dDis_0_8\", \"base_dDis_1_2\", \"base_TCon_20\", \"base_TCon_30\", \\\n",
    "                 \"base_noEco\", \"base_TMY3\"]\n",
    "r_base = None\n",
    "print(f\"Number of cases: {len(cases)}\")\n",
    "print(f\"Number of cases to read: {len(cases_to_read)}\")\n",
    "con.read_cases(cases, cases_to_read)\n",
    "print(\"Finished reading result files.\")\n"
   ]
  },
  {
   "cell_type": "code",
   "execution_count": 5,
   "metadata": {
    "execution": {
     "iopub.execute_input": "2025-07-16T21:10:26.207133Z",
     "iopub.status.busy": "2025-07-16T21:10:26.206787Z",
     "iopub.status.idle": "2025-07-16T21:10:26.254121Z",
     "shell.execute_reply": "2025-07-16T21:10:26.253584Z"
    }
   },
   "outputs": [
    {
     "name": "stdout",
     "output_type": "stream",
     "text": [
      "Base case: Total energy use: 10.46 GWh\n",
      "Base case: Total energy use: 93.37 kWh/(m a)\n",
      "Base case: Total energy cost: 1.53 million USD per year\n",
      "Base case: Total energy cost: 13.70 USD/(m2 a)\n"
     ]
    }
   ],
   "source": [
    "# Store r_base as it is often used\n",
    "r_base = None\n",
    "for cas in cases:\n",
    "    if cas['name'] == 'base':\n",
    "        r_base = cas['reader']\n",
    "\n",
    "AFlo = r_base.max('datDis.AFlo')\n",
    "\n",
    "print(f\"Base case: Total energy use: {r_base.max('ETot.y')/3600/1E9:.2f} GWh\")\n",
    "print(f\"Base case: Total energy use: {r_base.max('ETot.y')/3600/1E9/AFlo*1e6:.2f} kWh/(m a)\")\n",
    "\n",
    "print(f\"Base case: Total energy cost: {r_base.max('totEleCos.y')/1E6:.2f} million USD per year\")\n",
    "print(f\"Base case: Total energy cost: {r_base.max('totEleCos.y')/AFlo:.2f} USD/(m2 a)\")\n",
    "\n"
   ]
  },
  {
   "cell_type": "code",
   "execution_count": 6,
   "metadata": {
    "execution": {
     "iopub.execute_input": "2025-07-16T21:10:26.257867Z",
     "iopub.status.busy": "2025-07-16T21:10:26.257699Z",
     "iopub.status.idle": "2025-07-16T21:10:26.271640Z",
     "shell.execute_reply": "2025-07-16T21:10:26.271119Z"
    }
   },
   "outputs": [
    {
     "name": "stdout",
     "output_type": "stream",
     "text": [
      "CPUtime, base 11 h\n"
     ]
    }
   ],
   "source": [
    "print(f\"CPUtime, base {r_base.max('CPUtime')/3600.:.0f} h\")"
   ]
  },
  {
   "cell_type": "markdown",
   "metadata": {},
   "source": [
    "## Write main results to LaTeX file for inclusion in report"
   ]
  },
  {
   "cell_type": "code",
   "execution_count": 7,
   "metadata": {
    "execution": {
     "iopub.execute_input": "2025-07-16T21:10:26.275874Z",
     "iopub.status.busy": "2025-07-16T21:10:26.275632Z",
     "iopub.status.idle": "2025-07-16T21:10:26.514100Z",
     "shell.execute_reply": "2025-07-16T21:10:26.513520Z"
    }
   },
   "outputs": [
    {
     "name": "stdout",
     "output_type": "stream",
     "text": [
      "Annual energy cost difference 0.536 million $\n",
      "invCos = 0.477 million $\n",
      "ALCC of investment = 23929 $\n",
      "ALCC of investment and energy -512357 $\n"
     ]
    }
   ],
   "source": [
    "import os\n",
    "importlib.reload(con)\n",
    "\n",
    "if not os.path.exists(\"img\"):\n",
    "    os.mkdir(\"img\")\n",
    "with open(os.path.join(\"img\", \"modelicaResults.tex\"), \"w\") as fil:\n",
    "    # Energy costs\n",
    "    r_base_dDis_0_8 = None\n",
    "    for cas in cases:\n",
    "        if cas['name'] == 'base_dDis_0_8':\n",
    "            r_base_dDis_0_8= cas['reader']\n",
    "\n",
    "    ETot_base = r_base.max('ETot.y')\n",
    "    ETot_dDis_0_8 = r_base_dDis_0_8.max('ETot.y')\n",
    "    cosETot_base = r_base.max(\"totEleCos.y\")\n",
    "    dhDis_base = r_base.max('datDis.dhDisAct')\n",
    "    vDis_base = r_base.max('datDis.vDis_nominal')\n",
    "    cosETot_dDis_0_8 = r_base_dDis_0_8.max(\"totEleCos.y\")\n",
    "    dhDis_0_8 = r_base_dDis_0_8.max('datDis.dhDisAct')\n",
    "\n",
    "\n",
    "    # ALCC is annualized life cycle costs\n",
    "    # Investment cost difference is length of distribution pipe, time cost difference of 0.5 vs 0.4 m diameter (from Sommer paper) times exchange rate from Euro to $\n",
    "    invCosDif = 3460 *(1220-1100)*1.15\n",
    "    # Annualized increase in electricity costs due to smaller pipes.\n",
    "    delEneCos =  cosETot_dDis_0_8 - cosETot_base\n",
    "    (ALCC, LCC, I, OM, RC, SR, CRF) = con.calc_finance(invCosDif, 0, 0, 40, 0.01)\n",
    "\n",
    "    print(f\"Annual energy cost difference {delEneCos/1E6:.3f} million $\")\n",
    "    print(f\"invCos = {invCosDif/1E6:.3f} million $\")\n",
    "    print(f\"ALCC of investment = {ALCC:.0f} $\")\n",
    "    print(f\"ALCC of investment and energy {ALCC-delEneCos:.0f} $\")\n",
    "\n",
    "    s = \"\"\"\n",
    "\\\\newcommand{\\\\modelicaBranch}{\"\"\" + f\"{sim_version['branch']}\" + \"\"\"\\\\xspace}\n",
    "\\\\newcommand{\\\\modelicaCommit}{\\\\href{https://github.com/lbl-srg/thermal-grid-jba/commit/\"\"\" + f\"{sim_version['commit']}\" + \"\"\"}{\"\"\" + f\"{sim_version['commit'][0:6]}\" + \"\"\"}\\\\xspace}\n",
    "\n",
    "\\\\newcommand{\\\\cpuTime}{\"\"\" + f\"{r_base.max('CPUtime')/3600.:.0f} hours\" + \"\"\"\\\\xspace}\n",
    "\\\\newcommand{\\\\delEnergyDDisEighty}{$\"\"\" + f\"{(ETot_dDis_0_8/ETot_base-1)*100:.0f}\\%\" + \"\"\"$\\\\xspace}\n",
    "\\\\newcommand{\\\\delEnergyCosDDisEighty}{$\\\\$\"\"\" + f\"{(cosETot_dDis_0_8-cosETot_base)/1E6:.2f} \\, \\mathrm{{million}}\" + \"\"\"$\\\\xspace}\n",
    "\n",
    "\\\\newcommand{\\\\totEneCosBase}{$\\\\$\"\"\" + f\"{cosETot_base/1E6:.2f} \\, \\mathrm{{million}}\" + \"\"\"$\\\\xspace}\n",
    "\\\\newcommand{\\\\totEneCosDDisEighty}{$\\\\$\"\"\" + f\"{cosETot_dDis_0_8/1E6:.2f} \\, \\mathrm{{million}}\" + \"\"\"$\\\\xspace}\n",
    "\n",
    "\\\\newcommand{\\\\dhBase}{$\"\"\" + f\"{dhDis_base:.2f} \\, \\mathrm m ({dhDis_base*3.28084:.2f} \\, \\mathrm{{ft}})\" + \"\"\"$\\\\xspace}\n",
    "\\\\newcommand{\\\\dhDDisEighty}{$\"\"\" + f\"{dhDis_0_8:.2f} \\, \\mathrm m ({dhDis_0_8*3.28084:.2f} \\, \\mathrm{{ft}})\" + \"\"\"$\\\\xspace}\n",
    "\\\\newcommand{\\\\vDisBase}{$\"\"\" + f\"{vDis_base:.2f} \\, \\mathrm{{m/s}} ({vDis_base*3.28084:.2f} \\, \\mathrm {{ft/s}})\" + \"\"\"$\\\\xspace}\n",
    "\n",
    "\\\\newcommand{\\\\delAnnLifCycEighty}{$\\\\$\"\"\" + f\"{(delEneCos-ALCC)/1E6:.2f} \\, \\mathrm{{million}}\" + \"\"\"$\\\\xspace}\n",
    "\"\"\"\n",
    "    fil.write(s)\n",
    "\n",
    "\n"
   ]
  },
  {
   "cell_type": "markdown",
   "metadata": {},
   "source": [
    "### Write capacities to LaTeX file"
   ]
  },
  {
   "cell_type": "code",
   "execution_count": 8,
   "metadata": {
    "execution": {
     "iopub.execute_input": "2025-07-16T21:10:26.520334Z",
     "iopub.status.busy": "2025-07-16T21:10:26.520116Z",
     "iopub.status.idle": "2025-07-16T21:10:26.563949Z",
     "shell.execute_reply": "2025-07-16T21:10:26.563194Z"
    }
   },
   "outputs": [],
   "source": [
    "# Note that the unyt package used in this function does not allow to reload the module.\n",
    "# Hence we put the function in its own file\n",
    "import post_process_write_latex_table as lat\n",
    "importlib.reload(lat)\n",
    "lat.write_latex_capacity_table(r_base)"
   ]
  },
  {
   "cell_type": "markdown",
   "metadata": {},
   "source": [
    "### Energy use\n"
   ]
  },
  {
   "cell_type": "code",
   "execution_count": 9,
   "metadata": {
    "execution": {
     "iopub.execute_input": "2025-07-16T21:10:26.567197Z",
     "iopub.status.busy": "2025-07-16T21:10:26.567040Z",
     "iopub.status.idle": "2025-07-16T21:10:28.882318Z",
     "shell.execute_reply": "2025-07-16T21:10:28.881555Z"
    },
    "scrolled": true
   },
   "outputs": [
    {
     "name": "stdout",
     "output_type": "stream",
     "text": [
      "All electricity use = [10.45741932 10.83241457 10.19085266 14.07410591  9.42974727 10.51266296\n",
      " 11.29436589 10.66238797  9.838008  ]\n",
      "Sum of plot = [10.4574196  10.83241443 10.19085268 14.07410622  9.42974772 10.51266358\n",
      " 11.29436621 10.6623876   9.83800761]\n",
      "\n",
      "Heat pumps in ETS   & 4.76 &  42.5 \\\\\n",
      "Heat pumps in plant & 3.19 &  28.5 \\\\\n",
      "Pumps               & 3.72 &  33.2 \\\\\n",
      "Fans                & 0.54 &  4.8 \\\\\n",
      "Non-HVAC electricity for buildings & 8.85 &  79.1  \\\\ \\hline\n",
      "PVs and batteries  & -10.61 &  -94.8 \\\\\n",
      "Total & 10.46 &  93.4 \\\\ \\hline\n"
     ]
    }
   ],
   "source": [
    "importlib.reload(con)\n",
    "cases_with_results = [ele for ele in cases if 'reader' in ele]\n",
    "con.plot_energy(cases_with_results, \"main\")\n",
    "del cases_with_results"
   ]
  },
  {
   "cell_type": "markdown",
   "metadata": {},
   "source": [
    "## Loop temperatures"
   ]
  },
  {
   "cell_type": "code",
   "execution_count": 10,
   "metadata": {
    "execution": {
     "iopub.execute_input": "2025-07-16T21:10:28.888609Z",
     "iopub.status.busy": "2025-07-16T21:10:28.888416Z",
     "iopub.status.idle": "2025-07-16T21:10:43.046967Z",
     "shell.execute_reply": "2025-07-16T21:10:43.045658Z"
    }
   },
   "outputs": [],
   "source": [
    "importlib.reload(con)\n",
    "cases_with_results = [ele for ele in cases if 'reader' in ele]\n",
    "con.plot_loop_temperatures(cases_with_results)\n",
    "del cases_with_results\n"
   ]
  },
  {
   "cell_type": "markdown",
   "metadata": {},
   "source": [
    "# Demand curves"
   ]
  },
  {
   "cell_type": "code",
   "execution_count": 11,
   "metadata": {
    "execution": {
     "iopub.execute_input": "2025-07-16T21:10:43.052677Z",
     "iopub.status.busy": "2025-07-16T21:10:43.052487Z",
     "iopub.status.idle": "2025-07-16T21:10:45.117333Z",
     "shell.execute_reply": "2025-07-16T21:10:45.116637Z"
    }
   },
   "outputs": [],
   "source": [
    "importlib.reload(con)\n",
    "con.plotElectricalTimeSeries(r_base)"
   ]
  },
  {
   "cell_type": "code",
   "execution_count": 12,
   "metadata": {
    "execution": {
     "iopub.execute_input": "2025-07-16T21:10:45.123340Z",
     "iopub.status.busy": "2025-07-16T21:10:45.123145Z",
     "iopub.status.idle": "2025-07-16T21:10:45.790212Z",
     "shell.execute_reply": "2025-07-16T21:10:45.789523Z"
    }
   },
   "outputs": [],
   "source": [
    "importlib.reload(con)\n",
    "con.writeElectricalTimeSeries(r_base)"
   ]
  },
  {
   "cell_type": "markdown",
   "metadata": {},
   "source": []
  },
  {
   "cell_type": "markdown",
   "metadata": {},
   "source": [
    "# Plot plant operation"
   ]
  },
  {
   "cell_type": "code",
   "execution_count": 13,
   "metadata": {
    "execution": {
     "iopub.execute_input": "2025-07-16T21:10:45.796249Z",
     "iopub.status.busy": "2025-07-16T21:10:45.796057Z",
     "iopub.status.idle": "2025-07-16T21:10:46.802914Z",
     "shell.execute_reply": "2025-07-16T21:10:46.802103Z"
    }
   },
   "outputs": [],
   "source": [
    "importlib.reload(con)# List of days to plot\n",
    "days = [\n",
    "    {\n",
    "        \"xlim\": [67, 69],\n",
    "        \"date\": \"March\",\n",
    "        \"name\": \"Spring\"\n",
    "    }\n",
    "]\n",
    "# List of variables to plot for each subplot\n",
    "lis = [\n",
    "        {\n",
    "            \"y_label\": \"Temperature\\n[$^\\\\circ$C]\",\n",
    "            \"y_lim\": [10, 28],\n",
    "            \"factor\": 1,\n",
    "            \"offset\": -273.15,\n",
    "            \"vars\": [\n",
    "                        {\n",
    "                            \"label\": \"$T_{pla,hea,set}$\",\n",
    "                            \"var\": \"cenPla.gen.borCon.TActPlaHeaSet\",\n",
    "                            \"linewidth\": 1.5,\n",
    "                            \"marker\": \">\",\n",
    "                        },\n",
    "                        {\n",
    "                            \"label\": \"$T_{pla,out}$\",\n",
    "                            \"var\": \"cenPla.gen.senTemGenLea.T\",\n",
    "                            \"linewidth\": 0.5,\n",
    "                            \"marker\": \"<\",\n",
    "                            \"linestyle\": \"--\",\n",
    "                        }\n",
    "                        ,\n",
    "                        {\n",
    "                            \"label\": \"$T_{pla,in}$\",\n",
    "                            \"var\": \"cenPla.gen.senTemGenEnt.T\",\n",
    "                            \"linewidth\": 0.5,\n",
    "                            \"marker\": \">\",\n",
    "                            \"linestyle\": \":\",\n",
    "                        }\n",
    "\n",
    "                ]\n",
    "        }\n",
    "        ,\n",
    "        {\n",
    "            \"y_label\": \"Controls\",\n",
    "            \"y_lim\": [0, 1],\n",
    "            \"factor\": 1,\n",
    "            \"offset\": 0,\n",
    "            \"vars\": [\n",
    "                        {\n",
    "                            \"label\": \"$y_{hea,pum}$\",\n",
    "                            \"var\": \"cenPla.gen.heaPum.ySet\",\n",
    "                            \"color\": \"b\",\n",
    "                            \"linewidth\": 1,\n",
    "                        }\n",
    "                ]\n",
    "        },\n",
    "        {\n",
    "            \"y_label\": \"Heat flow\\nrate [MW]\",\n",
    "            \"y_lim\": [-0.5, 4],\n",
    "            \"factor\": 1E-6,\n",
    "            \"offset\": 0,\n",
    "            \"vars\": [\n",
    "                        {\n",
    "                        \"label\": \"$\\dot Q_{hea,pum}$\",\n",
    "                        \"var\": \"cenPla.gen.heaPum.Q1_flow\",\n",
    "                        \"color\": \"b\",\n",
    "                        \"linewidth\": 1\n",
    "                        }\n",
    "                        ,\n",
    "                        {\n",
    "                        \"label\": \"$\\dot Q_{bor,per}$\",\n",
    "                        \"var\": \"cenPla.borFie.QPer_flow\",\n",
    "                        \"marker\": \"o\",\n",
    "                        }\n",
    "                        ,\n",
    "                        {\n",
    "                        \"label\": \"$\\dot Q_{bor,cen}$\",\n",
    "                        \"var\": \"cenPla.borFie.QCen_flow\",\n",
    "                        \"linewidth\": 2,\n",
    "                        \"marker\": \"x\",\n",
    "                        }\n",
    "                    ]\n",
    "        }\n",
    "    ]\n",
    "\n",
    "con.plotPlant(lis, r_base, \"plantSimplified\", days, fontSize=8, nColLegend=1)"
   ]
  },
  {
   "cell_type": "code",
   "execution_count": 14,
   "metadata": {
    "execution": {
     "iopub.execute_input": "2025-07-16T21:10:46.808897Z",
     "iopub.status.busy": "2025-07-16T21:10:46.808569Z",
     "iopub.status.idle": "2025-07-16T21:10:51.124595Z",
     "shell.execute_reply": "2025-07-16T21:10:51.123340Z"
    }
   },
   "outputs": [],
   "source": [
    "importlib.reload(con)# List of days to plot\n",
    "days = [\n",
    "    {\n",
    "        \"xlim\": [31, 32],\n",
    "        \"date\": \"Feb. 1\",\n",
    "        \"name\": \"Winter\"\n",
    "    },\n",
    "    {\n",
    "        \"xlim\": [160, 161],\n",
    "        \"date\": \"June 10\",\n",
    "        \"name\": \"Spring\"\n",
    "    },\n",
    "    {\n",
    "        \"xlim\": [213, 214],\n",
    "        \"date\": \"Aug. 2\",\n",
    "        \"name\": \"Summer\"\n",
    "    }\n",
    "]\n",
    "# List of variables to plot for each subplot\n",
    "lis = [\n",
    "        {\n",
    "            \"y_label\": \"Controls\",\n",
    "            \"y_lim\": [-3, 3],\n",
    "            \"factor\": 1,\n",
    "            \"offset\": 0,\n",
    "            \"vars\": [\n",
    "                {\n",
    "                    \"label\": \"$y_{st}$\",\n",
    "                    \"var\": \"cenPla.gen.ind.ySt\",\n",
    "                    \"linewidth\": 1,\n",
    "                    }\n",
    "                    ,\n",
    "                    {\n",
    "                    \"label\": \"$y_{pla}$\",\n",
    "                    \"var\": \"cenPla.gen.ind.yPlaOut\",\n",
    "                    }\n",
    "                ]\n",
    "        },\n",
    "        {\n",
    "            \"y_label\": \"Temperature\\n[$^\\\\circ$C]\",\n",
    "            \"y_lim\": [10, 28],\n",
    "            \"factor\": 1,\n",
    "            \"offset\": -273.15,\n",
    "            \"vars\": [\n",
    "                 {\n",
    "                    \"label\": \"$T_{pla,hea,set}$\",\n",
    "                    \"var\": \"cenPla.gen.ind.TActPlaHeaSet\",\n",
    "                    \"linewidth\": 1,\n",
    "                    \"marker\": \">\",\n",
    "                    \"color\": \"r\",\n",
    "                    \"skip_if_ySea\": 3\n",
    "                    },\n",
    "                 {\n",
    "                    \"label\": \"$T_{pla,coo,set}$\",\n",
    "                    \"var\": \"cenPla.gen.ind.TActPlaCooSet\",\n",
    "                    \"linewidth\": 1,\n",
    "                    \"marker\": \">\",\n",
    "                    \"color\": \"r\",\n",
    "                    \"skip_if_ySea\": 1\n",
    "                    },\n",
    "                {\n",
    "                    \"label\": \"$T_{pla,in}$\",\n",
    "                    \"var\": \"TDisWatRet.T\",\n",
    "                    \"linewidth\": 0.7,\n",
    "                    \"marker\": \">\",\n",
    "                    \"color\": \"k\"\n",
    "                    },\n",
    "                    {\n",
    "                    \"label\": \"$T_{pla,out}$\",\n",
    "                    \"var\": \"cenPla.gen.senTemGenLea.T\",\n",
    "                    \"linewidth\": 0.7,\n",
    "                    \"marker\": \"<\",\n",
    "                    \"color\": \"k\"\n",
    "                    }\n",
    "            ]\n",
    "        },\n",
    "        {\n",
    "            \"y_label\": \"Temperature\\n[$^\\\\circ$C]\",\n",
    "            \"y_lim\": [10, 28],\n",
    "            \"factor\": 1,\n",
    "            \"offset\": -273.15,\n",
    "            \"vars\": [\n",
    "#                    {\n",
    "#                    \"label\": \"$T_{bor,per,ret}$\",\n",
    "#                    \"var\": \"cenPla.gen.senTemBorPerRet.T\",\n",
    "#                    \"marker\": \"<\",\n",
    "#                    \"linestyle\": \"--\",\n",
    "#                    \"color\": \"g\"\n",
    "#                    },\n",
    "#                    {\n",
    "#                    \"label\": \"$T_{bor,cen,sup}$\",\n",
    "#                    \"var\": \"cenPla.gen.senTemBorCenSup.T\",\n",
    "#                    \"linestyle\": \"-.\",\n",
    "#                    \"color\": \"r\",\n",
    "#                    \"marker\": \">\"\n",
    "#                    },\n",
    "#                    {\n",
    "#                    \"label\": \"$T_{bor,cen,ret}$\",\n",
    "#                    \"var\": \"cenPla.gen.senTemBorCenRet.T\",\n",
    "#                    \"linestyle\": \"-.\",\n",
    "#                    \"color\": \"r\",\n",
    "#                    \"marker\": \"<\"\n",
    "#                    },\n",
    "                    {\n",
    "                    \"label\": \"$T_{hea,pum,sup}$\",\n",
    "                    \"var\": \"cenPla.gen.senTemHeaPumEnt.T\",\n",
    "                    \"color\": \"b\",\n",
    "                    \"marker\": \">\"\n",
    "                    },\n",
    "                    {\n",
    "                    \"label\": \"$T_{hea,pum,ret}$\",\n",
    "                    \"var\": \"cenPla.gen.senTemHeaPumLea.T\",\n",
    "                    \"color\": \"b\",\n",
    "                    \"marker\": \"<\"\n",
    "                    }\n",
    "                ]\n",
    "            },\n",
    "#            {\n",
    "#            \"P_label\": \"Mass flow\\nrate [kg/s]\",\n",
    "#            \"P_lim\": [0, 500],\n",
    "#            \"factor\": 1,\n",
    "#            \"offset\": 0,\n",
    "#            \"vars\": [\n",
    "#                    {\n",
    "#                    \"label\": \"$\\dot m_{eco}$\",\n",
    "#                    \"var\": \"cenPla.gen.hex.m2_flow\",\n",
    "#                    },\n",
    "#                    {\n",
    "#                    \"label\": \"$\\dot m_{bor,per}$\",\n",
    "#                    \"var\": \"cenPla.gen.senTemBorPerRet.port_a.m_flow\",\n",
    "#                    \"marker\": \"o\",\n",
    "#                    },\n",
    "#                    {\n",
    "#                    \"label\": \"$\\dot m_{bor,cen}$\",\n",
    "#                    \"var\": \"cenPla.gen.senTemBorCenRet.port_a.m_flow\",\n",
    "#                    \"marker\": \"x\",\n",
    "#                    },\n",
    "#                    {\n",
    "#                    \"label\": \"$\\dot m_{hea,pum}$\",\n",
    "#                    \"var\": \"cenPla.gen.heaPum.m1_flow\",\n",
    "#                    \"marker\": \"v\",\n",
    "#                    }\n",
    "#                    ]\n",
    "#            },\n",
    "            {\n",
    "            \"y_label\": \"Heat flow\\nrate [MW]\",\n",
    "            \"y_lim\": [-8, 8],\n",
    "            \"factor\": 1E-6,\n",
    "            \"offset\": 0,\n",
    "            \"vars\": [\n",
    "#                    {\n",
    "#                    \"label\": \"$\\dot Q_{eco}$\",\n",
    "#                    \"var\": \"cenPla.gen.hex.Q2_flow\",\n",
    "#                    },\n",
    "                    {\n",
    "                    \"label\": \"$\\dot Q_{bor,per}$\",\n",
    "                    \"var\": \"cenPla.borFie.QPer_flow\",\n",
    "                    \"marker\": \"o\",\n",
    "                    },\n",
    "                    {\n",
    "                    \"label\": \"$\\dot Q_{bor,cen}$\",\n",
    "                    \"var\": \"cenPla.borFie.QCen_flow\",\n",
    "                    \"marker\": \"x\",\n",
    "                    },\n",
    "                    {\n",
    "                    \"label\": \"$\\dot Q_{hea,pum}$\",\n",
    "                    \"var\": \"cenPla.gen.heaPum.Q1_flow\",\n",
    "                    \"marker\": \"v\",\n",
    "                    }\n",
    "                    ]\n",
    "        }\n",
    "    ]\n",
    "\n",
    "con.plotPlant(lis, r_base, \"plant\", days)"
   ]
  },
  {
   "cell_type": "code",
   "execution_count": 15,
   "metadata": {
    "execution": {
     "iopub.execute_input": "2025-07-16T21:10:51.130185Z",
     "iopub.status.busy": "2025-07-16T21:10:51.129996Z",
     "iopub.status.idle": "2025-07-16T21:10:52.780721Z",
     "shell.execute_reply": "2025-07-16T21:10:52.779590Z"
    }
   },
   "outputs": [],
   "source": [
    "importlib.reload(con)\n",
    "# List of days to plot\n",
    "days = [\n",
    "    {\n",
    "        \"xlim\": [56, 61],\n",
    "        \"date\": \"February\",\n",
    "        \"name\": \"February\"\n",
    "    }\n",
    "]\n",
    "# List of variables to plot for each subplot\n",
    "lis = [\n",
    "        {\n",
    "            \"y_label\": \"Control signal [1]\",\n",
    "            \"y_lim\": [0, 1],\n",
    "            \"factor\": 1,\n",
    "            \"offset\": 0,\n",
    "            \"vars\": [\n",
    "                {\n",
    "                    \"label\": \"$y_{ets,hea,pum,1}$ (ETS)\",\n",
    "                    \"var\": \"bui[1].ets.heaPum.heaPum.ySet\",\n",
    "                },\n",
    "                {\n",
    "                    \"label\": \"$y_{ets,hea,pum,2}$ (ETS)\",\n",
    "                    \"var\": \"bui[2].ets.heaPum.heaPum.ySet\",\n",
    "                },\n",
    "                {\n",
    "                    \"label\": \"$y_{ets,hea,pum,3}$ (ETS)\",\n",
    "                    \"var\": \"bui[3].ets.heaPum.heaPum.ySet\",\n",
    "                },\n",
    "                {\n",
    "                    \"label\": \"$y_{ets,hea,pum,4}$ (ETS)\",\n",
    "                    \"var\": \"bui[4].ets.heaPum.heaPum.ySet\",\n",
    "                },\n",
    "                {\n",
    "                    \"label\": \"$y_{ets,hea,pum,5}$ (ETS)\",\n",
    "                    \"var\": \"bui[5].ets.heaPum.heaPum.ySet\",\n",
    "                },\n",
    "                {\n",
    "                    \"label\": \"$y_{cen,hea,pum}$ (central plant)\",\n",
    "                    \"var\": \"cenPla.gen.heaPum.ySet\",\n",
    "                    \"linewidth\": 0.7\n",
    "                }\n",
    "\n",
    "                ]\n",
    "        },\n",
    "        {\n",
    "            \"y_label\": \"$\\sum P$ [MW]\\n(cummulative power)\",\n",
    "            \"y_lim\": [0, 7],\n",
    "            \"factor\": 1E-6,\n",
    "            \"offset\": 0,\n",
    "            \"plotSumOfSeries\": True,\n",
    "            \"vars\": [\n",
    "                {\n",
    "                    \"label\": \"$P_{ETS,hea,pum,1}$ (ETS)\",\n",
    "                    \"var\": \"bui[1].ets.heaPum.heaPum.P\",\n",
    "                },\n",
    "                {\n",
    "                    \"label\": \"$P_{ETS,hea,pum,2}$ (ETS)\",\n",
    "                    \"var\": \"bui[2].ets.heaPum.heaPum.P\",\n",
    "                },\n",
    "                {\n",
    "                    \"label\": \"$P_{ETS,hea,pum,3}$ (ETS)\",\n",
    "                    \"var\": \"bui[3].ets.heaPum.heaPum.P\",\n",
    "                },\n",
    "                {\n",
    "                    \"label\": \"$P_{ETS,hea,pum,4}$ (ETS)\",\n",
    "                    \"var\": \"bui[4].ets.heaPum.heaPum.P\",\n",
    "                },\n",
    "                {\n",
    "                    \"label\": \"$P_{ETS,hea,pum,5}$ (ETS)\",\n",
    "                    \"var\": \"bui[5].ets.heaPum.heaPum.P\",\n",
    "                },\n",
    "                {\n",
    "                    \"label\": \"$P_{cen,hea,pum}$ (central plant)\",\n",
    "                    \"var\": \"cenPla.gen.heaPum.P\",\n",
    "                    \"linewidth\": 0.7\n",
    "                }\n",
    "            ]\n",
    "        },\n",
    "        {\n",
    "            \"y_label\": \"Temperature [$^\\\\circ$C]\",\n",
    "            \"y_lim\": [10, 28],\n",
    "            \"factor\": 1,\n",
    "            \"offset\": -273.15,\n",
    "            \"vars\": [\n",
    "                    {\n",
    "                    \"label\": \"$T_{dis,loo,max}$\",\n",
    "                    \"var\": \"cenPla.TLooMaxMea\",\n",
    "                    \"color\": \"r\"\n",
    "                    },\n",
    "                    {\n",
    "                    \"label\": \"$T_{dis,loo,min}$\",\n",
    "                    \"var\": \"cenPla.TLooMinMea\",\n",
    "                    \"color\": \"b\"\n",
    "                    }\n",
    "                ]\n",
    "            }\n",
    "    ]\n",
    "\n",
    "con.plotPlant(lis, r_base, \"peakPower\", days, time=\"days\", fontSize=6, nColLegend=1)\n"
   ]
  },
  {
   "cell_type": "markdown",
   "metadata": {},
   "source": [
    "# Plot borefield energy"
   ]
  },
  {
   "cell_type": "code",
   "execution_count": 16,
   "metadata": {
    "execution": {
     "iopub.execute_input": "2025-07-16T21:10:52.786301Z",
     "iopub.status.busy": "2025-07-16T21:10:52.786114Z",
     "iopub.status.idle": "2025-07-16T21:10:53.626599Z",
     "shell.execute_reply": "2025-07-16T21:10:53.625941Z"
    }
   },
   "outputs": [],
   "source": [
    "# List of days to plot\n",
    "days = [\n",
    "    {\n",
    "        \"xlim\": [0, 365],\n",
    "        \"date\": \"\",\n",
    "        \"name\": \"Annual\"\n",
    "    }\n",
    "]\n",
    "# List of variables to plot for each subplot\n",
    "lis = [\n",
    "        {\n",
    "            \"y_label\": \"Borefield energy [GWh]\",\n",
    "            \"y_lim\": [-3, 3],\n",
    "            \"factor\": 1/3600/1E9,\n",
    "            \"offset\": 0,\n",
    "            \"vars\": [\n",
    "                {\n",
    "                    \"label\": \"Modelica $E_{bor}$\",\n",
    "                    \"var\": \"EBor.y\",\n",
    "                    \"linewidth\": 1\n",
    "                    },\n",
    "                    {\n",
    "                    \"label\": \"Modelica $E_{bor,per}$\",\n",
    "                    \"var\": \"EBorPer.y\",\n",
    "                    \"linewidth\": 1\n",
    "                    },\n",
    "                    {\n",
    "                    \"label\": \"Modelica $E_{bor,cen}$\",\n",
    "                    \"var\": \"EBorCen.y\",\n",
    "                    \"linewidth\": 1\n",
    "                    },\n",
    "                    {\n",
    "                    \"label\": \"MILP $E_{bor}$\",\n",
    "                    \"var\": \"borMil.E\",\n",
    "                    \"linestyle\": \"-\",\n",
    "                    \"mark_every\": 50,\n",
    "                    \"linewidth\": 1\n",
    "                    }\n",
    "                ]\n",
    "        }\n",
    "]\n",
    "\n",
    "con.plotOneFigure(lis, r_base, \"borefieldEnergy\", days)"
   ]
  },
  {
   "cell_type": "markdown",
   "metadata": {},
   "source": [
    "## Sensitivities\n",
    "\n",
    "### Borefield depth"
   ]
  },
  {
   "cell_type": "code",
   "execution_count": 17,
   "metadata": {
    "execution": {
     "iopub.execute_input": "2025-07-16T21:10:53.632376Z",
     "iopub.status.busy": "2025-07-16T21:10:53.632193Z",
     "iopub.status.idle": "2025-07-16T21:10:54.195037Z",
     "shell.execute_reply": "2025-07-16T21:10:54.193907Z"
    }
   },
   "outputs": [],
   "source": [
    "importlib.reload(con)\n",
    "\n",
    "dic = {\n",
    "      \"y_label\": \"electricity\\n[GWh/a]\",\n",
    "      \"y_lim\": [0, 18],\n",
    "      \"factor\": 1E-9/3600,\n",
    "      \"unit\": \"GWh/a\",\n",
    "      \"factor2\": 1E-3,\n",
    "      \"unit2\": \"k$/a\",\n",
    "      \"offset\": 0,\n",
    "      \"x\":{\n",
    "          \"var\": \"cenPla.borFie.hBor\",\n",
    "          \"label\": \"Borefield depth [m]\",\n",
    "          \"x_lim\": [65, 115],\n",
    "          \"factor\": 1,\n",
    "          \"offset\": 0\n",
    "      },\n",
    "      \"vars\": [\n",
    "         {\n",
    "            \"label\": \"site electricity\",\n",
    "            \"var\": \"ETot.y\",\n",
    "            \"linewidth\": 1,\n",
    "            \"color\": \"r\",\n",
    "         },\n",
    "         {\n",
    "            \"label\": \"central plant heat pumps\",\n",
    "            \"var\": \"EComPla.y\",\n",
    "            \"linewidth\": 1,\n",
    "            \"color\": \"r\",\n",
    "         }\n",
    "      ],\n",
    "      \"y2_label\": \"annualized life cycle\\ncost difference [k$\\$$/a]\",\n",
    "      \"y2_lim\": [-30, 60],\n",
    "      \"idxBaseCase\": 1, # Zero-based index of base case\n",
    "      \"vars2\": [\n",
    "          {\n",
    "              \"label\": \"annualized life cycle\\ncost difference\",\n",
    "              \"energyCost\": \"totEleCos.y\",\n",
    "              \"unitChange\": \"cenPla.borFie.hBor\",\n",
    "              \"costPerUnitChange\": 2376*42, # 2376 wells and $42 per meter, from ORNL https://info.ornl.gov/sites/publications/Files/Pub107271.pdf\n",
    "              \"lifeTime\": 40,\n",
    "              \"operationAndMaintenance\": 0.01\n",
    "          }\n",
    "      ]\n",
    "\n",
    "    }\n",
    "\n",
    "\n",
    "# Order the cases as in cases_to_read\n",
    "cases_with_results = []\n",
    "for cas_name in [\"base_hBor_0_8\", \"base\", \"base_hBor_1_2\"]:\n",
    "    for cas in cases:\n",
    "        if cas['name'] == cas_name:\n",
    "            cases_with_results.append(cas)\n",
    "con.plot_sensitivities(cases_with_results, dic, \"boreLength\")"
   ]
  },
  {
   "cell_type": "markdown",
   "metadata": {},
   "source": [
    "## District loop sizing\n"
   ]
  },
  {
   "cell_type": "code",
   "execution_count": 18,
   "metadata": {
    "execution": {
     "iopub.execute_input": "2025-07-16T21:10:54.200908Z",
     "iopub.status.busy": "2025-07-16T21:10:54.200712Z",
     "iopub.status.idle": "2025-07-16T21:10:54.725912Z",
     "shell.execute_reply": "2025-07-16T21:10:54.725254Z"
    }
   },
   "outputs": [],
   "source": [
    "importlib.reload(con)\n",
    "\n",
    "dic = {\n",
    "      \"y_label\": \"electricity\\n[GWh/a]\",\n",
    "      \"y_lim\": [0, 18],\n",
    "      \"factor\": 1E-9/3600,\n",
    "      \"unit\": \"GWh/a\",\n",
    "      \"factor2\": 1E-3,\n",
    "      \"unit2\": \"k$/a\",\n",
    "      \"offset\": 0,\n",
    "      \"x\":{\n",
    "          \"var\": \"datDis.dhDisAct\",\n",
    "          \"label\": \"Diameter district loop pipe [m]\",\n",
    "          \"x_lim\": [0.3, 0.7],\n",
    "          \"factor\": 1,\n",
    "          \"offset\": 0\n",
    "      },\n",
    "      \"vars\": [\n",
    "         {\n",
    "            \"label\": \"site electricity\",\n",
    "            \"var\": \"ETot.y\",\n",
    "            \"linewidth\": 1,\n",
    "            \"color\": \"r\",\n",
    "         }\n",
    "#         ,\n",
    "#         {\n",
    "#            \"label\": \"district loop pump\",\n",
    "#            \"var\": \"EPumDis.y\",\n",
    "#            \"linewidth\": 1,\n",
    "#            \"color\": \"r\",\n",
    "#         }\n",
    "      ],\n",
    "      \"y2_label\": \"annualized life cycle\\ncost difference [k$\\$$/a]\",\n",
    "      \"y2_lim\": [-800, 1000],\n",
    "      \"idxBaseCase\": 1, # Zero-based index of base case\n",
    "      \"vars2\": [\n",
    "          {\n",
    "              \"label\": \"annualized life cycle\\ncost difference\",\n",
    "              \"energyCost\": \"totEleCos.y\",\n",
    "              \"unitChange\": \"datDis.dhDisAct\",\n",
    "              # Investment cost difference per unit change is length of distribution pipe,\n",
    "              # times cost difference of 0.5 vs 0.4 m diameter (from Sommer paper) times exchange rate from Euro to $\n",
    "              \"costPerUnitChange\": 3460 *((1220-1100)/(0.5-0.4))*1.15,\n",
    "              \"lifeTime\": 40,\n",
    "              \"operationAndMaintenance\": 0.01\n",
    "\n",
    "          }\n",
    "      ]\n",
    "    }\n",
    "\n",
    "\n",
    "# Order the cases as in cases_to_read\n",
    "cases_with_results = []\n",
    "for cas_name in [\"base_dDis_0_8\", \"base\", \"base_dDis_1_2\"]:\n",
    "    for cas in cases:\n",
    "        if cas['name'] == cas_name:\n",
    "            cases_with_results.append(cas)\n",
    "\n",
    "con.plot_sensitivities(cases_with_results, dic, \"districtLoopDiameter\")"
   ]
  },
  {
   "cell_type": "markdown",
   "metadata": {},
   "source": [
    "## Minimum condenser leaving water temperature"
   ]
  },
  {
   "cell_type": "code",
   "execution_count": 19,
   "metadata": {
    "execution": {
     "iopub.execute_input": "2025-07-16T21:10:54.731968Z",
     "iopub.status.busy": "2025-07-16T21:10:54.731664Z",
     "iopub.status.idle": "2025-07-16T21:11:43.333898Z",
     "shell.execute_reply": "2025-07-16T21:11:43.333221Z"
    }
   },
   "outputs": [
    {
     "name": "stdout",
     "output_type": "stream",
     "text": [
      "Reading result files\n",
      "Reading base_TCon_10\n",
      "\n",
      "Read base_TCon_10\n",
      "\n",
      "Reading 1 cases.\n",
      "Finished reading result files.\n"
     ]
    }
   ],
   "source": [
    "importlib.reload(con)\n",
    "# Read other results and discharge previously used once.\n",
    "# This avoids a python kernel error if there is insufficient memory.\n",
    "print(\"Reading result files\")\n",
    "\n",
    "cases_to_read = [\"base_TCon_10\", \"base\", \"base_TCon_20\", \"base_TCon_30\"]\n",
    "con.read_cases(cases, cases_to_read)\n",
    "print(\"Finished reading result files.\")\n",
    "\n",
    "# Order the cases as in cases_to_read\n",
    "cases_with_results = []\n",
    "for cas_name in cases_to_read:\n",
    "    for cas in cases:\n",
    "        if cas['name'] == cas_name:\n",
    "            cases_with_results.append(cas)"
   ]
  },
  {
   "cell_type": "code",
   "execution_count": 20,
   "metadata": {
    "execution": {
     "iopub.execute_input": "2025-07-16T21:11:43.340532Z",
     "iopub.status.busy": "2025-07-16T21:11:43.340348Z",
     "iopub.status.idle": "2025-07-16T21:11:51.287871Z",
     "shell.execute_reply": "2025-07-16T21:11:51.287000Z"
    }
   },
   "outputs": [
    {
     "name": "stdout",
     "output_type": "stream",
     "text": [
      "All electricity use = [10.45831294 10.45741932 10.51266296 11.29436589]\n",
      "Sum of plot = [10.45831363 10.4574196  10.51266358 11.29436621]\n",
      "\n",
      "Heat pumps in ETS   & 4.76 &  42.5 \\\\\n",
      "Heat pumps in plant & 3.20 &  28.6 \\\\\n",
      "Pumps               & 3.72 &  33.2 \\\\\n",
      "Fans                & 0.54 &  4.8 \\\\\n",
      "Non-HVAC electricity for buildings & 8.85 &  79.1  \\\\ \\hline\n",
      "PVs and batteries  & -10.61 &  -94.8 \\\\\n",
      "Total & 10.46 &  93.4 \\\\ \\hline\n"
     ]
    },
    {
     "name": "stderr",
     "output_type": "stream",
     "text": [
      "/home/mwetter/test/thermal-grid-jba-main/PythonResources/RunCases/post_process_configurations.py:329: RuntimeWarning: More than 20 figures have been opened. Figures created through the pyplot interface (`matplotlib.pyplot.figure`) are retained until explicitly closed and may consume too much memory. (To control this warning, see the rcParam `figure.max_open_warning`).\n",
      "  fig, axs = plt.subplots(nrows=3, ncols=1, sharex=True)\n"
     ]
    }
   ],
   "source": [
    "importlib.reload(con)\n",
    "\n",
    "dic = {\n",
    "      \"y_label\": \"electricity\\n[GWh/a]\",\n",
    "      \"y_lim\": [0, 18],\n",
    "      \"factor\": 1E-9/3600,\n",
    "      \"unit\": \"GWh/a\",\n",
    "      \"factor2\": 1E-3,\n",
    "      \"unit2\": \"k$/a\",\n",
    "      \"offset\": 0,\n",
    "      \"x\":{\n",
    "          \"var\": \"bui[1].ets.datHeaPum.TConLvgMin\",\n",
    "          \"label\": \"Minimum condenser leaving water temperature [$^\\circ \\mathrm{C}$]\",\n",
    "          \"x_lim\": [8, 33],\n",
    "          \"factor\": 1,\n",
    "          \"offset\": -273.15\n",
    "      },\n",
    "      \"vars\": [\n",
    "         {\n",
    "            \"label\": \"site electricity\",\n",
    "            \"var\": \"ETot.y\",\n",
    "            \"linewidth\": 1,\n",
    "            \"color\": \"r\",\n",
    "         }\n",
    "      ],\n",
    "      \"y2_label\": \"annualized life cycle\\ncost difference [k$\\$$/a]\",\n",
    "      \"y2_lim\": [-800, 1000],\n",
    "      \"idxBaseCase\": 1, # Zero-based index of base case\n",
    "      \"vars2\": [\n",
    "          {\n",
    "              \"label\": \"annualized life cycle\\ncost difference\",\n",
    "              \"energyCost\": \"totEleCos.y\",\n",
    "              \"unitChange\": \"bui[1].ets.datHeaPum.TConLvgMin\",\n",
    "              \"costPerUnitChange\": 0,\n",
    "              \"lifeTime\": 20,\n",
    "              \"operationAndMaintenance\": 0\n",
    "\n",
    "          }\n",
    "      ]\n",
    "    }\n",
    "\n",
    "con.plot_sensitivities(cases_with_results, dic, \"minimumCondenserLeaving\")\n",
    "con.plot_energy(cases_with_results, \"minimumCondenserLeaving\")\n",
    "con.plot_loop_temperatures(cases_with_results)\n"
   ]
  },
  {
   "cell_type": "markdown",
   "metadata": {},
   "source": [
    "## Sensitivity to heat pump sizing"
   ]
  },
  {
   "cell_type": "code",
   "execution_count": 21,
   "metadata": {
    "execution": {
     "iopub.execute_input": "2025-07-16T21:11:51.294206Z",
     "iopub.status.busy": "2025-07-16T21:11:51.293957Z",
     "iopub.status.idle": "2025-07-16T21:16:18.539054Z",
     "shell.execute_reply": "2025-07-16T21:16:18.538403Z"
    }
   },
   "outputs": [
    {
     "name": "stdout",
     "output_type": "stream",
     "text": [
      "Reading result files\n",
      "Reading base_heaPumSizFac_0_8\n",
      "\n",
      "Read base_heaPumSizFac_0_8\n",
      "\n",
      "Reading base_heaPumSizFac_0_9\n",
      "\n",
      "Read base_heaPumSizFac_0_9\n",
      "\n",
      "Reading base_heaPumSizFac_1_1\n",
      "\n",
      "Read base_heaPumSizFac_1_1\n",
      "\n",
      "Reading base_heaPumSizFac_1_2\n",
      "\n",
      "Read base_heaPumSizFac_1_2\n",
      "\n",
      "Reading base_heaPumSizFac_1_3\n",
      "\n",
      "Read base_heaPumSizFac_1_3\n",
      "\n",
      "Reading 5 cases.\n",
      "Finished reading result files.\n"
     ]
    }
   ],
   "source": [
    "importlib.reload(con)\n",
    "# Read other results and discharge previously used once.\n",
    "# This avoids a python kernel error if there is insufficient memory.\n",
    "print(\"Reading result files\")\n",
    "cases_to_read = [\"base_heaPumSizFac_0_8\", \"base_heaPumSizFac_0_9\", \"base\", \"base_heaPumSizFac_1_1\", \"base_heaPumSizFac_1_2\", \"base_heaPumSizFac_1_3\"]\n",
    "con.read_cases(cases, cases_to_read)\n",
    "print(\"Finished reading result files.\")\n",
    "\n",
    "# Order the cases as in cases_to_read\n",
    "cases_with_results = []\n",
    "for cas_name in cases_to_read:\n",
    "    for cas in cases:\n",
    "        if cas['name'] == cas_name:\n",
    "            cases_with_results.append(cas)\n",
    "\n"
   ]
  },
  {
   "cell_type": "code",
   "execution_count": 22,
   "metadata": {
    "execution": {
     "iopub.execute_input": "2025-07-16T21:16:18.544565Z",
     "iopub.status.busy": "2025-07-16T21:16:18.544381Z",
     "iopub.status.idle": "2025-07-16T21:16:29.266189Z",
     "shell.execute_reply": "2025-07-16T21:16:29.265302Z"
    }
   },
   "outputs": [
    {
     "name": "stdout",
     "output_type": "stream",
     "text": [
      "All electricity use = [10.51159924 10.48910496 10.45741932 10.44795301 10.45240713 10.41522579]\n",
      "Sum of plot = [10.51159898 10.48910493 10.4574196  10.44795344 10.45240686 10.41522583]\n",
      "\n",
      "Heat pumps in ETS   & 4.78 &  42.7 \\\\\n",
      "Heat pumps in plant & 3.23 &  28.9 \\\\\n",
      "Pumps               & 3.72 &  33.2 \\\\\n",
      "Fans                & 0.53 &  4.8 \\\\\n",
      "Non-HVAC electricity for buildings & 8.85 &  79.1  \\\\ \\hline\n",
      "PVs and batteries  & -10.61 &  -94.8 \\\\\n",
      "Total & 10.51 &  93.9 \\\\ \\hline\n"
     ]
    }
   ],
   "source": [
    "importlib.reload(con)\n",
    "con.plot_energy(cases_with_results, \"centralPlantHeatPump\")\n",
    "con.plot_loop_temperatures(cases_with_results)\n"
   ]
  },
  {
   "cell_type": "code",
   "execution_count": 23,
   "metadata": {
    "execution": {
     "iopub.execute_input": "2025-07-16T21:16:29.271496Z",
     "iopub.status.busy": "2025-07-16T21:16:29.271302Z",
     "iopub.status.idle": "2025-07-16T21:16:30.364577Z",
     "shell.execute_reply": "2025-07-16T21:16:30.363310Z"
    }
   },
   "outputs": [],
   "source": [
    "\n",
    "importlib.reload(con)\n",
    "\n",
    "dic = {\n",
    "      \"y_label\": \"hours of setpoint violation\\n[h/a]\",\n",
    "      \"y_lim\": [0, 20],\n",
    "      \"factor\": 8760,\n",
    "      \"unit\": \"h/a\",\n",
    "      \"factor2\": 1E-3,\n",
    "      \"unit2\": \"k$/a\",\n",
    "      \"offset\": 0,\n",
    "      \"idxBaseCase\": 2, # Zero-based index of base case\n",
    "      \"x\":{\n",
    "          \"var\": \"cenPla.gen.heaPum.QCoo_flow_nominal\",\n",
    "          \"label\": \"heat pump capacity [MW]\",\n",
    "          \"x_lim\": [5.5, 11.5],\n",
    "          \"factor\": -1E-6,\n",
    "          \"offset\": 0\n",
    "      },\n",
    "      \"vars\": [\n",
    "         {\n",
    "            \"label\": \"set point violation\",\n",
    "            \"var\": \"conVio.y\",\n",
    "            \"linewidth\": 1,\n",
    "            \"color\": \"r\",\n",
    "         }\n",
    "      ],\n",
    "      \"y2_label\": \"annualized life cycle\\ncost difference [k$\\$$/a]\",\n",
    "      \"y2_lim\": [-1000, 1000],\n",
    "      \"vars2\": [\n",
    "          {\n",
    "              \"label\": \"annualized life cycle\\ncost difference\",\n",
    "              \"energyCost\": \"totEleCos.y\",\n",
    "              \"unitChange\": \"datDis.QPlaHeaPumCoo_flow_nominal\",\n",
    "              \"costPerUnitChange\": -1.631,\n",
    "              \"lifeTime\": 20,\n",
    "              \"operationAndMaintenance\": 0.02\n",
    "          }\n",
    "      ]\n",
    "    }\n",
    "\n",
    "con.plot_sensitivities(cases_with_results, dic, \"centralPlantHeatPump_annualLifeCycle\")\n",
    "\n",
    "# Create second plot with maximum loop temperature\n",
    "#dic[\"y_label\"] = \"maximum loop temperature\\n[$^\\circ \\mathrm{C}$]\"\n",
    "#dic[\"y_lim\"] = [23, 27]\n",
    "#dic[\"unit\"] = \"[$^\\circ \\mathrm{C}$]\"\n",
    "#dic[\"factor\"] = 1\n",
    "#dic[\"offset\"] = -273.15\n",
    "#dic[\"vars\"] = \\\n",
    "#       [\n",
    "#         {\n",
    "#            \"label\": \"maximum loop temperature\",\n",
    "#            \"var\": \"cenPla.TLooMaxMea\",\n",
    "#            \"operation\": \"max\",\n",
    "#            \"linewidth\": 1,\n",
    "#            \"color\": \"r\",\n",
    "#         }\n",
    "#      ]\n",
    "\n",
    "\n",
    "dic[\"y2_label\"] = \"investment\\ncost difference [k$\\$$/a]\"\n",
    "dic[\"y2_lim\"] = [-10000, 10000]\n",
    "dic[\"vars2\"] = [\n",
    "          {\n",
    "              \"label\": \"investment\\ncost difference\",\n",
    "              \"energyCost\": \"cenPla.gen.ind.zer.k\",\n",
    "              \"unitChange\": \"datDis.QPlaHeaPumCoo_flow_nominal\",\n",
    "              \"costPerUnitChange\": -1.631,\n",
    "              \"lifeTime\": 1,\n",
    "              \"operationAndMaintenance\": 0\n",
    "          }\n",
    "      ]\n",
    "\n",
    "\n",
    "con.plot_sensitivities(cases_with_results, dic, \"centralPlantHeatPump_investment\")"
   ]
  },
  {
   "cell_type": "code",
   "execution_count": null,
   "metadata": {},
   "outputs": [],
   "source": []
  },
  {
   "cell_type": "code",
   "execution_count": null,
   "metadata": {},
   "outputs": [],
   "source": []
  }
 ],
 "metadata": {
  "kernelspec": {
   "display_name": "Python 3",
   "language": "python",
   "name": "python3"
  },
  "language_info": {
   "codemirror_mode": {
    "name": "ipython",
    "version": 3
   },
   "file_extension": ".py",
   "mimetype": "text/x-python",
   "name": "python",
   "nbconvert_exporter": "python",
   "pygments_lexer": "ipython3",
   "version": "3.8.10"
  }
 },
 "nbformat": 4,
 "nbformat_minor": 1
}
