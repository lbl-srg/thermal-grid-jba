{
 "cells": [
  {
   "cell_type": "markdown",
   "metadata": {},
   "source": [
    "# Post-processing of case study for central plant results\n",
    "\n",
    "## Usage notes\n",
    "\n",
    "All figures will be written to the directory `img` as pdf and png files.\n",
    "\n",
    "I run this notebook on Ubuntu, using this version of matplotlib:\n",
    "```\n",
    "pip freeze | grep matplotlib\n",
    "matplotlib==3.5.1\n",
    "```\n",
    "Some older versions return an error because they do not support some plot configurations.\n",
    "I set in the virtual machine the RAM to 12GB as 8GB is not sufficient to parse two annual result files."
   ]
  },
  {
   "cell_type": "markdown",
   "metadata": {},
   "source": [
    "## Import required libraries"
   ]
  },
  {
   "cell_type": "code",
   "execution_count": 1,
   "metadata": {
    "execution": {
     "iopub.execute_input": "2025-06-17T04:08:06.004720Z",
     "iopub.status.busy": "2025-06-17T04:08:06.004013Z",
     "iopub.status.idle": "2025-06-17T04:08:06.861556Z",
     "shell.execute_reply": "2025-06-17T04:08:06.860999Z"
    }
   },
   "outputs": [
    {
     "data": {
      "text/plain": [
       "<module 'post_process_configurations' from '/home/mwetter/test/thermal-grid-jba-main/PythonResources/RunCases/post_process_configurations.py'>"
      ]
     },
     "execution_count": 1,
     "metadata": {},
     "output_type": "execute_result"
    }
   ],
   "source": [
    "import cases as cas\n",
    "import importlib\n",
    "import post_process_configurations as con\n",
    "importlib.reload(con)\n"
   ]
  },
  {
   "cell_type": "markdown",
   "metadata": {},
   "source": [
    "## Read annual results\n",
    "\n",
    "This section also clears the old results to free up memory."
   ]
  },
  {
   "cell_type": "code",
   "execution_count": 2,
   "metadata": {
    "execution": {
     "iopub.execute_input": "2025-06-17T04:08:06.914350Z",
     "iopub.status.busy": "2025-06-17T04:08:06.913739Z",
     "iopub.status.idle": "2025-06-17T04:08:06.959111Z",
     "shell.execute_reply": "2025-06-17T04:08:06.958516Z"
    }
   },
   "outputs": [
    {
     "name": "stdout",
     "output_type": "stream",
     "text": [
      "Cleaned up memory.\n"
     ]
    }
   ],
   "source": [
    "# Free up storage, then read new data\n",
    "import gc\n",
    "gc.collect()\n",
    "\n",
    "print(\"Cleaned up memory.\")"
   ]
  },
  {
   "cell_type": "markdown",
   "metadata": {},
   "source": [
    "Get list of cases"
   ]
  },
  {
   "cell_type": "code",
   "execution_count": 3,
   "metadata": {
    "execution": {
     "iopub.execute_input": "2025-06-17T04:08:06.962997Z",
     "iopub.status.busy": "2025-06-17T04:08:06.962825Z",
     "iopub.status.idle": "2025-06-17T04:08:06.967933Z",
     "shell.execute_reply": "2025-06-17T04:08:06.967363Z"
    }
   },
   "outputs": [],
   "source": [
    "# Build list of case files, their labels out output file prefix.\n",
    "# These are used to read in files and create plots.\n",
    "# This structure allows removing a case from the post-processing in case the simulation did not converge.\n",
    "import cases as cas\n",
    "cases = cas.get_cases()\n",
    "\n",
    "# Store commit in sim_version dictionary\n",
    "import os\n",
    "verFil = os.path.join(\"simulations\", \"base\", \"version.txt\")\n",
    "sim_version = dict()\n",
    "if os.path.exists(verFil):\n",
    "    with open(verFil, 'r') as fil:\n",
    "        s = fil.read()\n",
    "        kv_pairs = [\n",
    "            tuple(s_str.split('='))\n",
    "            for s_str in s.split('\\n')\n",
    "        ]\n",
    "        for ele in kv_pairs:\n",
    "          if ele[0] != '': # Skips empty line\n",
    "            sim_version[ele[0]] = ele[1]\n",
    "          \n",
    "#print(sim_version)\n",
    "\n"
   ]
  },
  {
   "cell_type": "markdown",
   "metadata": {},
   "source": [
    "Read result file. This takes around 3 minutes per result file."
   ]
  },
  {
   "cell_type": "code",
   "execution_count": 4,
   "metadata": {
    "execution": {
     "iopub.execute_input": "2025-06-17T04:08:06.971913Z",
     "iopub.status.busy": "2025-06-17T04:08:06.971641Z",
     "iopub.status.idle": "2025-06-17T04:19:16.677792Z",
     "shell.execute_reply": "2025-06-17T04:19:16.676912Z"
    }
   },
   "outputs": [
    {
     "name": "stdout",
     "output_type": "stream",
     "text": [
      "Reading result files\n",
      "Reading base\n",
      "Reading base_hBor_0_8\n",
      "Reading base_hBor_1_2\n",
      "Reading base_dDis_0_8\n",
      "Reading base_dDis_1_2\n",
      "Reading base_TCon_10\n",
      "Reading base_TCon_20\n",
      "Reading base_heaPumSizFac_0_8\n",
      "Reading base_heaPumSizFac_0_9\n",
      "Reading base_noEco\n",
      "Reading heat\n",
      "Reading cold\n",
      "Finished reading result files.\n"
     ]
    }
   ],
   "source": [
    "\n",
    "print(\"Reading result files\")\n",
    "r_base = None\n",
    "for cas in cases:\n",
    "    try:\n",
    "        print(f\"Reading {cas['name']}\")\n",
    "        cas['reader'] = con.get_results(cas['name'])\n",
    "        if cas['name'] == 'base':\n",
    "            r_base = cas['reader']\n",
    "    except Exception as e:\n",
    "        print(f\"*** Error reading {cas['name']}: \", e)\n",
    "        cas['postProcess'] = False\n",
    "print(\"Finished reading result files.\")\n",
    "    "
   ]
  },
  {
   "cell_type": "code",
   "execution_count": 5,
   "metadata": {
    "execution": {
     "iopub.execute_input": "2025-06-17T04:19:16.683117Z",
     "iopub.status.busy": "2025-06-17T04:19:16.682877Z",
     "iopub.status.idle": "2025-06-17T04:19:16.726662Z",
     "shell.execute_reply": "2025-06-17T04:19:16.726113Z"
    }
   },
   "outputs": [
    {
     "name": "stdout",
     "output_type": "stream",
     "text": [
      "Base case: Total energy use: 10.45 GWh\n",
      "Base case: Total energy use: 93.27 kWh/(m a)\n",
      "Base case: Total energy cost: 1.54 million USD per year\n",
      "Base case: Total energy cost: 13.73 USD/(m2 a)\n"
     ]
    }
   ],
   "source": [
    "AFlo = r_base.max('datDis.AFlo')\n",
    "\n",
    "print(f\"Base case: Total energy use: {r_base.max('ETot.y')/3600/1E9:.2f} GWh\")\n",
    "print(f\"Base case: Total energy use: {r_base.max('ETot.y')/3600/1E9/AFlo*1e6:.2f} kWh/(m a)\")\n",
    "\n",
    "print(f\"Base case: Total energy cost: {r_base.max('totEleCos.y')/1E6:.2f} million USD per year\")\n",
    "print(f\"Base case: Total energy cost: {r_base.max('totEleCos.y')/AFlo:.2f} USD/(m2 a)\")\n",
    "\n"
   ]
  },
  {
   "cell_type": "code",
   "execution_count": 6,
   "metadata": {
    "execution": {
     "iopub.execute_input": "2025-06-17T04:19:16.732659Z",
     "iopub.status.busy": "2025-06-17T04:19:16.732407Z",
     "iopub.status.idle": "2025-06-17T04:19:16.746555Z",
     "shell.execute_reply": "2025-06-17T04:19:16.746000Z"
    }
   },
   "outputs": [
    {
     "name": "stdout",
     "output_type": "stream",
     "text": [
      "CPUtime, base 10 h\n"
     ]
    }
   ],
   "source": [
    "print(f\"CPUtime, base {r_base.max('CPUtime')/3600.:.0f} h\")"
   ]
  },
  {
   "cell_type": "markdown",
   "metadata": {},
   "source": [
    "## Write main results to LaTeX file for inclusion in report"
   ]
  },
  {
   "cell_type": "code",
   "execution_count": 7,
   "metadata": {
    "execution": {
     "iopub.execute_input": "2025-06-17T04:19:16.753512Z",
     "iopub.status.busy": "2025-06-17T04:19:16.753294Z",
     "iopub.status.idle": "2025-06-17T04:19:16.815344Z",
     "shell.execute_reply": "2025-06-17T04:19:16.814832Z"
    }
   },
   "outputs": [
    {
     "name": "stdout",
     "output_type": "stream",
     "text": [
      "Annual energy cost difference 0.526 million $\n",
      "invCos = 0.477 million $\n",
      "ALCC of investment = 23929 $\n",
      "ALCC of investment and energy -502147 $\n"
     ]
    }
   ],
   "source": [
    "import os\n",
    "importlib.reload(con)\n",
    "\n",
    "if not os.path.exists(\"img\"):\n",
    "    os.mkdir(\"img\")\n",
    "with open(os.path.join(\"img\", \"modelicaResults.tex\"), \"w\") as fil:\n",
    "    # Energy costs\n",
    "    r_base_dDis_0_8 = None\n",
    "    for cas in cases:\n",
    "        if cas['name'] == 'base_dDis_0_8':\n",
    "            r_base_dDis_0_8= cas['reader']\n",
    "\n",
    "    ETot_base = r_base.max('ETot.y')\n",
    "    ETot_dDis_0_8 = r_base_dDis_0_8.max('ETot.y')\n",
    "    cosETot_base = r_base.max(\"totEleCos.y\")\n",
    "    dhDis_base = r_base.max('datDis.dhDisAct')\n",
    "    vDis_base = r_base.max('datDis.vDis_nominal')\n",
    "    cosETot_dDis_0_8 = r_base_dDis_0_8.max(\"totEleCos.y\")\n",
    "    dhDis_0_8 = r_base_dDis_0_8.max('datDis.dhDisAct')\n",
    "\n",
    "\n",
    "    # ALCC is annualized life cycle costs\n",
    "    # Investment cost difference is length of distribution pipe, time cost difference of 0.5 vs 0.4 m diameter (from Sommer paper) times exchange rate from Euro to $\n",
    "    invCosDif = 3460 *(1220-1100)*1.15\n",
    "    # Annualized increase in electricity costs due to smaller pipes.\n",
    "    delEneCos =  cosETot_dDis_0_8 - cosETot_base\n",
    "    (ALCC, LCC, I, OM, RC, SR, CRF) = con.calc_finance(invCosDif, 0, 0, 40, 0.01)\n",
    "\n",
    "    print(f\"Annual energy cost difference {delEneCos/1E6:.3f} million $\")\n",
    "    print(f\"invCos = {invCosDif/1E6:.3f} million $\")\n",
    "    print(f\"ALCC of investment = {ALCC:.0f} $\")\n",
    "    print(f\"ALCC of investment and energy {ALCC-delEneCos:.0f} $\")\n",
    "\n",
    "    s = \"\"\"\n",
    "\\\\newcommand{\\\\modelicaBranch}{\"\"\" + f\"{sim_version['branch']}\" + \"\"\"\\\\xspace}\n",
    "\\\\newcommand{\\\\modelicaCommit}{\\\\href{https://github.com/lbl-srg/thermal-grid-jba/commit/\"\"\" + f\"{sim_version['commit']}\" + \"\"\"}{\"\"\" + f\"{sim_version['commit'][0:6]}\" + \"\"\"}\\\\xspace}\n",
    "\n",
    "\\\\newcommand{\\\\cpuTime}{\"\"\" + f\"{r_base.max('CPUtime')/3600.:.0f} hours\" + \"\"\"\\\\xspace}\n",
    "\\\\newcommand{\\\\delEnergyDDisEighty}{$\"\"\" + f\"{(ETot_dDis_0_8/ETot_base-1)*100:.0f}\\%\" + \"\"\"$\\\\xspace}\n",
    "\\\\newcommand{\\\\delEnergyCosDDisEighty}{$\\\\$\"\"\" + f\"{(cosETot_dDis_0_8-cosETot_base)/1E6:.2f} \\, \\mathrm{{million}}\" + \"\"\"$\\\\xspace}\n",
    "\n",
    "\\\\newcommand{\\\\totEneCosBase}{$\\\\$\"\"\" + f\"{cosETot_base/1E6:.2f} \\, \\mathrm{{million}}\" + \"\"\"$\\\\xspace}\n",
    "\\\\newcommand{\\\\totEneCosDDisEighty}{$\\\\$\"\"\" + f\"{cosETot_dDis_0_8/1E6:.2f} \\, \\mathrm{{million}}\" + \"\"\"$\\\\xspace}\n",
    "\n",
    "\\\\newcommand{\\\\dhBase}{$\"\"\" + f\"{dhDis_base:.2f} \\, \\mathrm m ({dhDis_base*3.28084:.2f} \\, \\mathrm{{ft}})\" + \"\"\"$\\\\xspace}\n",
    "\\\\newcommand{\\\\dhDDisEighty}{$\"\"\" + f\"{dhDis_0_8:.2f} \\, \\mathrm m ({dhDis_0_8*3.28084:.2f} \\, \\mathrm{{ft}})\" + \"\"\"$\\\\xspace}\n",
    "\\\\newcommand{\\\\vDisBase}{$\"\"\" + f\"{vDis_base:.2f} \\, \\mathrm{{m/s}} ({vDis_base*3.28084:.2f} \\, \\mathrm {{ft/s}})\" + \"\"\"$\\\\xspace}\n",
    "\n",
    "\\\\newcommand{\\\\delAnnLifCycEighty}{$\\\\$\"\"\" + f\"{(delEneCos-ALCC)/1E6:.2f} \\, \\mathrm{{million}}\" + \"\"\"$\\\\xspace}\n",
    "\"\"\"\n",
    "    fil.write(s)\n",
    "\n",
    "\n"
   ]
  },
  {
   "cell_type": "markdown",
   "metadata": {},
   "source": [
    "### Write capacities to LaTeX file"
   ]
  },
  {
   "cell_type": "code",
   "execution_count": 8,
   "metadata": {
    "execution": {
     "iopub.execute_input": "2025-06-17T04:19:16.820353Z",
     "iopub.status.busy": "2025-06-17T04:19:16.820144Z",
     "iopub.status.idle": "2025-06-17T04:19:16.864398Z",
     "shell.execute_reply": "2025-06-17T04:19:16.863450Z"
    }
   },
   "outputs": [],
   "source": [
    "# Note that the unyt package used in this function does not allow to reload the module.\n",
    "# Hence we put the function in its own file\n",
    "import post_process_write_latex_table as lat\n",
    "importlib.reload(lat)\n",
    "lat.write_latex_capacity_table(r_base)"
   ]
  },
  {
   "cell_type": "markdown",
   "metadata": {},
   "source": [
    "### Energy use\n"
   ]
  },
  {
   "cell_type": "code",
   "execution_count": 9,
   "metadata": {
    "execution": {
     "iopub.execute_input": "2025-06-17T04:19:16.869298Z",
     "iopub.status.busy": "2025-06-17T04:19:16.869091Z",
     "iopub.status.idle": "2025-06-17T04:19:19.847422Z",
     "shell.execute_reply": "2025-06-17T04:19:19.846739Z"
    },
    "scrolled": true
   },
   "outputs": [
    {
     "name": "stdout",
     "output_type": "stream",
     "text": [
      "All electricity use = [10.44570207 10.83572341 10.15579527 13.99599981  9.42348668 10.44988472\n",
      " 10.50640297 10.48735034 10.48384926 10.62788865 11.0938199  10.80336435]\n",
      "Sum of plot = [10.44570252 10.83572419 10.15579577 13.99599964  9.42348701 10.44988492\n",
      " 10.50640322 10.48735009 10.48384975 10.62788852 11.09382009 10.80336414]\n",
      "\n",
      "Heat pumps in ETS   & 4.76 &  42.5 \\\\\n",
      "Heat pumps in plant & 3.20 &  28.5 \\\\\n",
      "Pumps               & 3.71 &  33.2 \\\\\n",
      "Fans                & 0.54 &  4.8 \\\\\n",
      "Non-HVAC electricity for buildings & 8.85 &  79.1  \\\\ \\hline\n",
      "PVs and batteries  & -10.62 &  -94.8 \\\\\n",
      "Total & 10.45 &  93.3 \\\\ \\hline\n"
     ]
    }
   ],
   "source": [
    "importlib.reload(con)\n",
    "con.plot_energy(cases)"
   ]
  },
  {
   "cell_type": "markdown",
   "metadata": {},
   "source": [
    "## Loop temperatures"
   ]
  },
  {
   "cell_type": "code",
   "execution_count": 10,
   "metadata": {
    "execution": {
     "iopub.execute_input": "2025-06-17T04:19:19.853109Z",
     "iopub.status.busy": "2025-06-17T04:19:19.852868Z",
     "iopub.status.idle": "2025-06-17T04:19:37.604227Z",
     "shell.execute_reply": "2025-06-17T04:19:37.603522Z"
    }
   },
   "outputs": [],
   "source": [
    "importlib.reload(con)\n",
    "con.plot_loop_temperatures(cases)\n"
   ]
  },
  {
   "cell_type": "markdown",
   "metadata": {},
   "source": [
    "# Demand curves"
   ]
  },
  {
   "cell_type": "code",
   "execution_count": 11,
   "metadata": {
    "execution": {
     "iopub.execute_input": "2025-06-17T04:19:37.609755Z",
     "iopub.status.busy": "2025-06-17T04:19:37.609549Z",
     "iopub.status.idle": "2025-06-17T04:19:39.553846Z",
     "shell.execute_reply": "2025-06-17T04:19:39.552988Z"
    }
   },
   "outputs": [],
   "source": [
    "importlib.reload(con)\n",
    "con.plotElectricalTimeSeries(r_base)\n",
    "\n"
   ]
  },
  {
   "cell_type": "code",
   "execution_count": 12,
   "metadata": {
    "execution": {
     "iopub.execute_input": "2025-06-17T04:19:39.559198Z",
     "iopub.status.busy": "2025-06-17T04:19:39.559010Z",
     "iopub.status.idle": "2025-06-17T04:19:40.211400Z",
     "shell.execute_reply": "2025-06-17T04:19:40.210730Z"
    }
   },
   "outputs": [],
   "source": [
    "importlib.reload(con)\n",
    "con.writeElectricalTimeSeries(r_base)"
   ]
  },
  {
   "cell_type": "markdown",
   "metadata": {},
   "source": []
  },
  {
   "cell_type": "markdown",
   "metadata": {},
   "source": [
    "# Plot plant operation"
   ]
  },
  {
   "cell_type": "code",
   "execution_count": 13,
   "metadata": {
    "execution": {
     "iopub.execute_input": "2025-06-17T04:19:40.217345Z",
     "iopub.status.busy": "2025-06-17T04:19:40.217164Z",
     "iopub.status.idle": "2025-06-17T04:19:44.316099Z",
     "shell.execute_reply": "2025-06-17T04:19:44.315175Z"
    }
   },
   "outputs": [],
   "source": [
    "importlib.reload(con)# List of days to plot\n",
    "days = [\n",
    "    {\n",
    "        \"xlim\": [31, 32],\n",
    "        \"date\": \"Feb. 1\",\n",
    "        \"name\": \"Winter\"\n",
    "    },\n",
    "    {\n",
    "        \"xlim\": [160, 161],\n",
    "        \"date\": \"June 10\",\n",
    "        \"name\": \"Spring\"\n",
    "    },\n",
    "    {\n",
    "        \"xlim\": [213, 214],\n",
    "        \"date\": \"Aug. 2\",\n",
    "        \"name\": \"Summer\"\n",
    "    }\n",
    "]\n",
    "# List of variables to plot for each subplot\n",
    "lis = [\n",
    "        {\n",
    "            \"y_label\": \"Controls\",\n",
    "            \"y_lim\": [-3, 3],\n",
    "            \"factor\": 1,\n",
    "            \"offset\": 0,\n",
    "            \"vars\": [\n",
    "                {\n",
    "                    \"label\": \"$P_{st}$\",\n",
    "                    \"var\": \"cenPla.gen.ind.ySt\",\n",
    "                    \"linewidth\": 1,\n",
    "                    },\n",
    "                    {\n",
    "                    \"label\": \"$P_{pla}$\",\n",
    "                    \"var\": \"cenPla.gen.ind.yPlaOut\",\n",
    "                    }\n",
    "                ]\n",
    "        },\n",
    "        {\n",
    "            \"y_label\": \"Temperature\\n[$^\\\\circ$C]\",\n",
    "            \"y_lim\": [10, 28],\n",
    "            \"factor\": 1,\n",
    "            \"offset\": -273.15,\n",
    "            \"vars\": [\n",
    "                 {\n",
    "                    \"label\": \"$T_{pla,hea,set}$\",\n",
    "                    \"var\": \"cenPla.gen.ind.TActPlaHeaSet\",\n",
    "                    \"linewidth\": 1,\n",
    "                    \"marker\": \">\",\n",
    "                    \"color\": \"r\",\n",
    "                    \"skip_if_ySea\": 3\n",
    "                    },\n",
    "                 {\n",
    "                    \"label\": \"$T_{pla,coo,set}$\",\n",
    "                    \"var\": \"cenPla.gen.ind.TActPlaCooSet\",\n",
    "                    \"linewidth\": 1,\n",
    "                    \"marker\": \">\",\n",
    "                    \"color\": \"r\",\n",
    "                    \"skip_if_ySea\": 1\n",
    "                    },\n",
    "                {\n",
    "                    \"label\": \"$T_{pla,in}$\",\n",
    "                    \"var\": \"TDisWatRet.T\",\n",
    "                    \"linewidth\": 0.5,\n",
    "                    \"marker\": \">\",\n",
    "                    \"color\": \"k\"\n",
    "                    },\n",
    "                    {\n",
    "                    \"label\": \"$T_{pla,out}$\",\n",
    "                    \"var\": \"cenPla.gen.senTemGenLea.T\",\n",
    "                    \"linewidth\": 0.5,\n",
    "                    \"marker\": \"<\",\n",
    "                    \"color\": \"k\"\n",
    "                    }\n",
    "            ]\n",
    "        },\n",
    "        {\n",
    "            \"y_label\": \"Temperature\\n[$^\\\\circ$C]\",\n",
    "            \"y_lim\": [10, 28],\n",
    "            \"factor\": 1,\n",
    "            \"offset\": -273.15,\n",
    "            \"vars\": [\n",
    "#                    {\n",
    "#                    \"label\": \"$T_{bor,per,ret}$\",\n",
    "#                    \"var\": \"cenPla.gen.senTemBorPerRet.T\",\n",
    "#                    \"marker\": \"<\",\n",
    "#                    \"linestyle\": \"--\",\n",
    "#                    \"color\": \"g\"\n",
    "#                    },\n",
    "#                    {\n",
    "#                    \"label\": \"$T_{bor,cen,sup}$\",\n",
    "#                    \"var\": \"cenPla.gen.senTemBorCenSup.T\",\n",
    "#                    \"linestyle\": \"-.\",\n",
    "#                    \"color\": \"r\",\n",
    "#                    \"marker\": \">\"\n",
    "#                    },\n",
    "#                    {\n",
    "#                    \"label\": \"$T_{bor,cen,ret}$\",\n",
    "#                    \"var\": \"cenPla.gen.senTemBorCenRet.T\",\n",
    "#                    \"linestyle\": \"-.\",\n",
    "#                    \"color\": \"r\",\n",
    "#                    \"marker\": \"<\"\n",
    "#                    },\n",
    "                    {\n",
    "                    \"label\": \"$T_{hea,pum,sup}$\",\n",
    "                    \"var\": \"cenPla.gen.senTemHeaPumEnt.T\",\n",
    "                    \"color\": \"b\",\n",
    "                    \"marker\": \">\"\n",
    "                    },\n",
    "                    {\n",
    "                    \"label\": \"$T_{hea,pum,ret}$\",\n",
    "                    \"var\": \"cenPla.gen.senTemHeaPumLea.T\",\n",
    "                    \"color\": \"b\",\n",
    "                    \"marker\": \"<\"\n",
    "                    }\n",
    "                ]\n",
    "            },\n",
    "#            {\n",
    "#            \"P_label\": \"Mass flow\\nrate [kg/s]\",\n",
    "#            \"P_lim\": [0, 500],\n",
    "#            \"factor\": 1,\n",
    "#            \"offset\": 0,\n",
    "#            \"vars\": [\n",
    "#                    {\n",
    "#                    \"label\": \"$\\dot m_{eco}$\",\n",
    "#                    \"var\": \"cenPla.gen.hex.m2_flow\",\n",
    "#                    },\n",
    "#                    {\n",
    "#                    \"label\": \"$\\dot m_{bor,per}$\",\n",
    "#                    \"var\": \"cenPla.gen.senTemBorPerRet.port_a.m_flow\",\n",
    "#                    \"marker\": \"o\",\n",
    "#                    },\n",
    "#                    {\n",
    "#                    \"label\": \"$\\dot m_{bor,cen}$\",\n",
    "#                    \"var\": \"cenPla.gen.senTemBorCenRet.port_a.m_flow\",\n",
    "#                    \"marker\": \"x\",\n",
    "#                    },\n",
    "#                    {\n",
    "#                    \"label\": \"$\\dot m_{hea,pum}$\",\n",
    "#                    \"var\": \"cenPla.gen.heaPum.m1_flow\",\n",
    "#                    \"marker\": \"v\",\n",
    "#                    }\n",
    "#                    ]\n",
    "#            },\n",
    "            {\n",
    "            \"y_label\": \"Heat flow\\nrate [MW]\",\n",
    "            \"y_lim\": [-8, 8],\n",
    "            \"factor\": 1E-6,\n",
    "            \"offset\": 0,\n",
    "            \"vars\": [\n",
    "#                    {\n",
    "#                    \"label\": \"$\\dot Q_{eco}$\",\n",
    "#                    \"var\": \"cenPla.gen.hex.Q2_flow\",\n",
    "#                    },\n",
    "                    {\n",
    "                    \"label\": \"$\\dot Q_{bor,per}$\",\n",
    "                    \"var\": \"cenPla.borFie.QPer_flow\",\n",
    "                    \"marker\": \"o\",\n",
    "                    },\n",
    "                    {\n",
    "                    \"label\": \"$\\dot Q_{bor,cen}$\",\n",
    "                    \"var\": \"cenPla.borFie.QCen_flow\",\n",
    "                    \"marker\": \"x\",\n",
    "                    },\n",
    "                    {\n",
    "                    \"label\": \"$\\dot Q_{hea,pum}$\",\n",
    "                    \"var\": \"cenPla.gen.heaPum.Q1_flow\",\n",
    "                    \"marker\": \"v\",\n",
    "                    }\n",
    "                    ]\n",
    "        }\n",
    "    ]\n",
    "\n",
    "con.plotPlant(lis, r_base, \"plant\", days)"
   ]
  },
  {
   "cell_type": "code",
   "execution_count": 17,
   "metadata": {
    "execution": {
     "iopub.execute_input": "2025-06-17T04:19:44.321540Z",
     "iopub.status.busy": "2025-06-17T04:19:44.321353Z",
     "iopub.status.idle": "2025-06-17T04:19:45.901820Z",
     "shell.execute_reply": "2025-06-17T04:19:45.900861Z"
    }
   },
   "outputs": [],
   "source": [
    "importlib.reload(con)\n",
    "# List of days to plot\n",
    "days = [\n",
    "    {\n",
    "        \"xlim\": [56, 61],\n",
    "        \"date\": \"February\",\n",
    "        \"name\": \"February\"\n",
    "    }\n",
    "]\n",
    "# List of variables to plot for each subplot\n",
    "lis = [\n",
    "        {\n",
    "            \"y_label\": \"Control signal [1]\",\n",
    "            \"y_lim\": [0, 1],\n",
    "            \"factor\": 1,\n",
    "            \"offset\": 0,\n",
    "            \"vars\": [\n",
    "                {\n",
    "                    \"label\": \"$y_{ets,hea,pum,1}$ (ETS)\",\n",
    "                    \"var\": \"bui[1].ets.heaPum.heaPum.ySet\",\n",
    "                },\n",
    "                {\n",
    "                    \"label\": \"$y_{ets,hea,pum,2}$ (ETS)\",\n",
    "                    \"var\": \"bui[2].ets.heaPum.heaPum.ySet\",\n",
    "                },\n",
    "                {\n",
    "                    \"label\": \"$y_{ets,hea,pum,3}$ (ETS)\",\n",
    "                    \"var\": \"bui[3].ets.heaPum.heaPum.ySet\",\n",
    "                },\n",
    "                {\n",
    "                    \"label\": \"$y_{ets,hea,pum,4}$ (ETS)\",\n",
    "                    \"var\": \"bui[4].ets.heaPum.heaPum.ySet\",\n",
    "                },\n",
    "                {\n",
    "                    \"label\": \"$y_{ets,hea,pum,5}$ (ETS)\",\n",
    "                    \"var\": \"bui[5].ets.heaPum.heaPum.ySet\",\n",
    "                },\n",
    "                {\n",
    "                    \"label\": \"$y_{cen,hea,pum}$ (central plant)\",\n",
    "                    \"var\": \"cenPla.gen.heaPum.ySet\",\n",
    "                    \"linewidth\": 0.5\n",
    "                }\n",
    "\n",
    "                ]\n",
    "        },\n",
    "        {\n",
    "            \"y_label\": \"$\\sum P$ [MW]\\n(cummulative power)\",\n",
    "            \"y_lim\": [0, 7],\n",
    "            \"factor\": 1E-6,\n",
    "            \"offset\": 0,\n",
    "            \"plotSumOfSeries\": True,\n",
    "            \"vars\": [\n",
    "                {\n",
    "                    \"label\": \"$P_{ETS,hea,pum,1}$ (ETS)\",\n",
    "                    \"var\": \"bui[1].ets.heaPum.heaPum.P\",\n",
    "                },\n",
    "                {\n",
    "                    \"label\": \"$P_{ETS,hea,pum,2}$ (ETS)\",\n",
    "                    \"var\": \"bui[2].ets.heaPum.heaPum.P\",\n",
    "                },\n",
    "                {\n",
    "                    \"label\": \"$P_{ETS,hea,pum,3}$ (ETS)\",\n",
    "                    \"var\": \"bui[3].ets.heaPum.heaPum.P\",\n",
    "                },\n",
    "                {\n",
    "                    \"label\": \"$P_{ETS,hea,pum,4}$ (ETS)\",\n",
    "                    \"var\": \"bui[4].ets.heaPum.heaPum.P\",\n",
    "                },\n",
    "                {\n",
    "                    \"label\": \"$P_{ETS,hea,pum,5}$ (ETS)\",\n",
    "                    \"var\": \"bui[5].ets.heaPum.heaPum.P\",\n",
    "                },\n",
    "                {\n",
    "                    \"label\": \"$P_{cen,hea,pum}$ (central plant)\",\n",
    "                    \"var\": \"cenPla.gen.heaPum.P\",\n",
    "                    \"linewidth\": 0.5\n",
    "                }\n",
    "            ]\n",
    "        },\n",
    "        {\n",
    "            \"y_label\": \"Temperature [$^\\\\circ$C]\",\n",
    "            \"y_lim\": [10, 28],\n",
    "            \"factor\": 1,\n",
    "            \"offset\": -273.15,\n",
    "            \"vars\": [\n",
    "                    {\n",
    "                    \"label\": \"$T_{dis,loo,max}$\",\n",
    "                    \"var\": \"cenPla.TLooMaxMea\",\n",
    "                    \"color\": \"r\"\n",
    "                    },\n",
    "                    {\n",
    "                    \"label\": \"$T_{dis,loo,min}$\",\n",
    "                    \"var\": \"cenPla.TLooMinMea\",\n",
    "                    \"color\": \"b\"\n",
    "                    }\n",
    "                ]\n",
    "            }\n",
    "    ]\n",
    "\n",
    "con.plotPlant(lis, r_base, \"peakPower\", days, time=\"days\", fontSize=6, nColLegend=1)\n"
   ]
  },
  {
   "cell_type": "markdown",
   "metadata": {},
   "source": [
    "# Plot borefield energy"
   ]
  },
  {
   "cell_type": "code",
   "execution_count": 15,
   "metadata": {
    "execution": {
     "iopub.execute_input": "2025-06-17T04:19:45.907300Z",
     "iopub.status.busy": "2025-06-17T04:19:45.907108Z",
     "iopub.status.idle": "2025-06-17T04:19:46.735475Z",
     "shell.execute_reply": "2025-06-17T04:19:46.734834Z"
    }
   },
   "outputs": [],
   "source": [
    "# List of days to plot\n",
    "days = [\n",
    "    {\n",
    "        \"xlim\": [0, 365],\n",
    "        \"date\": \"\",\n",
    "        \"name\": \"Annual\"\n",
    "    }\n",
    "]\n",
    "# List of variables to plot for each subplot\n",
    "lis = [\n",
    "        {\n",
    "            \"y_label\": \"Borefield energy [GWh]\",\n",
    "            \"y_lim\": [-3, 3],\n",
    "            \"factor\": 1/3600/1E9,\n",
    "            \"offset\": 0,\n",
    "            \"vars\": [\n",
    "                {\n",
    "                    \"label\": \"Modelica $E_{bor}$\",\n",
    "                    \"var\": \"EBor.y\",\n",
    "                    \"linewidth\": 1\n",
    "                    },\n",
    "                    {\n",
    "                    \"label\": \"Modelica $E_{bor,per}$\",\n",
    "                    \"var\": \"EBorPer.y\",\n",
    "                    \"linewidth\": 1\n",
    "                    },\n",
    "                    {\n",
    "                    \"label\": \"Modelica $E_{bor,cen}$\",\n",
    "                    \"var\": \"EBorCen.y\",\n",
    "                    \"linewidth\": 1\n",
    "                    },\n",
    "                    {\n",
    "                    \"label\": \"MILP $E_{bor}$\",\n",
    "                    \"var\": \"borMil.E\",\n",
    "                    \"linestyle\": \"--\",\n",
    "                    \"mark_every\": 50\n",
    "                    }\n",
    "                ]\n",
    "        }\n",
    "]\n",
    "\n",
    "con.plotOneFigure(lis, r_base, \"borefieldEnergy\", days)"
   ]
  },
  {
   "cell_type": "code",
   "execution_count": null,
   "metadata": {},
   "outputs": [],
   "source": []
  },
  {
   "cell_type": "code",
   "execution_count": null,
   "metadata": {},
   "outputs": [],
   "source": []
  }
 ],
 "metadata": {
  "kernelspec": {
   "display_name": "Python 3",
   "language": "python",
   "name": "python3"
  },
  "language_info": {
   "codemirror_mode": {
    "name": "ipython",
    "version": 3
   },
   "file_extension": ".py",
   "mimetype": "text/x-python",
   "name": "python",
   "nbconvert_exporter": "python",
   "pygments_lexer": "ipython3",
   "version": "3.8.10"
  }
 },
 "nbformat": 4,
 "nbformat_minor": 1
}
