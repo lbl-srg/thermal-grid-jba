{
 "cells": [
  {
   "cell_type": "markdown",
   "metadata": {},
   "source": [
    "# Post-processing of case study for central plant results\n",
    "\n",
    "## Usage notes\n",
    "\n",
    "All figures will be written to the directory `img` as pdf and png files.\n",
    "\n",
    "I run this notebook on Ubuntu, using this version of matplotlib:\n",
    "```\n",
    "pip freeze | grep matplotlib\n",
    "matplotlib==3.5.1\n",
    "```\n",
    "Some older versions return an error because they do not support some plot configurations.\n",
    "I set in the virtual machine the RAM to 12GB as 8GB is not sufficient to parse two annual result files."
   ]
  },
  {
   "cell_type": "markdown",
   "metadata": {},
   "source": [
    "## Import required libraries"
   ]
  },
  {
   "cell_type": "code",
   "execution_count": 9,
   "metadata": {
    "execution": {
     "iopub.execute_input": "2025-06-19T23:24:22.838961Z",
     "iopub.status.busy": "2025-06-19T23:24:22.838303Z",
     "iopub.status.idle": "2025-06-19T23:24:23.460647Z",
     "shell.execute_reply": "2025-06-19T23:24:23.460127Z"
    }
   },
   "outputs": [
    {
     "data": {
      "text/plain": [
       "<module 'cases' from '/home/mwetter/test/thermal-grid-jba-main/PythonResources/RunCases/cases.py'>"
      ]
     },
     "execution_count": 9,
     "metadata": {},
     "output_type": "execute_result"
    }
   ],
   "source": [
    "import cases as cas\n",
    "import importlib\n",
    "import post_process_configurations as con\n",
    "importlib.reload(con)\n",
    "importlib.reload(cas)"
   ]
  },
  {
   "cell_type": "markdown",
   "metadata": {},
   "source": [
    "## Read annual results\n",
    "\n",
    "This section also clears the old results to free up memory."
   ]
  },
  {
   "cell_type": "code",
   "execution_count": 10,
   "metadata": {
    "execution": {
     "iopub.execute_input": "2025-06-19T23:24:23.508746Z",
     "iopub.status.busy": "2025-06-19T23:24:23.508088Z",
     "iopub.status.idle": "2025-06-19T23:24:23.555929Z",
     "shell.execute_reply": "2025-06-19T23:24:23.555367Z"
    }
   },
   "outputs": [
    {
     "name": "stdout",
     "output_type": "stream",
     "text": [
      "Cleaned up memory.\n"
     ]
    }
   ],
   "source": [
    "# Free up storage, then read new data\n",
    "import gc\n",
    "gc.collect()\n",
    "\n",
    "print(\"Cleaned up memory.\")"
   ]
  },
  {
   "cell_type": "markdown",
   "metadata": {},
   "source": [
    "Get list of cases"
   ]
  },
  {
   "cell_type": "code",
   "execution_count": 11,
   "metadata": {
    "execution": {
     "iopub.execute_input": "2025-06-19T23:24:23.558856Z",
     "iopub.status.busy": "2025-06-19T23:24:23.558694Z",
     "iopub.status.idle": "2025-06-19T23:24:23.563437Z",
     "shell.execute_reply": "2025-06-19T23:24:23.562917Z"
    }
   },
   "outputs": [],
   "source": [
    "# Build list of case files, their labels out output file prefix.\n",
    "# These are used to read in files and create plots.\n",
    "# This structure allows removing a case from the post-processing in case the simulation did not converge.\n",
    "import cases as cas\n",
    "cases = cas.get_cases()\n",
    "\n",
    "# Store commit in sim_version dictionary\n",
    "import os\n",
    "verFil = os.path.join(\"simulations\", \"base\", \"version.txt\")\n",
    "sim_version = dict()\n",
    "if os.path.exists(verFil):\n",
    "    with open(verFil, 'r') as fil:\n",
    "        s = fil.read()\n",
    "        kv_pairs = [\n",
    "            tuple(s_str.split('='))\n",
    "            for s_str in s.split('\\n')\n",
    "        ]\n",
    "        for ele in kv_pairs:\n",
    "          if ele[0] != '': # Skips empty line\n",
    "            sim_version[ele[0]] = ele[1]\n",
    "\n",
    "#print(sim_version)\n",
    "\n"
   ]
  },
  {
   "cell_type": "markdown",
   "metadata": {},
   "source": [
    "Read result file. This takes around 3 minutes per result file."
   ]
  },
  {
   "cell_type": "code",
   "execution_count": 12,
   "metadata": {
    "execution": {
     "iopub.execute_input": "2025-06-19T23:24:23.566672Z",
     "iopub.status.busy": "2025-06-19T23:24:23.566404Z",
     "iopub.status.idle": "2025-06-19T23:37:54.608783Z",
     "shell.execute_reply": "2025-06-19T23:37:54.607484Z"
    }
   },
   "outputs": [
    {
     "name": "stdout",
     "output_type": "stream",
     "text": [
      "Reading result files\n",
      "Reading base\n",
      "Finished reading result files.\n"
     ]
    }
   ],
   "source": [
    "\n",
    "print(\"Reading result files\")\n",
    "r_base = None\n",
    "for cas in cases:\n",
    "    try:\n",
    "        print(f\"Reading {cas['name']}\")\n",
    "        cas['reader'] = con.get_results(cas['name'])\n",
    "        if cas['name'] == 'base':\n",
    "            r_base = cas['reader']\n",
    "    except Exception as e:\n",
    "        print(f\"*** Error reading {cas['name']}: \", e)\n",
    "        cas['postProcess'] = False\n",
    "print(\"Finished reading result files.\")\n"
   ]
  },
  {
   "cell_type": "code",
   "execution_count": 13,
   "metadata": {
    "execution": {
     "iopub.execute_input": "2025-06-19T23:37:54.613237Z",
     "iopub.status.busy": "2025-06-19T23:37:54.613000Z",
     "iopub.status.idle": "2025-06-19T23:37:54.660223Z",
     "shell.execute_reply": "2025-06-19T23:37:54.659691Z"
    }
   },
   "outputs": [
    {
     "name": "stdout",
     "output_type": "stream",
     "text": [
      "Base case: Total energy use: 10.34 GWh\n",
      "Base case: Total energy use: 92.31 kWh/(m a)\n",
      "Base case: Total energy cost: 1.52 million USD per year\n",
      "Base case: Total energy cost: 13.57 USD/(m2 a)\n"
     ]
    }
   ],
   "source": [
    "AFlo = r_base.max('datDis.AFlo')\n",
    "\n",
    "print(f\"Base case: Total energy use: {r_base.max('ETot.y')/3600/1E9:.2f} GWh\")\n",
    "print(f\"Base case: Total energy use: {r_base.max('ETot.y')/3600/1E9/AFlo*1e6:.2f} kWh/(m a)\")\n",
    "\n",
    "print(f\"Base case: Total energy cost: {r_base.max('totEleCos.y')/1E6:.2f} million USD per year\")\n",
    "print(f\"Base case: Total energy cost: {r_base.max('totEleCos.y')/AFlo:.2f} USD/(m2 a)\")\n",
    "\n"
   ]
  },
  {
   "cell_type": "code",
   "execution_count": 14,
   "metadata": {
    "execution": {
     "iopub.execute_input": "2025-06-19T23:37:54.666762Z",
     "iopub.status.busy": "2025-06-19T23:37:54.666567Z",
     "iopub.status.idle": "2025-06-19T23:37:54.682746Z",
     "shell.execute_reply": "2025-06-19T23:37:54.682174Z"
    }
   },
   "outputs": [
    {
     "name": "stdout",
     "output_type": "stream",
     "text": [
      "CPUtime, base 10 h\n"
     ]
    }
   ],
   "source": [
    "print(f\"CPUtime, base {r_base.max('CPUtime')/3600.:.0f} h\")"
   ]
  },
  {
   "cell_type": "markdown",
   "metadata": {},
   "source": [
    "## Write main results to LaTeX file for inclusion in report"
   ]
  },
  {
   "cell_type": "code",
   "execution_count": 7,
   "metadata": {
    "execution": {
     "iopub.execute_input": "2025-06-19T23:37:54.689997Z",
     "iopub.status.busy": "2025-06-19T23:37:54.689539Z",
     "iopub.status.idle": "2025-06-19T23:37:55.671334Z",
     "shell.execute_reply": "2025-06-19T23:37:55.670513Z"
    }
   },
   "outputs": [
    {
     "name": "stdout",
     "output_type": "stream",
     "text": [
      "Annual energy cost difference 0.531 million $\n",
      "invCos = 0.477 million $\n",
      "ALCC of investment = 23929 $\n",
      "ALCC of investment and energy -506611 $\n"
     ]
    }
   ],
   "source": [
    "import os\n",
    "importlib.reload(con)\n",
    "\n",
    "if not os.path.exists(\"img\"):\n",
    "    os.mkdir(\"img\")\n",
    "with open(os.path.join(\"img\", \"modelicaResults.tex\"), \"w\") as fil:\n",
    "    # Energy costs\n",
    "    r_base_dDis_0_8 = None\n",
    "    for cas in cases:\n",
    "        if cas['name'] == 'base_dDis_0_8':\n",
    "            r_base_dDis_0_8= cas['reader']\n",
    "\n",
    "    ETot_base = r_base.max('ETot.y')\n",
    "    ETot_dDis_0_8 = r_base_dDis_0_8.max('ETot.y')\n",
    "    cosETot_base = r_base.max(\"totEleCos.y\")\n",
    "    dhDis_base = r_base.max('datDis.dhDisAct')\n",
    "    vDis_base = r_base.max('datDis.vDis_nominal')\n",
    "    cosETot_dDis_0_8 = r_base_dDis_0_8.max(\"totEleCos.y\")\n",
    "    dhDis_0_8 = r_base_dDis_0_8.max('datDis.dhDisAct')\n",
    "\n",
    "\n",
    "    # ALCC is annualized life cycle costs\n",
    "    # Investment cost difference is length of distribution pipe, time cost difference of 0.5 vs 0.4 m diameter (from Sommer paper) times exchange rate from Euro to $\n",
    "    invCosDif = 3460 *(1220-1100)*1.15\n",
    "    # Annualized increase in electricity costs due to smaller pipes.\n",
    "    delEneCos =  cosETot_dDis_0_8 - cosETot_base\n",
    "    (ALCC, LCC, I, OM, RC, SR, CRF) = con.calc_finance(invCosDif, 0, 0, 40, 0.01)\n",
    "\n",
    "    print(f\"Annual energy cost difference {delEneCos/1E6:.3f} million $\")\n",
    "    print(f\"invCos = {invCosDif/1E6:.3f} million $\")\n",
    "    print(f\"ALCC of investment = {ALCC:.0f} $\")\n",
    "    print(f\"ALCC of investment and energy {ALCC-delEneCos:.0f} $\")\n",
    "\n",
    "    s = \"\"\"\n",
    "\\\\newcommand{\\\\modelicaBranch}{\"\"\" + f\"{sim_version['branch']}\" + \"\"\"\\\\xspace}\n",
    "\\\\newcommand{\\\\modelicaCommit}{\\\\href{https://github.com/lbl-srg/thermal-grid-jba/commit/\"\"\" + f\"{sim_version['commit']}\" + \"\"\"}{\"\"\" + f\"{sim_version['commit'][0:6]}\" + \"\"\"}\\\\xspace}\n",
    "\n",
    "\\\\newcommand{\\\\cpuTime}{\"\"\" + f\"{r_base.max('CPUtime')/3600.:.0f} hours\" + \"\"\"\\\\xspace}\n",
    "\\\\newcommand{\\\\delEnergyDDisEighty}{$\"\"\" + f\"{(ETot_dDis_0_8/ETot_base-1)*100:.0f}\\%\" + \"\"\"$\\\\xspace}\n",
    "\\\\newcommand{\\\\delEnergyCosDDisEighty}{$\\\\$\"\"\" + f\"{(cosETot_dDis_0_8-cosETot_base)/1E6:.2f} \\, \\mathrm{{million}}\" + \"\"\"$\\\\xspace}\n",
    "\n",
    "\\\\newcommand{\\\\totEneCosBase}{$\\\\$\"\"\" + f\"{cosETot_base/1E6:.2f} \\, \\mathrm{{million}}\" + \"\"\"$\\\\xspace}\n",
    "\\\\newcommand{\\\\totEneCosDDisEighty}{$\\\\$\"\"\" + f\"{cosETot_dDis_0_8/1E6:.2f} \\, \\mathrm{{million}}\" + \"\"\"$\\\\xspace}\n",
    "\n",
    "\\\\newcommand{\\\\dhBase}{$\"\"\" + f\"{dhDis_base:.2f} \\, \\mathrm m ({dhDis_base*3.28084:.2f} \\, \\mathrm{{ft}})\" + \"\"\"$\\\\xspace}\n",
    "\\\\newcommand{\\\\dhDDisEighty}{$\"\"\" + f\"{dhDis_0_8:.2f} \\, \\mathrm m ({dhDis_0_8*3.28084:.2f} \\, \\mathrm{{ft}})\" + \"\"\"$\\\\xspace}\n",
    "\\\\newcommand{\\\\vDisBase}{$\"\"\" + f\"{vDis_base:.2f} \\, \\mathrm{{m/s}} ({vDis_base*3.28084:.2f} \\, \\mathrm {{ft/s}})\" + \"\"\"$\\\\xspace}\n",
    "\n",
    "\\\\newcommand{\\\\delAnnLifCycEighty}{$\\\\$\"\"\" + f\"{(delEneCos-ALCC)/1E6:.2f} \\, \\mathrm{{million}}\" + \"\"\"$\\\\xspace}\n",
    "\"\"\"\n",
    "    fil.write(s)\n",
    "\n",
    "\n"
   ]
  },
  {
   "cell_type": "markdown",
   "metadata": {},
   "source": [
    "### Write capacities to LaTeX file"
   ]
  },
  {
   "cell_type": "code",
   "execution_count": 8,
   "metadata": {
    "execution": {
     "iopub.execute_input": "2025-06-19T23:37:55.676202Z",
     "iopub.status.busy": "2025-06-19T23:37:55.676025Z",
     "iopub.status.idle": "2025-06-19T23:37:55.718277Z",
     "shell.execute_reply": "2025-06-19T23:37:55.717475Z"
    }
   },
   "outputs": [],
   "source": [
    "# Note that the unyt package used in this function does not allow to reload the module.\n",
    "# Hence we put the function in its own file\n",
    "import post_process_write_latex_table as lat\n",
    "importlib.reload(lat)\n",
    "lat.write_latex_capacity_table(r_base)"
   ]
  },
  {
   "cell_type": "markdown",
   "metadata": {},
   "source": [
    "### Energy use\n"
   ]
  },
  {
   "cell_type": "code",
   "execution_count": 9,
   "metadata": {
    "execution": {
     "iopub.execute_input": "2025-06-19T23:37:55.723085Z",
     "iopub.status.busy": "2025-06-19T23:37:55.722929Z",
     "iopub.status.idle": "2025-06-19T23:37:59.006932Z",
     "shell.execute_reply": "2025-06-19T23:37:59.005835Z"
    },
    "scrolled": true
   },
   "outputs": [
    {
     "name": "stdout",
     "output_type": "stream",
     "text": [
      "All electricity use = [10.33806807 10.705072   10.07426266 13.92015748  9.30763477 10.32906197\n",
      " 10.39660424 11.18843058 10.38755736 10.38464815 10.34750292 10.2976676\n",
      " 10.30267397 10.5191152  10.97594481 10.68712387]\n",
      "Sum of plot = [10.3380677  10.70507203 10.07426215 13.92015768  9.30763445 10.32906231\n",
      " 10.39660385 11.18843024 10.3875569  10.38464831 10.34750251 10.29766736\n",
      " 10.30267339 10.51911498 10.97594436 10.68712352]\n",
      "\n",
      "Heat pumps in ETS   & 4.76 &  42.5 \\\\\n",
      "Heat pumps in plant & 3.20 &  28.6 \\\\\n",
      "Pumps               & 3.72 &  33.2 \\\\\n",
      "Fans                & 0.54 &  4.8 \\\\\n",
      "Non-HVAC electricity for buildings & 8.85 &  79.1  \\\\ \\hline\n",
      "PVs and batteries  & -10.73 &  -95.8 \\\\\n",
      "Total & 10.34 &  92.3 \\\\ \\hline\n"
     ]
    }
   ],
   "source": [
    "importlib.reload(con)\n",
    "con.plot_energy(cases)"
   ]
  },
  {
   "cell_type": "markdown",
   "metadata": {},
   "source": [
    "## Loop temperatures"
   ]
  },
  {
   "cell_type": "code",
   "execution_count": 10,
   "metadata": {
    "execution": {
     "iopub.execute_input": "2025-06-19T23:37:59.011805Z",
     "iopub.status.busy": "2025-06-19T23:37:59.011617Z",
     "iopub.status.idle": "2025-06-19T23:38:22.332955Z",
     "shell.execute_reply": "2025-06-19T23:38:22.331577Z"
    }
   },
   "outputs": [],
   "source": [
    "importlib.reload(con)\n",
    "con.plot_loop_temperatures(cases)\n"
   ]
  },
  {
   "cell_type": "markdown",
   "metadata": {},
   "source": [
    "# Demand curves"
   ]
  },
  {
   "cell_type": "code",
   "execution_count": 11,
   "metadata": {
    "execution": {
     "iopub.execute_input": "2025-06-19T23:38:22.338518Z",
     "iopub.status.busy": "2025-06-19T23:38:22.338307Z",
     "iopub.status.idle": "2025-06-19T23:38:24.316594Z",
     "shell.execute_reply": "2025-06-19T23:38:24.315473Z"
    }
   },
   "outputs": [],
   "source": [
    "importlib.reload(con)\n",
    "con.plotElectricalTimeSeries(r_base)"
   ]
  },
  {
   "cell_type": "code",
   "execution_count": 12,
   "metadata": {
    "execution": {
     "iopub.execute_input": "2025-06-19T23:38:24.321239Z",
     "iopub.status.busy": "2025-06-19T23:38:24.321047Z",
     "iopub.status.idle": "2025-06-19T23:38:24.964206Z",
     "shell.execute_reply": "2025-06-19T23:38:24.963567Z"
    }
   },
   "outputs": [],
   "source": [
    "importlib.reload(con)\n",
    "con.writeElectricalTimeSeries(r_base)"
   ]
  },
  {
   "cell_type": "markdown",
   "metadata": {},
   "source": []
  },
  {
   "cell_type": "markdown",
   "metadata": {},
   "source": [
    "# Plot plant operation"
   ]
  },
  {
   "cell_type": "raw",
   "metadata": {
    "execution": {
     "iopub.execute_input": "2025-06-19T23:38:24.969874Z",
     "iopub.status.busy": "2025-06-19T23:38:24.969564Z",
     "iopub.status.idle": "2025-06-19T23:38:28.896419Z",
     "shell.execute_reply": "2025-06-19T23:38:28.895351Z"
    }
   },
   "source": [
    "importlib.reload(con)# List of days to plot\n",
    "days = [\n",
    "    {\n",
    "        \"xlim\": [3841/24., 3843/24.],\n",
    "        \"date\": \"June 10\",\n",
    "        \"name\": \"Spring\"\n",
    "    }\n",
    "]\n",
    "# List of variables to plot for each subplot\n",
    "lis = [\n",
    "        {\n",
    "            \"y_label\": \"Controls\",\n",
    "            \"y_lim\": [-3, 3],\n",
    "            \"factor\": 1,\n",
    "            \"offset\": 0,\n",
    "            \"vars\": [\n",
    "                {\n",
    "                    \"label\": \"$y_{st}$\",\n",
    "                    \"var\": \"cenPla.gen.ind.ySt\",\n",
    "                    \"linewidth\": 1,\n",
    "                    }\n",
    "                ]\n",
    "        },\n",
    "        {\n",
    "            \"y_label\": \"Mass flow\\nrate [kg/s]\",\n",
    "            \"y_lim\": [0, 500],\n",
    "            \"factor\": 1,\n",
    "            \"offset\": 0,\n",
    "            \"vars\": [\n",
    "                    {\n",
    "                    \"label\": \"$\\dot m_{dis}$\",\n",
    "                    \"var\": \"TDisWatRet.port_a.m_flow\",\n",
    "                    }\n",
    "            ]\n",
    "        },\n",
    "        {\n",
    "            \"y_label\": \"Temperature\\n[$^\\\\circ$C]\",\n",
    "            \"y_lim\": [10, 28],\n",
    "            \"factor\": 1,\n",
    "            \"offset\": -273.15,\n",
    "            \"vars\": [\n",
    "                {\n",
    "                    \"label\": \"$T_{loo,max}$\",\n",
    "                    \"var\": \"TLooMaxMea.y\",\n",
    "                    \"linewidth\": 1,\n",
    "                    \"marker\": \">\",\n",
    "                    \"color\": \"r\",\n",
    "                    \"skip_if_ySea\": 1\n",
    "                },\n",
    "                 {\n",
    "                    \"label\": \"$T_{pla,coo,set}$\",\n",
    "                    \"var\": \"cenPla.gen.ind.TActPlaCooSet\",\n",
    "                    \"linewidth\": 1,\n",
    "                    \"marker\": \">\",\n",
    "                    \"color\": \"r\",\n",
    "                    \"skip_if_ySea\": 1\n",
    "                    },\n",
    "                    {\n",
    "                    \"label\": \"$T_{pla,out}$\",\n",
    "                    \"var\": \"cenPla.gen.senTemGenLea.T\",\n",
    "                    \"linewidth\": 0.7,\n",
    "                    \"marker\": \"<\",\n",
    "                    \"color\": \"k\"\n",
    "                    }\n",
    "#                    ,\n",
    "#                    {\n",
    "#                    \"label\": \"$T_{bor,cen,sup}$\",\n",
    "#                    \"var\": \"cenPla.gen.senTemBorCenSup.T\",\n",
    "#                    \"linestyle\": \"-.\",\n",
    "#                    \"color\": \"r\",\n",
    "#                    \"marker\": \">\"\n",
    "#                    },\n",
    "#                    {\n",
    "#                    \"label\": \"$T_{bor,cen,ret}$\",\n",
    "#                    \"var\": \"cenPla.gen.senTemBorCenRet.T\",\n",
    "#                    \"linestyle\": \"-.\",\n",
    "#                    \"color\": \"r\",\n",
    "#                    \"marker\": \"<\"\n",
    "#                    }\n",
    "            ]\n",
    "        }\n",
    "        ,\n",
    "        {\n",
    "            \"y_label\": \"Heat flow\\nrate [MW]\",\n",
    "            \"y_lim\": [-8, 8],\n",
    "            \"factor\": 1E-6,\n",
    "            \"offset\": 0,\n",
    "            \"vars\": [\n",
    "#                    {\n",
    "#                    \"label\": \"$\\dot Q_{bor,per}$\",\n",
    "#                    \"var\": \"cenPla.borFie.QPer_flow\",\n",
    "#                    \"marker\": \"o\",\n",
    "#                   }\n",
    "#                  ,\n",
    "                    {\n",
    "                    \"label\": \"$\\dot Q_{bor,cen}$\",\n",
    "                    \"var\": \"cenPla.borFie.QCen_flow\",\n",
    "                    \"marker\": \"x\",\n",
    "                    },\n",
    "                    {\n",
    "                    \"label\": \"$\\dot Q_{hea,pum}$\",\n",
    "                    \"var\": \"cenPla.gen.heaPum.Q1_flow\",\n",
    "                    \"marker\": \"v\",\n",
    "                    }\n",
    "                    ]\n",
    "        }\n",
    "    ]\n",
    "\n",
    "con.plotPlant(lis, r_base, \"plantSimplified\", days)"
   ]
  },
  {
   "cell_type": "code",
   "execution_count": null,
   "metadata": {},
   "outputs": [],
   "source": [
    "importlib.reload(con)# List of days to plot\n",
    "days = [\n",
    "    {\n",
    "        \"xlim\": [31, 32],\n",
    "        \"date\": \"Feb. 1\",\n",
    "        \"name\": \"Winter\"\n",
    "    },\n",
    "    {\n",
    "        \"xlim\": [160, 161],\n",
    "        \"date\": \"June 10\",\n",
    "        \"name\": \"Spring\"\n",
    "    },\n",
    "    {\n",
    "        \"xlim\": [213, 214],\n",
    "        \"date\": \"Aug. 2\",\n",
    "        \"name\": \"Summer\"\n",
    "    }\n",
    "]\n",
    "# List of variables to plot for each subplot\n",
    "lis = [\n",
    "        {\n",
    "            \"y_label\": \"Controls\",\n",
    "            \"y_lim\": [-3, 3],\n",
    "            \"factor\": 1,\n",
    "            \"offset\": 0,\n",
    "            \"vars\": [\n",
    "                {\n",
    "                    \"label\": \"$y_{st}$\",\n",
    "                    \"var\": \"cenPla.gen.ind.ySt\",\n",
    "                    \"linewidth\": 1,\n",
    "                    }\n",
    "                    ,\n",
    "                    {\n",
    "                    \"label\": \"$y_{pla}$\",\n",
    "                    \"var\": \"cenPla.gen.ind.yPlaOut\",\n",
    "                    }\n",
    "                ]\n",
    "        },\n",
    "        {\n",
    "            \"y_label\": \"Temperature\\n[$^\\\\circ$C]\",\n",
    "            \"y_lim\": [10, 28],\n",
    "            \"factor\": 1,\n",
    "            \"offset\": -273.15,\n",
    "            \"vars\": [\n",
    "                 {\n",
    "                    \"label\": \"$T_{pla,hea,set}$\",\n",
    "                    \"var\": \"cenPla.gen.ind.TActPlaHeaSet\",\n",
    "                    \"linewidth\": 1,\n",
    "                    \"marker\": \">\",\n",
    "                    \"color\": \"r\",\n",
    "                    \"skip_if_ySea\": 3\n",
    "                    },\n",
    "                 {\n",
    "                    \"label\": \"$T_{pla,coo,set}$\",\n",
    "                    \"var\": \"cenPla.gen.ind.TActPlaCooSet\",\n",
    "                    \"linewidth\": 1,\n",
    "                    \"marker\": \">\",\n",
    "                    \"color\": \"r\",\n",
    "                    \"skip_if_ySea\": 1\n",
    "                    },\n",
    "                {\n",
    "                    \"label\": \"$T_{pla,in}$\",\n",
    "                    \"var\": \"TDisWatRet.T\",\n",
    "                    \"linewidth\": 0.7,\n",
    "                    \"marker\": \">\",\n",
    "                    \"color\": \"k\"\n",
    "                    },\n",
    "                    {\n",
    "                    \"label\": \"$T_{pla,out}$\",\n",
    "                    \"var\": \"cenPla.gen.senTemGenLea.T\",\n",
    "                    \"linewidth\": 0.7,\n",
    "                    \"marker\": \"<\",\n",
    "                    \"color\": \"k\"\n",
    "                    }\n",
    "            ]\n",
    "        },\n",
    "        {\n",
    "            \"y_label\": \"Temperature\\n[$^\\\\circ$C]\",\n",
    "            \"y_lim\": [10, 28],\n",
    "            \"factor\": 1,\n",
    "            \"offset\": -273.15,\n",
    "            \"vars\": [\n",
    "#                    {\n",
    "#                    \"label\": \"$T_{bor,per,ret}$\",\n",
    "#                    \"var\": \"cenPla.gen.senTemBorPerRet.T\",\n",
    "#                    \"marker\": \"<\",\n",
    "#                    \"linestyle\": \"--\",\n",
    "#                    \"color\": \"g\"\n",
    "#                    },\n",
    "#                    {\n",
    "#                    \"label\": \"$T_{bor,cen,sup}$\",\n",
    "#                    \"var\": \"cenPla.gen.senTemBorCenSup.T\",\n",
    "#                    \"linestyle\": \"-.\",\n",
    "#                    \"color\": \"r\",\n",
    "#                    \"marker\": \">\"\n",
    "#                    },\n",
    "#                    {\n",
    "#                    \"label\": \"$T_{bor,cen,ret}$\",\n",
    "#                    \"var\": \"cenPla.gen.senTemBorCenRet.T\",\n",
    "#                    \"linestyle\": \"-.\",\n",
    "#                    \"color\": \"r\",\n",
    "#                    \"marker\": \"<\"\n",
    "#                    },\n",
    "                    {\n",
    "                    \"label\": \"$T_{hea,pum,sup}$\",\n",
    "                    \"var\": \"cenPla.gen.senTemHeaPumEnt.T\",\n",
    "                    \"color\": \"b\",\n",
    "                    \"marker\": \">\"\n",
    "                    },\n",
    "                    {\n",
    "                    \"label\": \"$T_{hea,pum,ret}$\",\n",
    "                    \"var\": \"cenPla.gen.senTemHeaPumLea.T\",\n",
    "                    \"color\": \"b\",\n",
    "                    \"marker\": \"<\"\n",
    "                    }\n",
    "                ]\n",
    "            },\n",
    "#            {\n",
    "#            \"P_label\": \"Mass flow\\nrate [kg/s]\",\n",
    "#            \"P_lim\": [0, 500],\n",
    "#            \"factor\": 1,\n",
    "#            \"offset\": 0,\n",
    "#            \"vars\": [\n",
    "#                    {\n",
    "#                    \"label\": \"$\\dot m_{eco}$\",\n",
    "#                    \"var\": \"cenPla.gen.hex.m2_flow\",\n",
    "#                    },\n",
    "#                    {\n",
    "#                    \"label\": \"$\\dot m_{bor,per}$\",\n",
    "#                    \"var\": \"cenPla.gen.senTemBorPerRet.port_a.m_flow\",\n",
    "#                    \"marker\": \"o\",\n",
    "#                    },\n",
    "#                    {\n",
    "#                    \"label\": \"$\\dot m_{bor,cen}$\",\n",
    "#                    \"var\": \"cenPla.gen.senTemBorCenRet.port_a.m_flow\",\n",
    "#                    \"marker\": \"x\",\n",
    "#                    },\n",
    "#                    {\n",
    "#                    \"label\": \"$\\dot m_{hea,pum}$\",\n",
    "#                    \"var\": \"cenPla.gen.heaPum.m1_flow\",\n",
    "#                    \"marker\": \"v\",\n",
    "#                    }\n",
    "#                    ]\n",
    "#            },\n",
    "            {\n",
    "            \"y_label\": \"Heat flow\\nrate [MW]\",\n",
    "            \"y_lim\": [-8, 8],\n",
    "            \"factor\": 1E-6,\n",
    "            \"offset\": 0,\n",
    "            \"vars\": [\n",
    "#                    {\n",
    "#                    \"label\": \"$\\dot Q_{eco}$\",\n",
    "#                    \"var\": \"cenPla.gen.hex.Q2_flow\",\n",
    "#                    },\n",
    "                    {\n",
    "                    \"label\": \"$\\dot Q_{bor,per}$\",\n",
    "                    \"var\": \"cenPla.borFie.QPer_flow\",\n",
    "                    \"marker\": \"o\",\n",
    "                    },\n",
    "                    {\n",
    "                    \"label\": \"$\\dot Q_{bor,cen}$\",\n",
    "                    \"var\": \"cenPla.borFie.QCen_flow\",\n",
    "                    \"marker\": \"x\",\n",
    "                    },\n",
    "                    {\n",
    "                    \"label\": \"$\\dot Q_{hea,pum}$\",\n",
    "                    \"var\": \"cenPla.gen.heaPum.Q1_flow\",\n",
    "                    \"marker\": \"v\",\n",
    "                    }\n",
    "                    ]\n",
    "        }\n",
    "    ]\n",
    "\n",
    "con.plotPlant(lis, r_base, \"plant\", days)"
   ]
  },
  {
   "cell_type": "code",
   "execution_count": 14,
   "metadata": {
    "execution": {
     "iopub.execute_input": "2025-06-19T23:38:28.901250Z",
     "iopub.status.busy": "2025-06-19T23:38:28.901064Z",
     "iopub.status.idle": "2025-06-19T23:38:30.447495Z",
     "shell.execute_reply": "2025-06-19T23:38:30.446682Z"
    }
   },
   "outputs": [],
   "source": [
    "importlib.reload(con)\n",
    "# List of days to plot\n",
    "days = [\n",
    "    {\n",
    "        \"xlim\": [56, 61],\n",
    "        \"date\": \"February\",\n",
    "        \"name\": \"February\"\n",
    "    }\n",
    "]\n",
    "# List of variables to plot for each subplot\n",
    "lis = [\n",
    "        {\n",
    "            \"y_label\": \"Control signal [1]\",\n",
    "            \"y_lim\": [0, 1],\n",
    "            \"factor\": 1,\n",
    "            \"offset\": 0,\n",
    "            \"vars\": [\n",
    "                {\n",
    "                    \"label\": \"$y_{ets,hea,pum,1}$ (ETS)\",\n",
    "                    \"var\": \"bui[1].ets.heaPum.heaPum.ySet\",\n",
    "                },\n",
    "                {\n",
    "                    \"label\": \"$y_{ets,hea,pum,2}$ (ETS)\",\n",
    "                    \"var\": \"bui[2].ets.heaPum.heaPum.ySet\",\n",
    "                },\n",
    "                {\n",
    "                    \"label\": \"$y_{ets,hea,pum,3}$ (ETS)\",\n",
    "                    \"var\": \"bui[3].ets.heaPum.heaPum.ySet\",\n",
    "                },\n",
    "                {\n",
    "                    \"label\": \"$y_{ets,hea,pum,4}$ (ETS)\",\n",
    "                    \"var\": \"bui[4].ets.heaPum.heaPum.ySet\",\n",
    "                },\n",
    "                {\n",
    "                    \"label\": \"$y_{ets,hea,pum,5}$ (ETS)\",\n",
    "                    \"var\": \"bui[5].ets.heaPum.heaPum.ySet\",\n",
    "                },\n",
    "                {\n",
    "                    \"label\": \"$y_{cen,hea,pum}$ (central plant)\",\n",
    "                    \"var\": \"cenPla.gen.heaPum.ySet\",\n",
    "                    \"linewidth\": 0.7\n",
    "                }\n",
    "\n",
    "                ]\n",
    "        },\n",
    "        {\n",
    "            \"y_label\": \"$\\sum P$ [MW]\\n(cummulative power)\",\n",
    "            \"y_lim\": [0, 7],\n",
    "            \"factor\": 1E-6,\n",
    "            \"offset\": 0,\n",
    "            \"plotSumOfSeries\": True,\n",
    "            \"vars\": [\n",
    "                {\n",
    "                    \"label\": \"$P_{ETS,hea,pum,1}$ (ETS)\",\n",
    "                    \"var\": \"bui[1].ets.heaPum.heaPum.P\",\n",
    "                },\n",
    "                {\n",
    "                    \"label\": \"$P_{ETS,hea,pum,2}$ (ETS)\",\n",
    "                    \"var\": \"bui[2].ets.heaPum.heaPum.P\",\n",
    "                },\n",
    "                {\n",
    "                    \"label\": \"$P_{ETS,hea,pum,3}$ (ETS)\",\n",
    "                    \"var\": \"bui[3].ets.heaPum.heaPum.P\",\n",
    "                },\n",
    "                {\n",
    "                    \"label\": \"$P_{ETS,hea,pum,4}$ (ETS)\",\n",
    "                    \"var\": \"bui[4].ets.heaPum.heaPum.P\",\n",
    "                },\n",
    "                {\n",
    "                    \"label\": \"$P_{ETS,hea,pum,5}$ (ETS)\",\n",
    "                    \"var\": \"bui[5].ets.heaPum.heaPum.P\",\n",
    "                },\n",
    "                {\n",
    "                    \"label\": \"$P_{cen,hea,pum}$ (central plant)\",\n",
    "                    \"var\": \"cenPla.gen.heaPum.P\",\n",
    "                    \"linewidth\": 0.7\n",
    "                }\n",
    "            ]\n",
    "        },\n",
    "        {\n",
    "            \"y_label\": \"Temperature [$^\\\\circ$C]\",\n",
    "            \"y_lim\": [10, 28],\n",
    "            \"factor\": 1,\n",
    "            \"offset\": -273.15,\n",
    "            \"vars\": [\n",
    "                    {\n",
    "                    \"label\": \"$T_{dis,loo,max}$\",\n",
    "                    \"var\": \"cenPla.TLooMaxMea\",\n",
    "                    \"color\": \"r\"\n",
    "                    },\n",
    "                    {\n",
    "                    \"label\": \"$T_{dis,loo,min}$\",\n",
    "                    \"var\": \"cenPla.TLooMinMea\",\n",
    "                    \"color\": \"b\"\n",
    "                    }\n",
    "                ]\n",
    "            }\n",
    "    ]\n",
    "\n",
    "con.plotPlant(lis, r_base, \"peakPower\", days, time=\"days\", fontSize=6, nColLegend=1)\n"
   ]
  },
  {
   "cell_type": "markdown",
   "metadata": {},
   "source": [
    "# Plot borefield energy"
   ]
  },
  {
   "cell_type": "code",
   "execution_count": 15,
   "metadata": {
    "execution": {
     "iopub.execute_input": "2025-06-19T23:38:30.452495Z",
     "iopub.status.busy": "2025-06-19T23:38:30.452311Z",
     "iopub.status.idle": "2025-06-19T23:38:31.230927Z",
     "shell.execute_reply": "2025-06-19T23:38:31.230276Z"
    }
   },
   "outputs": [],
   "source": [
    "# List of days to plot\n",
    "days = [\n",
    "    {\n",
    "        \"xlim\": [0, 365],\n",
    "        \"date\": \"\",\n",
    "        \"name\": \"Annual\"\n",
    "    }\n",
    "]\n",
    "# List of variables to plot for each subplot\n",
    "lis = [\n",
    "        {\n",
    "            \"y_label\": \"Borefield energy [GWh]\",\n",
    "            \"y_lim\": [-3, 3],\n",
    "            \"factor\": 1/3600/1E9,\n",
    "            \"offset\": 0,\n",
    "            \"vars\": [\n",
    "                {\n",
    "                    \"label\": \"Modelica $E_{bor}$\",\n",
    "                    \"var\": \"EBor.y\",\n",
    "                    \"linewidth\": 1\n",
    "                    },\n",
    "                    {\n",
    "                    \"label\": \"Modelica $E_{bor,per}$\",\n",
    "                    \"var\": \"EBorPer.y\",\n",
    "                    \"linewidth\": 1\n",
    "                    },\n",
    "                    {\n",
    "                    \"label\": \"Modelica $E_{bor,cen}$\",\n",
    "                    \"var\": \"EBorCen.y\",\n",
    "                    \"linewidth\": 1\n",
    "                    },\n",
    "                    {\n",
    "                    \"label\": \"MILP $E_{bor}$\",\n",
    "                    \"var\": \"borMil.E\",\n",
    "                    \"linestyle\": \"-\",\n",
    "                    \"mark_every\": 50,\n",
    "                    \"linewidth\": 1\n",
    "                    }\n",
    "                ]\n",
    "        }\n",
    "]\n",
    "\n",
    "con.plotOneFigure(lis, r_base, \"borefieldEnergy\", days)"
   ]
  },
  {
   "cell_type": "markdown",
   "metadata": {},
   "source": [
    "## Sensitivities\n",
    "\n",
    "### Borefield depth"
   ]
  },
  {
   "cell_type": "code",
   "execution_count": 16,
   "metadata": {
    "execution": {
     "iopub.execute_input": "2025-06-19T23:38:31.236383Z",
     "iopub.status.busy": "2025-06-19T23:38:31.236199Z",
     "iopub.status.idle": "2025-06-19T23:38:31.822191Z",
     "shell.execute_reply": "2025-06-19T23:38:31.821531Z"
    }
   },
   "outputs": [],
   "source": [
    "importlib.reload(con)\n",
    "\n",
    "dic = {\n",
    "      \"y_label\": \"electricity\\n[GWh/a]\",\n",
    "      \"y_lim\": [0, 18],\n",
    "      \"factor\": 1E-9/3600,\n",
    "      \"unit\": \"GWh/a\",\n",
    "      \"factor2\": 1E-3,\n",
    "      \"unit2\": \"k$/a\",\n",
    "      \"offset\": 0,\n",
    "      \"x\":{\n",
    "          \"var\": \"cenPla.borFie.hBor\",\n",
    "          \"label\": \"Borefield depth [m]\",\n",
    "          \"x_lim\": [65, 115],\n",
    "          \"factor\": 1,\n",
    "          \"offset\": 0\n",
    "      },\n",
    "      \"vars\": [\n",
    "         {\n",
    "            \"label\": \"site electricity\",\n",
    "            \"var\": \"ETot.y\",\n",
    "            \"linewidth\": 1,\n",
    "            \"color\": \"r\",\n",
    "         },\n",
    "         {\n",
    "            \"label\": \"central plant heat pumps\",\n",
    "            \"var\": \"EComPla.y\",\n",
    "            \"linewidth\": 1,\n",
    "            \"color\": \"r\",\n",
    "         }\n",
    "      ],\n",
    "      \"y2_label\": \"annualized life cycle\\ncost difference [k$\\$$/a]\",\n",
    "      \"y2_lim\": [-30, 60],\n",
    "      \"idxBaseCase\": 1, # Zero-based index of base case\n",
    "      \"vars2\": [\n",
    "          {\n",
    "              \"label\": \"annualized life cycle\\ncost difference\",\n",
    "              \"energyCost\": \"totEleCos.y\",\n",
    "              \"unitChange\": \"cenPla.borFie.hBor\",\n",
    "              \"costPerUnitChange\": 2376*42, # 2376 wells and $42 per meter, from ORNL https://info.ornl.gov/sites/publications/Files/Pub107271.pdf\n",
    "              \"lifeTime\": 40,\n",
    "              \"operationAndMaintenance\": 0.01\n",
    "          }\n",
    "      ]\n",
    "\n",
    "    }\n",
    "\n",
    "lis = []\n",
    "for name in [\"base_hBor_0_8\", \"base\", \"base_hBor_1_2\"]:\n",
    "   for cas in cases:\n",
    "      if cas['name'] == name:\n",
    "            lis.append(cas['reader'])\n",
    "con.plot_sensitivities(lis, dic, \"boreLength\")"
   ]
  },
  {
   "cell_type": "markdown",
   "metadata": {},
   "source": [
    "## District loop sizing\n"
   ]
  },
  {
   "cell_type": "code",
   "execution_count": 17,
   "metadata": {
    "execution": {
     "iopub.execute_input": "2025-06-19T23:38:31.827260Z",
     "iopub.status.busy": "2025-06-19T23:38:31.827074Z",
     "iopub.status.idle": "2025-06-19T23:38:32.311818Z",
     "shell.execute_reply": "2025-06-19T23:38:32.311075Z"
    }
   },
   "outputs": [],
   "source": [
    "importlib.reload(con)\n",
    "\n",
    "dic = {\n",
    "      \"y_label\": \"electricity\\n[GWh/a]\",\n",
    "      \"y_lim\": [0, 18],\n",
    "      \"factor\": 1E-9/3600,\n",
    "      \"unit\": \"GWh/a\",\n",
    "      \"factor2\": 1E-3,\n",
    "      \"unit2\": \"k$/a\",\n",
    "      \"offset\": 0,\n",
    "      \"x\":{\n",
    "          \"var\": \"datDis.dhDisAct\",\n",
    "          \"label\": \"Diameter district loop pipe [m]\",\n",
    "          \"x_lim\": [0.3, 0.7],\n",
    "          \"factor\": 1,\n",
    "          \"offset\": 0\n",
    "      },\n",
    "      \"vars\": [\n",
    "         {\n",
    "            \"label\": \"site electricity\",\n",
    "            \"var\": \"ETot.y\",\n",
    "            \"linewidth\": 1,\n",
    "            \"color\": \"r\",\n",
    "         }\n",
    "#         ,\n",
    "#         {\n",
    "#            \"label\": \"district loop pump\",\n",
    "#            \"var\": \"EPumDis.y\",\n",
    "#            \"linewidth\": 1,\n",
    "#            \"color\": \"r\",\n",
    "#         }\n",
    "      ],\n",
    "      \"y2_label\": \"annualized life cycle\\ncost difference [k$\\$$/a]\",\n",
    "      \"y2_lim\": [-800, 1000],\n",
    "      \"idxBaseCase\": 1, # Zero-based index of base case\n",
    "      \"vars2\": [\n",
    "          {\n",
    "              \"label\": \"annualized life cycle\\ncost difference\",\n",
    "              \"energyCost\": \"totEleCos.y\",\n",
    "              \"unitChange\": \"datDis.dhDisAct\",\n",
    "              # Investment cost difference per unit change is length of distribution pipe,\n",
    "              # times cost difference of 0.5 vs 0.4 m diameter (from Sommer paper) times exchange rate from Euro to $\n",
    "              \"costPerUnitChange\": 3460 *((1220-1100)/(0.5-0.4))*1.15,\n",
    "              \"lifeTime\": 40,\n",
    "              \"operationAndMaintenance\": 0.01\n",
    "\n",
    "          }\n",
    "      ]\n",
    "    }\n",
    "\n",
    "lis = []\n",
    "for name in [\"base_dDis_0_8\", \"base\", \"base_dDis_1_2\"]:\n",
    "   for cas in cases:\n",
    "      if cas['name'] == name:\n",
    "            lis.append(cas['reader'])\n",
    "con.plot_sensitivities(lis, dic, \"districtLoopDiameter\")"
   ]
  },
  {
   "cell_type": "markdown",
   "metadata": {},
   "source": [
    "## Minimum condenser leaving water temperature"
   ]
  },
  {
   "cell_type": "code",
   "execution_count": 18,
   "metadata": {
    "execution": {
     "iopub.execute_input": "2025-06-19T23:38:32.317962Z",
     "iopub.status.busy": "2025-06-19T23:38:32.317478Z",
     "iopub.status.idle": "2025-06-19T23:38:32.822000Z",
     "shell.execute_reply": "2025-06-19T23:38:32.821091Z"
    }
   },
   "outputs": [],
   "source": [
    "importlib.reload(con)\n",
    "\n",
    "dic = {\n",
    "      \"y_label\": \"electricity\\n[GWh/a]\",\n",
    "      \"y_lim\": [0, 18],\n",
    "      \"factor\": 1E-9/3600,\n",
    "      \"unit\": \"GWh/a\",\n",
    "      \"factor2\": 1E-3,\n",
    "      \"unit2\": \"k$/a\",\n",
    "      \"offset\": 0,\n",
    "      \"x\":{\n",
    "          \"var\": \"bui[1].ets.datHeaPum.TConLvgMin\",\n",
    "          \"label\": \"Minimum condenser leaving water temperature [$^\\circ \\mathrm{C}$]\",\n",
    "          \"x_lim\": [8, 33],\n",
    "          \"factor\": 1,\n",
    "          \"offset\": -273.15\n",
    "      },\n",
    "      \"vars\": [\n",
    "         {\n",
    "            \"label\": \"site electricity\",\n",
    "            \"var\": \"ETot.y\",\n",
    "            \"linewidth\": 1,\n",
    "            \"color\": \"r\",\n",
    "         }\n",
    "      ],\n",
    "      \"y2_label\": \"annualized life cycle\\ncost difference [k$\\$$/a]\",\n",
    "      \"y2_lim\": [-800, 1000],\n",
    "      \"idxBaseCase\": 1, # Zero-based index of base case\n",
    "      \"vars2\": [\n",
    "          {\n",
    "              \"label\": \"annualized life cycle\\ncost difference\",\n",
    "              \"energyCost\": \"totEleCos.y\",\n",
    "              \"unitChange\": \"bui[1].ets.datHeaPum.TConLvgMin\",\n",
    "              \"costPerUnitChange\": 0,\n",
    "              \"lifeTime\": 20,\n",
    "              \"operationAndMaintenance\": 0\n",
    "\n",
    "          }\n",
    "      ]\n",
    "    }\n",
    "lis = []\n",
    "for name in [\"base_TCon_10\", \"base\", \"base_TCon_20\", \"base_TCon_30\"]:\n",
    "   for cas in cases:\n",
    "      if cas['name'] == name:\n",
    "            lis.append(cas['reader'])\n",
    "con.plot_sensitivities(lis, dic, \"minimumCondenserLeaving\")\n"
   ]
  },
  {
   "cell_type": "markdown",
   "metadata": {},
   "source": [
    "## Sensitivity to heat pump sizing"
   ]
  },
  {
   "cell_type": "code",
   "execution_count": 19,
   "metadata": {
    "execution": {
     "iopub.execute_input": "2025-06-19T23:38:32.827103Z",
     "iopub.status.busy": "2025-06-19T23:38:32.826917Z",
     "iopub.status.idle": "2025-06-19T23:38:33.837940Z",
     "shell.execute_reply": "2025-06-19T23:38:33.837280Z"
    }
   },
   "outputs": [],
   "source": [
    "importlib.reload(con)\n",
    "\n",
    "dic = {\n",
    "      \"y_label\": \"hours of setpoint violation\\n[h/a]\",\n",
    "      \"y_lim\": [5, 25],\n",
    "      \"factor\": 8760,\n",
    "      \"unit\": \"h/a\",\n",
    "      \"factor2\": 1E-3,\n",
    "      \"unit2\": \"k$/a\",\n",
    "      \"offset\": 0,\n",
    "      \"idxBaseCase\": 2, # Zero-based index of base case\n",
    "      \"x\":{\n",
    "          \"var\": \"cenPla.gen.heaPum.QCoo_flow_nominal\",\n",
    "          \"label\": \"heat pump capacity [MW]\",\n",
    "          \"x_lim\": [5.5, 11.5],\n",
    "          \"factor\": -1E-6,\n",
    "          \"offset\": 0\n",
    "      },\n",
    "      \"vars\": [\n",
    "         {\n",
    "            \"label\": \"set point violation\",\n",
    "            \"var\": \"conVio.y\",\n",
    "            \"linewidth\": 1,\n",
    "            \"color\": \"r\",\n",
    "         }\n",
    "      ],\n",
    "      \"y2_label\": \"annualized life cycle\\ncost difference [k$\\$$/a]\",\n",
    "      \"y2_lim\": [-1000, 1000],\n",
    "      \"vars2\": [\n",
    "          {\n",
    "              \"label\": \"annualized life cycle\\ncost difference\",\n",
    "              \"energyCost\": \"totEleCos.y\",\n",
    "              \"unitChange\": \"datDis.QPlaHeaPumCoo_flow_nominal\",\n",
    "              \"costPerUnitChange\": -1.631,\n",
    "              \"lifeTime\": 20,\n",
    "              \"operationAndMaintenance\": 0.02\n",
    "          }\n",
    "      ]\n",
    "    }\n",
    "lis = []\n",
    "for name in [\"base_heaPumSizFac_0_8\", \"base_heaPumSizFac_0_9\", \"base\", \"base_heaPumSizFac_1_1\", \"base_heaPumSizFac_1_2\", \"base_heaPumSizFac_1_3\"]:\n",
    "   for cas in cases:\n",
    "      if cas['name'] == name:\n",
    "            lis.append(cas['reader'])\n",
    "con.plot_sensitivities(lis, dic, \"centralPlantHeatPump_annualLifeCycle\")\n",
    "\n",
    "# Create second plot with maximum loop temperature\n",
    "#dic[\"y_label\"] = \"maximum loop temperature\\n[$^\\circ \\mathrm{C}$]\"\n",
    "#dic[\"y_lim\"] = [23, 27]\n",
    "#dic[\"unit\"] = \"[$^\\circ \\mathrm{C}$]\"\n",
    "#dic[\"factor\"] = 1\n",
    "#dic[\"offset\"] = -273.15\n",
    "#dic[\"vars\"] = \\\n",
    "#       [\n",
    "#         {\n",
    "#            \"label\": \"maximum loop temperature\",\n",
    "#            \"var\": \"cenPla.TLooMaxMea\",\n",
    "#            \"operation\": \"max\",\n",
    "#            \"linewidth\": 1,\n",
    "#            \"color\": \"r\",\n",
    "#         }\n",
    "#      ]\n",
    "\n",
    "\n",
    "dic[\"y2_label\"] = \"investment\\ncost difference [k$\\$$/a]\"\n",
    "dic[\"y2_lim\"] = [-10000, 10000]\n",
    "dic[\"vars2\"] = [\n",
    "          {\n",
    "              \"label\": \"investment\\ncost difference\",\n",
    "              \"energyCost\": \"cenPla.gen.ind.zer.k\",\n",
    "              \"unitChange\": \"datDis.QPlaHeaPumCoo_flow_nominal\",\n",
    "              \"costPerUnitChange\": -1.631,\n",
    "              \"lifeTime\": 1,\n",
    "              \"operationAndMaintenance\": 0\n",
    "          }\n",
    "      ]\n",
    "\n",
    "\n",
    "con.plot_sensitivities(lis, dic, \"centralPlantHeatPump_investment\")"
   ]
  },
  {
   "cell_type": "code",
   "execution_count": null,
   "metadata": {},
   "outputs": [],
   "source": []
  }
 ],
 "metadata": {
  "kernelspec": {
   "display_name": "Python 3",
   "language": "python",
   "name": "python3"
  },
  "language_info": {
   "codemirror_mode": {
    "name": "ipython",
    "version": 3
   },
   "file_extension": ".py",
   "mimetype": "text/x-python",
   "name": "python",
   "nbconvert_exporter": "python",
   "pygments_lexer": "ipython3",
   "version": "3.8.10"
  }
 },
 "nbformat": 4,
 "nbformat_minor": 1
}
