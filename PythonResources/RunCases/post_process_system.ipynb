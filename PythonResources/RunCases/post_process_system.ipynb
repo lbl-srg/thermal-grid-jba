{
 "cells": [
  {
   "cell_type": "markdown",
   "metadata": {},
   "source": [
    "# Post-processing of case study for central plant results\n",
    "\n",
    "## Usage notes\n",
    "\n",
    "All figures will be written to the directory `img` as pdf and png files.\n",
    "\n",
    "I run this notebook on Ubuntu, using this version of matplotlib:\n",
    "```\n",
    "pip freeze | grep matplotlib\n",
    "matplotlib==3.5.1\n",
    "```\n",
    "Some older versions return an error because they do not support some plot configurations.\n",
    "I set in the virtual machine the RAM to 12GB as 8GB is not sufficient to parse two annual result files."
   ]
  },
  {
   "cell_type": "markdown",
   "metadata": {},
   "source": [
    "## Import required libraries"
   ]
  },
  {
   "cell_type": "code",
   "execution_count": 1,
   "metadata": {
    "execution": {
     "iopub.execute_input": "2025-06-16T01:18:45.912817Z",
     "iopub.status.busy": "2025-06-16T01:18:45.912283Z",
     "iopub.status.idle": "2025-06-16T01:18:46.718384Z",
     "shell.execute_reply": "2025-06-16T01:18:46.717830Z"
    }
   },
   "outputs": [
    {
     "data": {
      "text/plain": [
       "<module 'post_process_configurations' from '/home/mwetter/test/thermal-grid-jba-hp-TCon/PythonResources/RunCases/post_process_configurations.py'>"
      ]
     },
     "execution_count": 1,
     "metadata": {},
     "output_type": "execute_result"
    }
   ],
   "source": [
    "import cases as cas\n",
    "import importlib\n",
    "import post_process_configurations as con\n",
    "importlib.reload(con)\n"
   ]
  },
  {
   "cell_type": "markdown",
   "metadata": {},
   "source": [
    "## Read annual results\n",
    "\n",
    "This section also clears the old results to free up memory."
   ]
  },
  {
   "cell_type": "code",
   "execution_count": 2,
   "metadata": {
    "execution": {
     "iopub.execute_input": "2025-06-16T01:18:46.770096Z",
     "iopub.status.busy": "2025-06-16T01:18:46.769326Z",
     "iopub.status.idle": "2025-06-16T01:18:46.817987Z",
     "shell.execute_reply": "2025-06-16T01:18:46.817427Z"
    }
   },
   "outputs": [
    {
     "name": "stdout",
     "output_type": "stream",
     "text": [
      "Cleaned up memory.\n"
     ]
    }
   ],
   "source": [
    "# Free up storage, then read new data\n",
    "import gc\n",
    "gc.collect()\n",
    "\n",
    "print(\"Cleaned up memory.\")"
   ]
  },
  {
   "cell_type": "markdown",
   "metadata": {},
   "source": [
    "Get list of cases"
   ]
  },
  {
   "cell_type": "code",
   "execution_count": 3,
   "metadata": {
    "execution": {
     "iopub.execute_input": "2025-06-16T01:18:46.820904Z",
     "iopub.status.busy": "2025-06-16T01:18:46.820734Z",
     "iopub.status.idle": "2025-06-16T01:18:46.825471Z",
     "shell.execute_reply": "2025-06-16T01:18:46.824939Z"
    }
   },
   "outputs": [],
   "source": [
    "# Build list of case files, their labels out output file prefix.\n",
    "# These are used to read in files and create plots.\n",
    "# This structure allows removing a case from the post-processing in case the simulation did not converge.\n",
    "import cases as cas\n",
    "cases = cas.get_cases()\n",
    "\n",
    "# Store commit in sim_version dictionary\n",
    "import os\n",
    "verFil = os.path.join(\"simulations\", \"base\", \"version.txt\")\n",
    "sim_version = dict()\n",
    "if os.path.exists(verFil):\n",
    "    with open(verFil, 'r') as fil:\n",
    "        s = fil.read()\n",
    "        kv_pairs = [\n",
    "            tuple(s_str.split('='))\n",
    "            for s_str in s.split('\\n')\n",
    "        ]\n",
    "        for ele in kv_pairs:\n",
    "          if ele[0] != '': # Skips empty line\n",
    "            sim_version[ele[0]] = ele[1]\n",
    "          \n",
    "#print(sim_version)\n",
    "\n"
   ]
  },
  {
   "cell_type": "markdown",
   "metadata": {},
   "source": [
    "Read result file. This takes around 3 minutes per result file."
   ]
  },
  {
   "cell_type": "code",
   "execution_count": 4,
   "metadata": {
    "execution": {
     "iopub.execute_input": "2025-06-16T01:18:46.828627Z",
     "iopub.status.busy": "2025-06-16T01:18:46.828450Z",
     "iopub.status.idle": "2025-06-16T01:29:49.249496Z",
     "shell.execute_reply": "2025-06-16T01:29:49.247875Z"
    }
   },
   "outputs": [
    {
     "name": "stdout",
     "output_type": "stream",
     "text": [
      "Reading result files\n",
      "Read base\n",
      "Read base_hBor_0_8\n",
      "Read base_hBor_1_2\n",
      "Read base_dDis_0_8\n",
      "Read base_dDis_1_2\n",
      "Read base_TCon_20\n",
      "Read base_TCon_25\n",
      "Read base_TCon_35\n",
      "Read base_heaPumSizFac_0_8\n",
      "Read base_heaPumSizFac_0_9\n",
      "Read base_noEco\n",
      "Read heat\n",
      "Read cold\n"
     ]
    }
   ],
   "source": [
    "\n",
    "print(\"Reading result files\")\n",
    "r_base = None\n",
    "for cas in cases:\n",
    "    try:\n",
    "        cas['reader'] = con.get_results(cas['name'])\n",
    "        if cas['name'] == 'base':\n",
    "            r_base = cas['reader']\n",
    "    except Exception as e:\n",
    "        print(f\"*** Error reading {cas['name']}: \", e)\n",
    "        cas['postProcess'] = False\n",
    "    print(f\"Read {cas['name']}\")"
   ]
  },
  {
   "cell_type": "code",
   "execution_count": 5,
   "metadata": {
    "execution": {
     "iopub.execute_input": "2025-06-16T01:29:49.256576Z",
     "iopub.status.busy": "2025-06-16T01:29:49.256320Z",
     "iopub.status.idle": "2025-06-16T01:29:49.302566Z",
     "shell.execute_reply": "2025-06-16T01:29:49.302023Z"
    }
   },
   "outputs": [
    {
     "name": "stdout",
     "output_type": "stream",
     "text": [
      "Base case: Total energy use: 11.31 GWh\n",
      "Base case: Total energy use: 100.97 kWh/(m a)\n",
      "Base case: Total energy cost: 1.67 million USD per year\n",
      "Base case: Total energy cost: 14.89 USD/(m2 a)\n"
     ]
    }
   ],
   "source": [
    "AFlo = r_base.max('datDis.AFlo')\n",
    "\n",
    "print(f\"Base case: Total energy use: {r_base.max('ETot.y')/3600/1E9:.2f} GWh\")\n",
    "print(f\"Base case: Total energy use: {r_base.max('ETot.y')/3600/1E9/AFlo*1e6:.2f} kWh/(m a)\")\n",
    "\n",
    "print(f\"Base case: Total energy cost: {r_base.max('totEleCos.y')/1E6:.2f} million USD per year\")\n",
    "print(f\"Base case: Total energy cost: {r_base.max('totEleCos.y')/AFlo:.2f} USD/(m2 a)\")\n",
    "\n"
   ]
  },
  {
   "cell_type": "code",
   "execution_count": 6,
   "metadata": {
    "execution": {
     "iopub.execute_input": "2025-06-16T01:29:49.308894Z",
     "iopub.status.busy": "2025-06-16T01:29:49.308736Z",
     "iopub.status.idle": "2025-06-16T01:29:49.323208Z",
     "shell.execute_reply": "2025-06-16T01:29:49.322657Z"
    }
   },
   "outputs": [
    {
     "name": "stdout",
     "output_type": "stream",
     "text": [
      "CPUtime, base 11 h\n"
     ]
    }
   ],
   "source": [
    "print(f\"CPUtime, base {r_base.max('CPUtime')/3600.:.0f} h\")"
   ]
  },
  {
   "cell_type": "markdown",
   "metadata": {},
   "source": [
    "## Write main results to LaTeX file for inclusion in report"
   ]
  },
  {
   "cell_type": "code",
   "execution_count": 7,
   "metadata": {
    "execution": {
     "iopub.execute_input": "2025-06-16T01:29:49.329610Z",
     "iopub.status.busy": "2025-06-16T01:29:49.329354Z",
     "iopub.status.idle": "2025-06-16T01:29:49.389253Z",
     "shell.execute_reply": "2025-06-16T01:29:49.388462Z"
    }
   },
   "outputs": [
    {
     "name": "stdout",
     "output_type": "stream",
     "text": [
      "Annual energy cost difference 0.533 million $\n",
      "invCos = 0.477 million $\n",
      "ALCC of investment = 23929 $\n",
      "ALCC of investment and energy -509010 $\n"
     ]
    }
   ],
   "source": [
    "import os\n",
    "importlib.reload(con)\n",
    "\n",
    "if not os.path.exists(\"img\"):\n",
    "    os.mkdir(\"img\")\n",
    "with open(os.path.join(\"img\", \"modelicaResults.tex\"), \"w\") as fil:\n",
    "    # Energy costs\n",
    "    r_base_dDis_0_8 = None\n",
    "    for cas in cases:\n",
    "        if cas['name'] == 'base_dDis_0_8':\n",
    "            r_base_dDis_0_8= cas['reader']\n",
    "\n",
    "    ETot_base = r_base.max('ETot.y')\n",
    "    ETot_dDis_0_8 = r_base_dDis_0_8.max('ETot.y')\n",
    "    cosETot_base = r_base.max(\"totEleCos.y\")\n",
    "    dhDis_base = r_base.max('datDis.dhDisAct')\n",
    "    vDis_base = r_base.max('datDis.vDis_nominal')\n",
    "    cosETot_dDis_0_8 = r_base_dDis_0_8.max(\"totEleCos.y\")\n",
    "    dhDis_0_8 = r_base_dDis_0_8.max('datDis.dhDisAct')\n",
    "\n",
    "\n",
    "    # ALCC is annualized life cycle costs\n",
    "    # Investment cost difference is length of distribution pipe, time cost difference of 0.5 vs 0.4 m diameter (from Sommer paper) times exchange rate from Euro to $\n",
    "    invCosDif = 3460 *(1220-1100)*1.15\n",
    "    # Annualized increase in electricity costs due to smaller pipes.\n",
    "    delEneCos =  cosETot_dDis_0_8 - cosETot_base\n",
    "    (ALCC, LCC, I, OM, RC, SR, CRF) = con.calc_finance(invCosDif, 0, 0, 40, 0.01)\n",
    "\n",
    "    print(f\"Annual energy cost difference {delEneCos/1E6:.3f} million $\")\n",
    "    print(f\"invCos = {invCosDif/1E6:.3f} million $\")\n",
    "    print(f\"ALCC of investment = {ALCC:.0f} $\")\n",
    "    print(f\"ALCC of investment and energy {ALCC-delEneCos:.0f} $\")\n",
    "\n",
    "    s = \"\"\"\n",
    "\\\\newcommand{\\\\modelicaBranch}{\"\"\" + f\"{sim_version['branch']}\" + \"\"\"\\\\xspace}\n",
    "\\\\newcommand{\\\\modelicaCommit}{\\\\href{https://github.com/lbl-srg/thermal-grid-jba/commit/\"\"\" + f\"{sim_version['commit']}\" + \"\"\"}{\"\"\" + f\"{sim_version['commit'][0:6]}\" + \"\"\"}\\\\xspace}\n",
    "\n",
    "\\\\newcommand{\\\\cpuTime}{\"\"\" + f\"{r_base.max('CPUtime')/3600.:.0f} hours\" + \"\"\"\\\\xspace}\n",
    "\\\\newcommand{\\\\delEnergyDDisEighty}{$\"\"\" + f\"{(ETot_dDis_0_8/ETot_base-1)*100:.0f}\\%\" + \"\"\"$\\\\xspace}\n",
    "\\\\newcommand{\\\\delEnergyCosDDisEighty}{$\\\\$\"\"\" + f\"{(cosETot_dDis_0_8-cosETot_base)/1E6:.2f} \\, \\mathrm{{million}}\" + \"\"\"$\\\\xspace}\n",
    "\n",
    "\\\\newcommand{\\\\totEneCosBase}{$\\\\$\"\"\" + f\"{cosETot_base/1E6:.2f} \\, \\mathrm{{million}}\" + \"\"\"$\\\\xspace}\n",
    "\\\\newcommand{\\\\totEneCosDDisEighty}{$\\\\$\"\"\" + f\"{cosETot_dDis_0_8/1E6:.2f} \\, \\mathrm{{million}}\" + \"\"\"$\\\\xspace}\n",
    "\n",
    "\\\\newcommand{\\\\dhBase}{$\"\"\" + f\"{dhDis_base:.2f} \\, \\mathrm m ({dhDis_base*3.28084:.2f} \\, \\mathrm{{ft}})\" + \"\"\"$\\\\xspace}\n",
    "\\\\newcommand{\\\\dhDDisEighty}{$\"\"\" + f\"{dhDis_0_8:.2f} \\, \\mathrm m ({dhDis_0_8*3.28084:.2f} \\, \\mathrm{{ft}})\" + \"\"\"$\\\\xspace}\n",
    "\\\\newcommand{\\\\vDisBase}{$\"\"\" + f\"{vDis_base:.2f} \\, \\mathrm{{m/s}} ({vDis_base*3.28084:.2f} \\, \\mathrm {{ft/s}})\" + \"\"\"$\\\\xspace}\n",
    "\n",
    "\\\\newcommand{\\\\delAnnLifCycEighty}{$\\\\$\"\"\" + f\"{(delEneCos-ALCC)/1E6:.2f} \\, \\mathrm{{million}}\" + \"\"\"$\\\\xspace}\n",
    "\"\"\"\n",
    "    fil.write(s)\n",
    "\n",
    "\n"
   ]
  },
  {
   "cell_type": "markdown",
   "metadata": {},
   "source": [
    "### Write capacities to LaTeX file"
   ]
  },
  {
   "cell_type": "code",
   "execution_count": 8,
   "metadata": {
    "execution": {
     "iopub.execute_input": "2025-06-16T01:29:49.393893Z",
     "iopub.status.busy": "2025-06-16T01:29:49.393740Z",
     "iopub.status.idle": "2025-06-16T01:29:49.438231Z",
     "shell.execute_reply": "2025-06-16T01:29:49.437135Z"
    }
   },
   "outputs": [],
   "source": [
    "# Note that the unyt package used in this function does not allow to reload the module.\n",
    "# Hence we put the function in its own file\n",
    "import post_process_write_latex_table as lat\n",
    "importlib.reload(lat)\n",
    "lat.write_latex_capacity_table(r_base)"
   ]
  },
  {
   "cell_type": "markdown",
   "metadata": {},
   "source": [
    "### Energy use\n"
   ]
  },
  {
   "cell_type": "code",
   "execution_count": 9,
   "metadata": {
    "execution": {
     "iopub.execute_input": "2025-06-16T01:29:49.442917Z",
     "iopub.status.busy": "2025-06-16T01:29:49.442761Z",
     "iopub.status.idle": "2025-06-16T01:29:52.672871Z",
     "shell.execute_reply": "2025-06-16T01:29:52.672215Z"
    },
    "scrolled": true
   },
   "outputs": [
    {
     "name": "stdout",
     "output_type": "stream",
     "text": [
      "All electricity use = [11.30848904 11.63406373 11.01708278 14.89556035 10.24257076 10.50640297\n",
      " 10.74165099 11.96954048 11.32233956 11.33171034 11.46379247 11.90667602\n",
      " 11.63045081]\n",
      "Sum of plot = [11.30848869 11.63406377 11.01708317 14.89556025 10.24257151 10.50640322\n",
      " 10.74165165 11.96954058 11.32234052 11.33171017 11.46379305 11.90667657\n",
      " 11.63045068]\n",
      "\n",
      "Heat pumps in ETS   & 5.30 &  47.4 \\\\\n",
      "Heat pumps in plant & 3.28 &  29.3 \\\\\n",
      "Pumps               & 3.95 &  35.2 \\\\\n",
      "Fans                & 0.54 &  4.8 \\\\\n",
      "Non-HVAC electricity for buildings & 8.85 &  79.1  \\\\ \\hline\n",
      "PVs and batteries  & -10.62 &  -94.8 \\\\\n",
      "Total & 11.31 &  101.0 \\\\ \\hline\n"
     ]
    }
   ],
   "source": [
    "importlib.reload(con)\n",
    "con.plot_energy(cases)"
   ]
  },
  {
   "cell_type": "markdown",
   "metadata": {},
   "source": [
    "## Loop temperatures"
   ]
  },
  {
   "cell_type": "code",
   "execution_count": 10,
   "metadata": {
    "execution": {
     "iopub.execute_input": "2025-06-16T01:29:52.678351Z",
     "iopub.status.busy": "2025-06-16T01:29:52.678168Z",
     "iopub.status.idle": "2025-06-16T01:30:11.726817Z",
     "shell.execute_reply": "2025-06-16T01:30:11.726113Z"
    }
   },
   "outputs": [],
   "source": [
    "importlib.reload(con)\n",
    "con.plot_loop_temperatures(cases)\n"
   ]
  },
  {
   "cell_type": "markdown",
   "metadata": {},
   "source": [
    "# Demand curves"
   ]
  },
  {
   "cell_type": "code",
   "execution_count": 11,
   "metadata": {
    "execution": {
     "iopub.execute_input": "2025-06-16T01:30:11.732237Z",
     "iopub.status.busy": "2025-06-16T01:30:11.732063Z",
     "iopub.status.idle": "2025-06-16T01:30:12.297287Z",
     "shell.execute_reply": "2025-06-16T01:30:12.296658Z"
    }
   },
   "outputs": [
    {
     "name": "stdout",
     "output_type": "stream",
     "text": [
      "105121\n",
      "31536000.0\n",
      "lenE=105121\n",
      "[ 961400.40903685 1752511.27096315 3274943.90715356 ... 2599819.87630208\n",
      " 2599819.87627604 2623349.77760417]\n"
     ]
    }
   ],
   "source": [
    "import numpy as np\n",
    "from buildingspy.io.postprocess import Plotter\n",
    "nSamPerHou = 12\n",
    "tSup=np.linspace(0, 8760*3600, num=8760*nSamPerHou+1)\n",
    "(t, ETot) = r_base.values('ETot.y')\n",
    "(t, EPvBat) = r_base.values('EPvBat.y')\n",
    "\n",
    "ETotWithOutPV = ETot - EPvBat\n",
    "\n",
    "ETotSup      =Plotter.interpolate(tSup, t, ETot)\n",
    "EPvBat       =Plotter.interpolate(tSup, t, EPvBat)\n",
    "ETotWithOutPV=Plotter.interpolate(tSup, t, ETotWithOutPV)\n",
    "\n",
    "\n",
    "print(len(ETotSup))\n",
    "print(max(tSup))\n",
    "lenE=len(ETotSup)\n",
    "print(f\"lenE={lenE}\")\n",
    "def getPowerFromEnergy(time, energy):\n",
    "    \"\"\" Get power from energy. Energy must be equidistant. \"\"\"\n",
    "    lenE=len(energy)\n",
    "    dTime = time[1]-time[0]\n",
    "    diffTime = (max(time)-min(time))/(lenE-1)\n",
    "    if (diffTime - dTime) > 1E-3:\n",
    "        raise Exception(f\"Time is not equidistant: dTime = {dTime}, diffTime = {diffTime}\")\n",
    "\n",
    "    return (energy[1:lenE]-energy[0:lenE-1])/dTime\n",
    "PTotSup          =getPowerFromEnergy(tSup, ETotSup)\n",
    "PPvBatSup        =getPowerFromEnergy(tSup, EPvBat)\n",
    "PTotWithOutPVSup =getPowerFromEnergy(tSup, ETotWithOutPV)\n",
    "tPlot=tSup[0:lenE-1]\n",
    "\n",
    "print(PTotSup)\n"
   ]
  },
  {
   "cell_type": "code",
   "execution_count": 12,
   "metadata": {
    "execution": {
     "iopub.execute_input": "2025-06-16T01:30:12.302391Z",
     "iopub.status.busy": "2025-06-16T01:30:12.302214Z",
     "iopub.status.idle": "2025-06-16T01:30:13.738796Z",
     "shell.execute_reply": "2025-06-16T01:30:13.737672Z"
    }
   },
   "outputs": [],
   "source": [
    "import matplotlib.pyplot as plt\n",
    "import matplotlib.gridspec as gridspec\n",
    "plt.clf()\n",
    "\n",
    "fig = plt.figure(figsize=(10, 6))\n",
    "gs = gridspec.GridSpec(2, 2)\n",
    "axs0 = fig.add_subplot(gs[0, :])\n",
    "axs0.plot(tPlot/3600/24, PTotWithOutPVSup/1E6, label=\"Total power consumption of all loads (without PV)\",\n",
    "        linewidth=0.5,\n",
    "        color=\"r\",\n",
    "        linestyle=\"-\")\n",
    "axs0.plot(tPlot/3600/24, PPvBatSup/1E6, label=\"Power provided by PVs and batteries\",\n",
    "        linewidth=0.5,\n",
    "        color=\"g\",\n",
    "        linestyle=\"-\")\n",
    "axs0.plot(tPlot/3600/24, PTotSup/1E6, label=\"Imported electricity\",\n",
    "        linewidth=0.5,\n",
    "        color=\"k\",\n",
    "        linestyle=\"-\")\n",
    "\n",
    "#import pandas as pd\n",
    "# Moving values over a 1 day horizon\n",
    "#nSam = nSamPerHou*24\n",
    "#PTotWithOutPVSupMin = pd.Series(PTotWithOutPVSup).rolling(4*24).min().dropna()\n",
    "#PTotWithOutPVSupMax = pd.Series(PTotWithOutPVSup).rolling(4*24).max().dropna()\n",
    "\n",
    "#tPlotMax = tPlot[0:len(PTotWithOutPVSupMax)]\n",
    "axs1 = fig.add_subplot(gs[1, 0])\n",
    "axs1.plot(tPlot/3600/24, PTotWithOutPVSup/1E6, label=\"Total power consumption of all loads (without PV)\",\n",
    "        linewidth=0.5,\n",
    "        color=\"r\",\n",
    "        linestyle=\"-\")\n",
    "axs1.plot(tPlot/3600/24, PPvBatSup/1E6, label=\"Power provided by PVs and batteries\",\n",
    "        linewidth=0.5,\n",
    "        color=\"g\",\n",
    "        linestyle=\"-\")\n",
    "axs1.plot(tPlot/3600/24, PTotSup/1E6, label=\"Imported electricity\",\n",
    "        linewidth=0.5,\n",
    "        color=\"k\",\n",
    "        linestyle=\"-\")\n",
    "\n",
    "axs2 = fig.add_subplot(gs[1, 1])\n",
    "axs2.plot(tPlot/3600/24, PTotWithOutPVSup/1E6, label=\"Total power consumption of all loads (without PV)\",\n",
    "        linewidth=0.5,\n",
    "        color=\"r\",\n",
    "        linestyle=\"-\")\n",
    "axs2.plot(tPlot/3600/24, PPvBatSup/1E6, label=\"Power provided by PVs and batteries\",\n",
    "        linewidth=0.5,\n",
    "        color=\"g\",\n",
    "        linestyle=\"-\")\n",
    "axs2.plot(tPlot/3600/24, PTotSup/1E6, label=\"Imported electricity\",\n",
    "        linewidth=0.5,\n",
    "        color=\"k\",\n",
    "        linestyle=\"-\")\n",
    "\n",
    "axs0.set_xlim([0, 365])\n",
    "axs1.set_xlim([50, 65])\n",
    "axs2.set_xlim([205, 220])\n",
    "axs1.set_xticks(np.linspace(50, 65, 16))\n",
    "axs2.set_xticks(np.linspace(205, 220, 16))\n",
    "\n",
    "axs0.legend(#bbox_to_anchor=(1.25, 1.0),\n",
    "          loc='upper right',\n",
    "          ncol=2)\n",
    "ax = [axs0, axs1, axs2]\n",
    "for i in range(len(ax)):    \n",
    "        ax[i].set_ylim([-8, 15])\n",
    "#axs.autoscale(True)\n",
    "        con.configure_axes(ax[i])\n",
    "#axs.set_aspect(25)\n",
    "\n",
    "        ax[i].set_xlabel(f\"time [day]\")\n",
    "\n",
    "        ax[i].set_ylabel(f\"electricity [MW]\", multialignment='center')\n",
    "        \n",
    "fig.tight_layout()\n",
    "con.save_plot(plt, f\"powerUse\")\n"
   ]
  },
  {
   "cell_type": "markdown",
   "metadata": {},
   "source": []
  },
  {
   "cell_type": "code",
   "execution_count": null,
   "metadata": {},
   "outputs": [],
   "source": []
  },
  {
   "cell_type": "markdown",
   "metadata": {},
   "source": [
    "# Plot plant operation"
   ]
  },
  {
   "cell_type": "code",
   "execution_count": 13,
   "metadata": {
    "execution": {
     "iopub.execute_input": "2025-06-16T01:30:13.744924Z",
     "iopub.status.busy": "2025-06-16T01:30:13.744631Z",
     "iopub.status.idle": "2025-06-16T01:30:17.817086Z",
     "shell.execute_reply": "2025-06-16T01:30:17.816415Z"
    }
   },
   "outputs": [],
   "source": [
    "# List of days to plot\n",
    "days = [\n",
    "    {\n",
    "        \"xlim\": [31, 32],\n",
    "        \"date\": \"Feb. 1\",\n",
    "        \"name\": \"Winter\"\n",
    "    },\n",
    "    {\n",
    "        \"xlim\": [160, 161],\n",
    "        \"date\": \"June 10\",\n",
    "        \"name\": \"Spring\"\n",
    "    },\n",
    "    {\n",
    "        \"xlim\": [213, 214],\n",
    "        \"date\": \"Aug. 2\",\n",
    "        \"name\": \"Summer\"\n",
    "    }\n",
    "]\n",
    "# List of variables to plot for each subplot\n",
    "lis = [\n",
    "        {\n",
    "            \"y_label\": \"Controls\",\n",
    "            \"y_lim\": [-3, 3],\n",
    "            \"factor\": 1,\n",
    "            \"offset\": 0,\n",
    "            \"vars\": [\n",
    "                {\n",
    "                    \"label\": \"$y_{st}$\",\n",
    "                    \"var\": \"cenPla.gen.ind.ySt\",\n",
    "                    \"linewidth\": 1,\n",
    "                    },\n",
    "                    {\n",
    "                    \"label\": \"$y_{pla}$\",\n",
    "                    \"var\": \"cenPla.gen.ind.yPlaOut\",\n",
    "                    }\n",
    "                ]\n",
    "        },\n",
    "        {\n",
    "            \"y_label\": \"Temperature\\n[$^\\\\circ$C]\",\n",
    "            \"y_lim\": [10, 28],\n",
    "            \"factor\": 1,\n",
    "            \"offset\": -273.15,\n",
    "            \"vars\": [\n",
    "                 {\n",
    "                    \"label\": \"$T_{pla,hea,set}$\",\n",
    "                    \"var\": \"cenPla.gen.ind.TActPlaHeaSet\",\n",
    "                    \"linewidth\": 1,\n",
    "                    \"marker\": \">\",\n",
    "                    \"color\": \"r\",\n",
    "                    \"skip_if_ySea\": 3\n",
    "                    },\n",
    "                 {\n",
    "                    \"label\": \"$T_{pla,coo,set}$\",\n",
    "                    \"var\": \"cenPla.gen.ind.TActPlaCooSet\",\n",
    "                    \"linewidth\": 1,\n",
    "                    \"marker\": \">\",\n",
    "                    \"color\": \"r\",\n",
    "                    \"skip_if_ySea\": 1\n",
    "                    },\n",
    "                {\n",
    "                    \"label\": \"$T_{pla,in}$\",\n",
    "                    \"var\": \"TDisWatRet.T\",\n",
    "                    \"linewidth\": 0.5,\n",
    "                    \"marker\": \">\",\n",
    "                    \"color\": \"k\"\n",
    "                    },\n",
    "                    {\n",
    "                    \"label\": \"$T_{pla,out}$\",\n",
    "                    \"var\": \"cenPla.gen.senTemGenLea.T\",\n",
    "                    \"linewidth\": 0.5,\n",
    "                    \"marker\": \"<\",\n",
    "                    \"color\": \"k\"\n",
    "                    }\n",
    "            ]\n",
    "        },\n",
    "        {\n",
    "            \"y_label\": \"Temperature\\n[$^\\\\circ$C]\",\n",
    "            \"y_lim\": [10, 28],\n",
    "            \"factor\": 1,\n",
    "            \"offset\": -273.15,\n",
    "            \"vars\": [\n",
    "#                    {\n",
    "#                    \"label\": \"$T_{bor,per,ret}$\",\n",
    "#                    \"var\": \"cenPla.gen.senTemBorPerRet.T\",\n",
    "#                    \"marker\": \"<\",\n",
    "#                    \"linestyle\": \"--\",\n",
    "#                    \"color\": \"g\"\n",
    "#                    },\n",
    "#                    {\n",
    "#                    \"label\": \"$T_{bor,cen,sup}$\",\n",
    "#                    \"var\": \"cenPla.gen.senTemBorCenSup.T\",\n",
    "#                    \"linestyle\": \"-.\",\n",
    "#                    \"color\": \"r\",\n",
    "#                    \"marker\": \">\"\n",
    "#                    },\n",
    "#                    {\n",
    "#                    \"label\": \"$T_{bor,cen,ret}$\",\n",
    "#                    \"var\": \"cenPla.gen.senTemBorCenRet.T\",\n",
    "#                    \"linestyle\": \"-.\",\n",
    "#                    \"color\": \"r\",\n",
    "#                    \"marker\": \"<\"\n",
    "#                    },\n",
    "                    {\n",
    "                    \"label\": \"$T_{hea,pum,sup}$\",\n",
    "                    \"var\": \"cenPla.gen.senTemHeaPumEnt.T\",\n",
    "                    \"color\": \"b\",\n",
    "                    \"marker\": \">\"\n",
    "                    },\n",
    "                    {\n",
    "                    \"label\": \"$T_{hea,pum,ret}$\",\n",
    "                    \"var\": \"cenPla.gen.senTemHeaPumLea.T\",\n",
    "                    \"color\": \"b\",\n",
    "                    \"marker\": \"<\"\n",
    "                    }\n",
    "                ]\n",
    "            },\n",
    "#            {\n",
    "#            \"y_label\": \"Mass flow\\nrate [kg/s]\",\n",
    "#            \"y_lim\": [0, 500],\n",
    "#            \"factor\": 1,\n",
    "#            \"offset\": 0,\n",
    "#            \"vars\": [\n",
    "#                    {\n",
    "#                    \"label\": \"$\\dot m_{eco}$\",\n",
    "#                    \"var\": \"cenPla.gen.hex.m2_flow\",\n",
    "#                    },\n",
    "#                    {\n",
    "#                    \"label\": \"$\\dot m_{bor,per}$\",\n",
    "#                    \"var\": \"cenPla.gen.senTemBorPerRet.port_a.m_flow\",\n",
    "#                    \"marker\": \"o\",\n",
    "#                    },\n",
    "#                    {\n",
    "#                    \"label\": \"$\\dot m_{bor,cen}$\",\n",
    "#                    \"var\": \"cenPla.gen.senTemBorCenRet.port_a.m_flow\",\n",
    "#                    \"marker\": \"x\",\n",
    "#                    },\n",
    "#                    {\n",
    "#                    \"label\": \"$\\dot m_{hea,pum}$\",\n",
    "#                    \"var\": \"cenPla.gen.heaPum.m1_flow\",\n",
    "#                    \"marker\": \"v\",\n",
    "#                    }\n",
    "#                    ]\n",
    "#            },\n",
    "            {\n",
    "            \"y_label\": \"Heat flow\\nrate [MW]\",\n",
    "            \"y_lim\": [-8, 8],\n",
    "            \"factor\": 1E-6,\n",
    "            \"offset\": 0,\n",
    "            \"vars\": [\n",
    "#                    {\n",
    "#                    \"label\": \"$\\dot Q_{eco}$\",\n",
    "#                    \"var\": \"cenPla.gen.hex.Q2_flow\",\n",
    "#                    },\n",
    "                    {\n",
    "                    \"label\": \"$\\dot Q_{bor,per}$\",\n",
    "                    \"var\": \"cenPla.borFie.QPer_flow\",\n",
    "                    \"marker\": \"o\",\n",
    "                    },\n",
    "                    {\n",
    "                    \"label\": \"$\\dot Q_{bor,cen}$\",\n",
    "                    \"var\": \"cenPla.borFie.QCen_flow\",\n",
    "                    \"marker\": \"x\",\n",
    "                    },\n",
    "                    {\n",
    "                    \"label\": \"$\\dot Q_{hea,pum}$\",\n",
    "                    \"var\": \"cenPla.gen.heaPum.Q1_flow\",\n",
    "                    \"marker\": \"v\",\n",
    "                    }\n",
    "                    ]\n",
    "        }\n",
    "    ]\n",
    "\n",
    "con.plotPlant(lis, r_base, \"plant\", days)"
   ]
  },
  {
   "cell_type": "markdown",
   "metadata": {},
   "source": [
    "# Plot borefield energy"
   ]
  },
  {
   "cell_type": "code",
   "execution_count": 14,
   "metadata": {
    "execution": {
     "iopub.execute_input": "2025-06-16T01:30:17.822309Z",
     "iopub.status.busy": "2025-06-16T01:30:17.822136Z",
     "iopub.status.idle": "2025-06-16T01:30:18.598487Z",
     "shell.execute_reply": "2025-06-16T01:30:18.597732Z"
    }
   },
   "outputs": [],
   "source": [
    "# List of days to plot\n",
    "days = [\n",
    "    {\n",
    "        \"xlim\": [0, 365],\n",
    "        \"date\": \"\",\n",
    "        \"name\": \"Annual\"\n",
    "    }\n",
    "]\n",
    "# List of variables to plot for each subplot\n",
    "lis = [\n",
    "        {\n",
    "            \"y_label\": \"Borefield energy [GWh]\",\n",
    "            \"y_lim\": [-3, 3],\n",
    "            \"factor\": 1/3600/1E9,\n",
    "            \"offset\": 0,\n",
    "            \"vars\": [\n",
    "                {\n",
    "                    \"label\": \"Modelica $E_{bor}$\",\n",
    "                    \"var\": \"EBor.y\",\n",
    "                    \"linewidth\": 1\n",
    "                    },\n",
    "                    {\n",
    "                    \"label\": \"Modelica $E_{bor,per}$\",\n",
    "                    \"var\": \"EBorPer.y\",\n",
    "                    \"linewidth\": 1\n",
    "                    },\n",
    "                    {\n",
    "                    \"label\": \"Modelica $E_{bor,cen}$\",\n",
    "                    \"var\": \"EBorCen.y\",\n",
    "                    \"linewidth\": 1\n",
    "                    },\n",
    "                    {\n",
    "                    \"label\": \"MILP $E_{bor}$\",\n",
    "                    \"var\": \"borMil.E\",\n",
    "                    \"linestyle\": \"--\",\n",
    "                    \"mark_every\": 50\n",
    "                    }\n",
    "                ]\n",
    "        }\n",
    "]\n",
    "\n",
    "con.plotOneFigure(lis, r_base, \"borefieldEnergy\", days)"
   ]
  },
  {
   "cell_type": "code",
   "execution_count": null,
   "metadata": {},
   "outputs": [],
   "source": []
  },
  {
   "cell_type": "code",
   "execution_count": null,
   "metadata": {},
   "outputs": [],
   "source": []
  }
 ],
 "metadata": {
  "kernelspec": {
   "display_name": "Python 3",
   "language": "python",
   "name": "python3"
  },
  "language_info": {
   "codemirror_mode": {
    "name": "ipython",
    "version": 3
   },
   "file_extension": ".py",
   "mimetype": "text/x-python",
   "name": "python",
   "nbconvert_exporter": "python",
   "pygments_lexer": "ipython3",
   "version": "3.8.10"
  }
 },
 "nbformat": 4,
 "nbformat_minor": 1
}
