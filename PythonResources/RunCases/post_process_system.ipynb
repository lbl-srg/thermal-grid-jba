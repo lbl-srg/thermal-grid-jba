{
 "cells": [
  {
   "cell_type": "markdown",
   "metadata": {},
   "source": [
    "# Post-processing of case study for central plant results\n",
    "\n",
    "## Usage notes\n",
    "\n",
    "All figures will be written to the directory `img` as pdf and png files.\n",
    "\n",
    "I run this notebook on Ubuntu, using this version of matplotlib:\n",
    "```\n",
    "pip freeze | grep matplotlib\n",
    "matplotlib==3.5.1\n",
    "```\n",
    "Some older versions return an error because they do not support some plot configurations.\n",
    "I set in the virtual machine the RAM to 12GB as 8GB is not sufficient to parse two annual result files."
   ]
  },
  {
   "cell_type": "markdown",
   "metadata": {},
   "source": [
    "## Import required libraries"
   ]
  },
  {
   "cell_type": "code",
   "execution_count": 1,
   "metadata": {
    "execution": {
     "iopub.execute_input": "2025-06-11T08:15:08.783883Z",
     "iopub.status.busy": "2025-06-11T08:15:08.783351Z",
     "iopub.status.idle": "2025-06-11T08:15:09.395640Z",
     "shell.execute_reply": "2025-06-11T08:15:09.395089Z"
    }
   },
   "outputs": [
    {
     "data": {
      "text/plain": [
       "<module 'post_process_configurations' from '/home/mwetter/test/thermal-grid-jba-issue101_etsControl/PythonResources/RunCases/post_process_configurations.py'>"
      ]
     },
     "execution_count": 1,
     "metadata": {},
     "output_type": "execute_result"
    }
   ],
   "source": [
    "import cases as cas\n",
    "import importlib\n",
    "import post_process_configurations as con\n",
    "importlib.reload(con)\n"
   ]
  },
  {
   "cell_type": "markdown",
   "metadata": {},
   "source": [
    "## Read annual results\n",
    "\n",
    "This section also clears the old results to free up memory."
   ]
  },
  {
   "cell_type": "code",
   "execution_count": 2,
   "metadata": {
    "execution": {
     "iopub.execute_input": "2025-06-11T08:15:09.443483Z",
     "iopub.status.busy": "2025-06-11T08:15:09.442882Z",
     "iopub.status.idle": "2025-06-11T08:15:09.484609Z",
     "shell.execute_reply": "2025-06-11T08:15:09.484040Z"
    }
   },
   "outputs": [
    {
     "name": "stdout",
     "output_type": "stream",
     "text": [
      "Cleaned up memory.\n"
     ]
    }
   ],
   "source": [
    "# Free up storage, then read new data\n",
    "import gc\n",
    "gc.collect()\n",
    "\n",
    "print(\"Cleaned up memory.\")"
   ]
  },
  {
   "cell_type": "markdown",
   "metadata": {},
   "source": [
    "Read result file. This takes around 3 minutes per result file."
   ]
  },
  {
   "cell_type": "code",
   "execution_count": 3,
   "metadata": {
    "execution": {
     "iopub.execute_input": "2025-06-11T08:15:09.487367Z",
     "iopub.status.busy": "2025-06-11T08:15:09.487190Z",
     "iopub.status.idle": "2025-06-11T08:21:35.489572Z",
     "shell.execute_reply": "2025-06-11T08:21:35.488068Z"
    }
   },
   "outputs": [
    {
     "name": "stdout",
     "output_type": "stream",
     "text": [
      "Reading result files\n",
      "Read base results\n",
      "Read base_hBor_0.8 results\n",
      "Read base_hBor_1.2 results\n",
      "Read base_dDis_0.8 results\n",
      "Read base_dDis_1.2 results\n"
     ]
    }
   ],
   "source": [
    "#list_of_variables = ['ETot.y',\n",
    "#                     \"CPUtime\"]\n",
    "#r_base=get_partial_results('base', list_of_variables)\n",
    "print(\"Reading result files\")\n",
    "r_base=con.get_results('base')\n",
    "print(\"Read base results\")\n",
    "r_base_hBor_0_8=con.get_results('base_hBor_0.8')\n",
    "print(\"Read base_hBor_0.8 results\")\n",
    "r_base_hBor_1_2=con.get_results('base_hBor_1.2')\n",
    "print(\"Read base_hBor_1.2 results\")\n",
    "r_base_dDis_0_8=con.get_results('base_dDis_0.8')\n",
    "print(\"Read base_dDis_0.8 results\")\n",
    "r_base_dDis_1_2=con.get_results('base_dDis_1.2')\n",
    "print(\"Read base_dDis_1.2 results\")\n",
    "# r_base_noEco=con.get_results('base_noEco')\n",
    "# print(\"Read base_noEco results\")"
   ]
  },
  {
   "cell_type": "code",
   "execution_count": 4,
   "metadata": {
    "execution": {
     "iopub.execute_input": "2025-06-11T08:21:35.496144Z",
     "iopub.status.busy": "2025-06-11T08:21:35.495855Z",
     "iopub.status.idle": "2025-06-11T08:21:35.544866Z",
     "shell.execute_reply": "2025-06-11T08:21:35.544319Z"
    }
   },
   "outputs": [
    {
     "name": "stdout",
     "output_type": "stream",
     "text": [
      "Base case: Total energy use: 23.74 GWh\n",
      "Base case: Total energy use: 212.00 kWh/(m a)\n",
      "Base case: Total energy cost: 3.51 million USD per year\n",
      "Base case: Total energy cost: 31.35 USD/(m2 a)\n"
     ]
    }
   ],
   "source": [
    "AFlo = r_base.max('datDis.AFlo')\n",
    "\n",
    "print(f\"Base case: Total energy use: {r_base.max('ETot.y')/3600/1E9:.2f} GWh\")\n",
    "print(f\"Base case: Total energy use: {r_base.max('ETot.y')/3600/1E9/AFlo*1e6:.2f} kWh/(m a)\")\n",
    "\n",
    "print(f\"Base case: Total energy cost: {r_base.max('totEleCos.y')/1E6:.2f} million USD per year\")\n",
    "print(f\"Base case: Total energy cost: {r_base.max('totEleCos.y')/AFlo:.2f} USD/(m2 a)\")\n",
    "\n"
   ]
  },
  {
   "cell_type": "code",
   "execution_count": 5,
   "metadata": {
    "execution": {
     "iopub.execute_input": "2025-06-11T08:21:35.551150Z",
     "iopub.status.busy": "2025-06-11T08:21:35.550986Z",
     "iopub.status.idle": "2025-06-11T08:21:35.567520Z",
     "shell.execute_reply": "2025-06-11T08:21:35.566881Z"
    }
   },
   "outputs": [
    {
     "name": "stdout",
     "output_type": "stream",
     "text": [
      "CPUtime, base 10.00 h\n"
     ]
    }
   ],
   "source": [
    "print(f\"CPUtime, base {r_base.max('CPUtime')/3600.:.2f} h\")"
   ]
  },
  {
   "cell_type": "markdown",
   "metadata": {},
   "source": [
    "## Write main results to LaTeX file for inclusion in report"
   ]
  },
  {
   "cell_type": "code",
   "execution_count": 6,
   "metadata": {},
   "outputs": [
    {
     "name": "stdout",
     "output_type": "stream",
     "text": [
      "Annual energy cost difference 0.87459675 million $\n",
      "invCos = 0.47747999999999996 million $\n",
      "ALCC of investment = 23929.1345128517 $\n",
      "ALCC of investment and energy -850667.6154871483 $\n"
     ]
    }
   ],
   "source": [
    "import os\n",
    "importlib.reload(con)\n",
    "with open(os.path.join(\"img\", \"modelicaResults.tex\"), \"w\") as fil:\n",
    "    # Energy costs\n",
    "    ETot_base = r_base.max('ETot.y')\n",
    "    ETot_dDis_0_8 = r_base_dDis_0_8.max('ETot.y')\n",
    "    cosETot_base = r_base.max(\"totEleCos.y\")\n",
    "    dhDis_base = r_base.max('datDis.dhDisAct')\n",
    "    vDis_base = r_base.max('datDis.vDis_nominal')\n",
    "    cosETot_dDis_0_8 = r_base_dDis_0_8.max(\"totEleCos.y\")\n",
    "    dhDis_0_8 = r_base_dDis_0_8.max('datDis.dhDisAct')\n",
    "\n",
    "\n",
    "    # ALCC is annualized life cycle costs\n",
    "    # Investment cost difference is length of distribution pipe, time cost difference of 0.5 vs 0.4 m diameter (from Sommer paper) times exchange rate from Euro to $\n",
    "    invCosDif = 3460 *(1220-1100)*1.15\n",
    "    # Annualized increase in electricity costs due to smaller pipes.\n",
    "    delEneCos =  cosETot_dDis_0_8 - cosETot_base\n",
    "    (ALCC, LCC, I, OM, RC, SR, CRF) = con.calc_finance(invCosDif, 0, 0, 40, 0.01)\n",
    "\n",
    "    print(f\"Annual energy cost difference {delEneCos/1E6} million $\")\n",
    "    print(f\"invCos = {invCosDif/1E6} million $\")\n",
    "    print(f\"ALCC of investment = {ALCC} $\")\n",
    "    print(f\"ALCC of investment and energy {ALCC-delEneCos} $\")\n",
    "\n",
    "    s = \"\"\"\n",
    "\\\\newcommand{\\\\delEnergyDDisEighty}{$\"\"\" + f\"{(ETot_dDis_0_8/ETot_base-1)*100:.0f}\\%\" + \"\"\"$}\n",
    "\\\\newcommand{\\\\delEnergyCosDDisEighty}{$\\\\$\"\"\" + f\"{(cosETot_dDis_0_8-cosETot_base)/1E6:.2f} \\mathrm{{million}}\" + \"\"\"$}\n",
    "\n",
    "\\\\newcommand{\\\\totEneCosBase}{$\\\\$\"\"\" + f\"{cosETot_base/1E6:.2f} \\mathrm{{million}}\" + \"\"\"$}\n",
    "\\\\newcommand{\\\\totEneCosDDisEighty}{$\\\\$\"\"\" + f\"{cosETot_dDis_0_8/1E6:.2f} \\mathrm{{million}}\" + \"\"\"$}\n",
    "\n",
    "\\\\newcommand{\\\\dhBase}{$\"\"\" + f\"{dhDis_base:.2f} \\, \\mathrm m ({dhDis_base*3.28084:.2f} \\, \\mathrm{{ft}})\" + \"\"\"$}\n",
    "\\\\newcommand{\\\\dhDDisEighty}{$\"\"\" + f\"{dhDis_0_8:.2f} \\, \\mathrm m ({dhDis_0_8*3.28084:.2f} \\, \\mathrm{{ft}})\" + \"\"\"$}\n",
    "\\\\newcommand{\\\\vDisBase}{$\"\"\" + f\"{vDis_base:.2f} \\, \\mathrm{{m/s}} ({vDis_base*3.28084:.2f} \\, \\mathrm {{ft/s}})\" + \"\"\"$}\n",
    "\n",
    "\\\\newcommand{\\\\delAnnLifCycEighty}{$\\\\$\"\"\" + f\"{(delEneCos-ALCC)/1E6:.2f} \\, \\mathrm{{million}}\" + \"\"\"$}\n",
    "\"\"\"\n",
    "    fil.write(s)\n",
    "\n",
    "\n"
   ]
  },
  {
   "cell_type": "code",
   "execution_count": null,
   "metadata": {},
   "outputs": [],
   "source": []
  },
  {
   "cell_type": "code",
   "execution_count": null,
   "metadata": {},
   "outputs": [],
   "source": []
  },
  {
   "cell_type": "markdown",
   "metadata": {},
   "source": [
    "### Write capacities to LaTeX file"
   ]
  },
  {
   "cell_type": "code",
   "execution_count": 7,
   "metadata": {
    "execution": {
     "iopub.execute_input": "2025-06-11T08:21:35.573614Z",
     "iopub.status.busy": "2025-06-11T08:21:35.573388Z",
     "iopub.status.idle": "2025-06-11T08:21:35.575969Z",
     "shell.execute_reply": "2025-06-11T08:21:35.575415Z"
    }
   },
   "outputs": [],
   "source": [
    "# Note that the unyt package used in this function does not allow to reload the module.\n",
    "# Hence we put the function in its own file\n",
    "##import post_process_write_latex_table as lat\n",
    "##lat.write_latex_capacity_table(r_base)"
   ]
  },
  {
   "cell_type": "markdown",
   "metadata": {},
   "source": []
  },
  {
   "cell_type": "markdown",
   "metadata": {},
   "source": []
  },
  {
   "cell_type": "markdown",
   "metadata": {},
   "source": [
    "### Energy use\n"
   ]
  },
  {
   "cell_type": "code",
   "execution_count": 46,
   "metadata": {
    "execution": {
     "iopub.execute_input": "2025-06-11T08:21:35.581317Z",
     "iopub.status.busy": "2025-06-11T08:21:35.581121Z",
     "iopub.status.idle": "2025-06-11T08:21:37.362187Z",
     "shell.execute_reply": "2025-06-11T08:21:37.361551Z"
    },
    "scrolled": true
   },
   "outputs": [
    {
     "name": "stdout",
     "output_type": "stream",
     "text": [
      "All electricity use = [23.7434726  24.18894963 23.37274739 29.63773267 22.01615335]\n",
      "Sum of plot = [23.74347333 24.18894897 23.37274797 29.63773242 22.01615437]\n",
      "\n",
      "Heat pumps in ETS   & 5.32 &  47.5 \\\\\n",
      "Heat pumps in plant & 3.26 &  29.1 \\\\\n",
      "Pumps               & 5.39 &  48.1 \\\\\n",
      "Fans                & 0.92 &  8.3 \\\\\n",
      "Non-HVAC electricity for buildings & 8.85 &  79.1  \\\\ \\hline\n",
      "Total & 23.74 &  212.0 \\\\ \\hline\n"
     ]
    }
   ],
   "source": [
    "importlib.reload(con)\n",
    "\n",
    "casesToCompare = [r_base, r_base_hBor_0_8, r_base_hBor_1_2, r_base_dDis_0_8, r_base_dDis_1_2]\n",
    "# casesToCompare = [r_base, r_base_hBor_0_8, r_base_hBor_1_2, r_base_dDis_0_8, r_base_dDis_1_2, r_base_noEco]\n",
    "labelsOfCasesToCompare = ['base', '$0.8 \\, h_{bor}$', '$1.2 \\, h_{bor}$', '$0.8 \\, d_{dis}$', '$1.2 \\, d_{dis}$']\n",
    "#labelsOfCasesToCompare = ['base', '$0.8 \\, h_{bor}$', '$1.2 \\, h_{bor}$', '$0.8 \\, d_{dis}$', '$1.2 \\, d_{dis}$', 'no economizer']\n",
    "fileNamesOfCasesToCompare = ['base', 'base_hBor_0_8', 'base_hBor_1_2', 'base_dDis_0_8', 'base_dDis_1_2']\n",
    "#fileNamesOfCasesToCompare = ['base', 'base_hBor_0_8', 'base_hBor_1_2', 'base_dDis_0_8', 'base_dDis_1_2', 'base_no_eco']\n",
    "con.plot_energy(casesToCompare, labelsOfCasesToCompare)\n"
   ]
  },
  {
   "cell_type": "markdown",
   "metadata": {},
   "source": [
    "## Loop temperatures"
   ]
  },
  {
   "cell_type": "code",
   "execution_count": 42,
   "metadata": {
    "execution": {
     "iopub.execute_input": "2025-06-11T08:21:37.367688Z",
     "iopub.status.busy": "2025-06-11T08:21:37.367515Z",
     "iopub.status.idle": "2025-06-11T08:21:46.383274Z",
     "shell.execute_reply": "2025-06-11T08:21:46.382606Z"
    }
   },
   "outputs": [],
   "source": [
    "importlib.reload(con)\n",
    "con.plot_loop_temperatures(casesToCompare, fileNamesOfCasesToCompare)\n"
   ]
  },
  {
   "cell_type": "markdown",
   "metadata": {},
   "source": [
    "# Plot plant operation"
   ]
  },
  {
   "cell_type": "code",
   "execution_count": 17,
   "metadata": {
    "execution": {
     "iopub.execute_input": "2025-06-11T08:21:46.388915Z",
     "iopub.status.busy": "2025-06-11T08:21:46.388735Z",
     "iopub.status.idle": "2025-06-11T08:21:50.677521Z",
     "shell.execute_reply": "2025-06-11T08:21:50.676847Z"
    }
   },
   "outputs": [],
   "source": [
    "# List of days to plot\n",
    "days = [\n",
    "    {\n",
    "        \"xlim\": [31, 32],\n",
    "        \"date\": \"Feb. 1\",\n",
    "        \"name\": \"Winter\"\n",
    "    },\n",
    "    {\n",
    "        \"xlim\": [160, 161],\n",
    "        \"date\": \"June 10\",\n",
    "        \"name\": \"Spring\"\n",
    "    },\n",
    "    {\n",
    "        \"xlim\": [213, 214],\n",
    "        \"date\": \"Aug. 2\",\n",
    "        \"name\": \"Summer\"\n",
    "    }\n",
    "]\n",
    "# List of variables to plot for each subplot\n",
    "lis = [\n",
    "        {\n",
    "            \"y_label\": \"Controls\",\n",
    "            \"y_lim\": [-3, 3],\n",
    "            \"factor\": 1,\n",
    "            \"offset\": 0,\n",
    "            \"vars\": [\n",
    "                {\n",
    "                    \"label\": \"$y_{st}$\",\n",
    "                    \"var\": \"cenPla.gen.ind.ySt\",\n",
    "                    \"linewidth\": 1,\n",
    "                    },\n",
    "                    {\n",
    "                    \"label\": \"$y_{pla}$\",\n",
    "                    \"var\": \"cenPla.gen.ind.yPlaOut\",\n",
    "                    }\n",
    "                ]\n",
    "        },\n",
    "        {\n",
    "            \"y_label\": \"Temperature\\n[$^\\\\circ$C]\",\n",
    "            \"y_lim\": [10, 28],\n",
    "            \"factor\": 1,\n",
    "            \"offset\": -273.15,\n",
    "            \"vars\": [\n",
    "                 {\n",
    "                    \"label\": \"$T_{pla,hea,set}$\",\n",
    "                    \"var\": \"cenPla.gen.ind.TActPlaHeaSet\",\n",
    "                    \"linewidth\": 1,\n",
    "                    \"marker\": \">\",\n",
    "                    \"color\": \"r\",\n",
    "                    \"skip_if_ySea\": 3\n",
    "                    },\n",
    "                 {\n",
    "                    \"label\": \"$T_{pla,coo,set}$\",\n",
    "                    \"var\": \"cenPla.gen.ind.TActPlaCooSet\",\n",
    "                    \"linewidth\": 1,\n",
    "                    \"marker\": \">\",\n",
    "                    \"color\": \"r\",\n",
    "                    \"skip_if_ySea\": 1\n",
    "                    },\n",
    "                {\n",
    "                    \"label\": \"$T_{pla,in}$\",\n",
    "                    \"var\": \"TDisWatRet.T\",\n",
    "                    \"linewidth\": 0.5,\n",
    "                    \"marker\": \">\",\n",
    "                    \"color\": \"k\"\n",
    "                    },\n",
    "                    {\n",
    "                    \"label\": \"$T_{pla,out}$\",\n",
    "                    \"var\": \"cenPla.gen.senTemGenLea.T\",\n",
    "                    \"linewidth\": 0.5,\n",
    "                    \"marker\": \"<\",\n",
    "                    \"color\": \"k\"\n",
    "                    }\n",
    "            ]\n",
    "        },\n",
    "        {\n",
    "            \"y_label\": \"Temperature\\n[$^\\\\circ$C]\",\n",
    "            \"y_lim\": [10, 28],\n",
    "            \"factor\": 1,\n",
    "            \"offset\": -273.15,\n",
    "            \"vars\": [\n",
    "#                    {\n",
    "#                    \"label\": \"$T_{bor,per,ret}$\",\n",
    "#                    \"var\": \"cenPla.gen.senTemBorPerRet.T\",\n",
    "#                    \"marker\": \"<\",\n",
    "#                    \"linestyle\": \"--\",\n",
    "#                    \"color\": \"g\"\n",
    "#                    },\n",
    "#                    {\n",
    "#                    \"label\": \"$T_{bor,cen,sup}$\",\n",
    "#                    \"var\": \"cenPla.gen.senTemBorCenSup.T\",\n",
    "#                    \"linestyle\": \"-.\",\n",
    "#                    \"color\": \"r\",\n",
    "#                    \"marker\": \">\"\n",
    "#                    },\n",
    "#                    {\n",
    "#                    \"label\": \"$T_{bor,cen,ret}$\",\n",
    "#                    \"var\": \"cenPla.gen.senTemBorCenRet.T\",\n",
    "#                    \"linestyle\": \"-.\",\n",
    "#                    \"color\": \"r\",\n",
    "#                    \"marker\": \"<\"\n",
    "#                    },\n",
    "                    {\n",
    "                    \"label\": \"$T_{hea,pum,sup}$\",\n",
    "                    \"var\": \"cenPla.gen.senTemHeaPumEnt.T\",\n",
    "                    \"color\": \"b\",\n",
    "                    \"marker\": \">\"\n",
    "                    },\n",
    "                    {\n",
    "                    \"label\": \"$T_{hea,pum,ret}$\",\n",
    "                    \"var\": \"cenPla.gen.senTemHeaPumLea.T\",\n",
    "                    \"color\": \"b\",\n",
    "                    \"marker\": \"<\"\n",
    "                    }\n",
    "                ]\n",
    "            },\n",
    "#            {\n",
    "#            \"y_label\": \"Mass flow\\nrate [kg/s]\",\n",
    "#            \"y_lim\": [0, 500],\n",
    "#            \"factor\": 1,\n",
    "#            \"offset\": 0,\n",
    "#            \"vars\": [\n",
    "#                    {\n",
    "#                    \"label\": \"$\\dot m_{eco}$\",\n",
    "#                    \"var\": \"cenPla.gen.hex.m2_flow\",\n",
    "#                    },\n",
    "#                    {\n",
    "#                    \"label\": \"$\\dot m_{bor,per}$\",\n",
    "#                    \"var\": \"cenPla.gen.senTemBorPerRet.port_a.m_flow\",\n",
    "#                    \"marker\": \"o\",\n",
    "#                    },\n",
    "#                    {\n",
    "#                    \"label\": \"$\\dot m_{bor,cen}$\",\n",
    "#                    \"var\": \"cenPla.gen.senTemBorCenRet.port_a.m_flow\",\n",
    "#                    \"marker\": \"x\",\n",
    "#                    },\n",
    "#                    {\n",
    "#                    \"label\": \"$\\dot m_{hea,pum}$\",\n",
    "#                    \"var\": \"cenPla.gen.heaPum.m1_flow\",\n",
    "#                    \"marker\": \"v\",\n",
    "#                    }\n",
    "#                    ]\n",
    "#            },\n",
    "            {\n",
    "            \"y_label\": \"Heat flow\\nrate [MW]\",\n",
    "            \"y_lim\": [-8, 8],\n",
    "            \"factor\": 1E-6,\n",
    "            \"offset\": 0,\n",
    "            \"vars\": [\n",
    "#                    {\n",
    "#                    \"label\": \"$\\dot Q_{eco}$\",\n",
    "#                    \"var\": \"cenPla.gen.hex.Q2_flow\",\n",
    "#                    },\n",
    "                    {\n",
    "                    \"label\": \"$\\dot Q_{bor,per}$\",\n",
    "                    \"var\": \"cenPla.borFie.QPer_flow\",\n",
    "                    \"marker\": \"o\",\n",
    "                    },\n",
    "                    {\n",
    "                    \"label\": \"$\\dot Q_{bor,cen}$\",\n",
    "                    \"var\": \"cenPla.borFie.QCen_flow\",\n",
    "                    \"marker\": \"x\",\n",
    "                    },\n",
    "                    {\n",
    "                    \"label\": \"$\\dot Q_{hea,pum}$\",\n",
    "                    \"var\": \"cenPla.gen.heaPum.Q1_flow\",\n",
    "                    \"marker\": \"v\",\n",
    "                    }\n",
    "                    ]\n",
    "        }\n",
    "    ]\n",
    "\n",
    "con.plotPlant(lis, r_base, \"plant\", days)"
   ]
  },
  {
   "cell_type": "markdown",
   "metadata": {},
   "source": [
    "# Plot borefield energy"
   ]
  },
  {
   "cell_type": "code",
   "execution_count": 11,
   "metadata": {
    "execution": {
     "iopub.execute_input": "2025-06-11T08:21:50.683124Z",
     "iopub.status.busy": "2025-06-11T08:21:50.682912Z",
     "iopub.status.idle": "2025-06-11T08:21:51.502063Z",
     "shell.execute_reply": "2025-06-11T08:21:51.501397Z"
    }
   },
   "outputs": [],
   "source": [
    "# List of days to plot\n",
    "days = [\n",
    "    {\n",
    "        \"xlim\": [0, 365],\n",
    "        \"date\": \"\",\n",
    "        \"name\": \"Annual\"\n",
    "    }\n",
    "]\n",
    "# List of variables to plot for each subplot\n",
    "lis = [\n",
    "        {\n",
    "            \"y_label\": \"Borefield energy [GWh]\",\n",
    "            \"y_lim\": [-3, 3],\n",
    "            \"factor\": 1/3600/1E9,\n",
    "            \"offset\": 0,\n",
    "            \"vars\": [\n",
    "                {\n",
    "                    \"label\": \"Modelica $E_{bor}$\",\n",
    "                    \"var\": \"EBor.y\",\n",
    "                    \"linewidth\": 1\n",
    "                    },\n",
    "                    {\n",
    "                    \"label\": \"Modelica $E_{bor,per}$\",\n",
    "                    \"var\": \"EBorPer.y\",\n",
    "                    \"linewidth\": 1\n",
    "                    },\n",
    "                    {\n",
    "                    \"label\": \"Modelica $E_{bor,cen}$\",\n",
    "                    \"var\": \"EBorCen.y\",\n",
    "                    \"linewidth\": 1\n",
    "                    },\n",
    "                    {\n",
    "                    \"label\": \"MILP $E_{bor}$\",\n",
    "                    \"var\": \"borMil.E\",\n",
    "                    \"linestyle\": \"--\",\n",
    "                    \"mark_every\": 50\n",
    "                    }\n",
    "                ]\n",
    "        }\n",
    "]\n",
    "\n",
    "con.plotOneFigure(lis, r_base, \"borefieldEnergy\", days)"
   ]
  },
  {
   "cell_type": "code",
   "execution_count": null,
   "metadata": {},
   "outputs": [],
   "source": []
  },
  {
   "cell_type": "code",
   "execution_count": null,
   "metadata": {},
   "outputs": [],
   "source": []
  }
 ],
 "metadata": {
  "kernelspec": {
   "display_name": "Python 3",
   "language": "python",
   "name": "python3"
  },
  "language_info": {
   "codemirror_mode": {
    "name": "ipython",
    "version": 3
   },
   "file_extension": ".py",
   "mimetype": "text/x-python",
   "name": "python",
   "nbconvert_exporter": "python",
   "pygments_lexer": "ipython3",
   "version": "3.8.10"
  }
 },
 "nbformat": 4,
 "nbformat_minor": 1
}
