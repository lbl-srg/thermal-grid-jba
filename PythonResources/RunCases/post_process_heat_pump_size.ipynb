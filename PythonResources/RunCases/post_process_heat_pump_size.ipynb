{
 "cells": [
  {
   "cell_type": "markdown",
   "metadata": {},
   "source": [
    "# Post-processing for borefield histogram\n",
    "\n",
    "## Usage notes\n",
    "\n",
    "All figures will be written to the directory `img` as pdf and png files.\n",
    "\n",
    "I run this notebook on Ubuntu, using this version of matplotlib:\n",
    "```\n",
    "pip freeze | grep matplotlib\n",
    "matplotlib==3.5.1\n",
    "```\n",
    "Some older versions return an error because they do not support some plot configurations.\n",
    "I set in the virtual machine the RAM to 12GB as 8GB is not sufficient to parse two annual result files."
   ]
  },
  {
   "cell_type": "markdown",
   "metadata": {},
   "source": [
    "## Import required libraries"
   ]
  },
  {
   "cell_type": "code",
   "execution_count": null,
   "metadata": {},
   "outputs": [],
   "source": [
    "import cases as cas\n",
    "import post_process_configurations as con\n"
   ]
  },
  {
   "cell_type": "markdown",
   "metadata": {},
   "source": [
    "## Read annual results\n",
    "\n",
    "This section also clears the old results to free up memory."
   ]
  },
  {
   "cell_type": "code",
   "execution_count": null,
   "metadata": {},
   "outputs": [
    {
     "name": "stdout",
     "output_type": "stream",
     "text": [
      "Cleaned up memory.\n"
     ]
    }
   ],
   "source": [
    "# Free up storage, then read new data\n",
    "import gc\n",
    "gc.collect()\n",
    "print(\"Cleaned up memory.\")"
   ]
  },
  {
   "cell_type": "code",
   "execution_count": null,
   "metadata": {},
   "outputs": [
    {
     "name": "stdout",
     "output_type": "stream",
     "text": [
      "Reading result files\n",
      "Read base results\n",
      "Read base_hBor_0.8 results\n"
     ]
    }
   ],
   "source": [
    "print(\"Reading result files\")\n",
    "r_base=con.get_results('base')\n"
   ]
  },
  {
   "cell_type": "markdown",
   "metadata": {},
   "source": [
    "#### Test generating the plots with Dymola simulation"
   ]
  },
  {
   "cell_type": "markdown",
   "metadata": {},
   "source": [
    "# Heat pump size study: "
   ]
  },
  {
   "cell_type": "markdown",
   "metadata": {},
   "source": [
    "By gradually decreasing the central plant heat pump size, we violate the loop temperature requirement (within 10.5 degC to 24 degC) but reduce investments."
   ]
  },
  {
   "cell_type": "code",
   "execution_count": null,
   "metadata": {},
   "outputs": [],
   "source": [
    "LooTem = [\"TLooMinMea.y\", \"TLooMaxMea.y\", \"datDis.TLooMin\", \"datDis.TLooMax\", \"datDis.QPlaHeaPumCoo_flow_nominal\", \"datDis.QPlaHeaPumHea_flow_nominal\"]\n",
    "heaPumSizCas = ['base', 'base_heaPumSizFac_0.9', 'base_heaPumSizFac_0.8']"
   ]
  },
  {
   "cell_type": "code",
   "execution_count": null,
   "metadata": {},
   "outputs": [],
   "source": [
    "# read the partial results\n",
    "resArr = []\n",
    "for i in range(len(heaPumSizCas)):\n",
    "    ele = heaPumSizCas[i]\n",
    "    print(\"Reading \", ele, \" result ----------\")\n",
    "    res = get_partial_results(ele, LooTem)\n",
    "    res['name'] = ele\n",
    "    resArr.append(res)\n",
    "print(\"-------- Done! ----------\")"
   ]
  },
  {
   "cell_type": "code",
   "execution_count": null,
   "metadata": {},
   "outputs": [],
   "source": [
    "caseName = []\n",
    "heaPumCap = []\n",
    "maxLooTem = []\n",
    "minLooTem = []\n",
    "dTHou = []\n",
    "\n",
    "for i in range(len(resArr)):\n",
    "    ele = resArr[i]\n",
    "    caseName.append(ele['name'])\n",
    "    cooCap = ele['datDis.QPlaHeaPumCoo_flow_nominal'][0]\n",
    "    heaCap = ele['datDis.QPlaHeaPumHea_flow_nominal'][0]\n",
    "    heaPumCap.append(max(abs(cooCap), heaCap) / 1e6)   # converted to MW\n",
    "    TLooMax = ele['datDis.TLooMax']\n",
    "    TLooMin = ele['datDis.TLooMin']\n",
    "    TLooMaxMea = ele['TLooMaxMea.y']\n",
    "    TLooMinMea = ele['TLooMinMea.y']\n",
    "    maxLooTem.append(max(TLooMaxMea) - 273.15)   # converted to degC\n",
    "    minLooTem.append(min(TLooMinMea) - 273.15)   # converted to degC\n",
    "    time = ele['time']\n",
    "    dTHou.append(dT_hour(time, TLooMin, TLooMax, TLooMinMea, TLooMaxMea))\n",
    "\n",
    "# central heat pump cost $1631/kW\n",
    "uniCenHeaPumCos = 1631\n",
    "# Note that now the heaPumCap has unit of MW\n",
    "basCos = (uniCenHeaPumCos * heaPumCap[0])*1e3*1e-6\n",
    "netCosCha = [(heaPumCap[i] - heaPumCap[0])*uniCenHeaPumCos*1e3*1e-6 for i in range(len(heaPumCap))]"
   ]
  },
  {
   "cell_type": "code",
   "execution_count": null,
   "metadata": {},
   "outputs": [],
   "source": [
    "import matplotlib.pyplot as plt\n",
    "import numpy as np\n",
    "\n",
    "fig, axes = plt.subplots(nrows=2, ncols=1, figsize=(8, 6))\n",
    "\n",
    "# print(dTHou)\n",
    "\n",
    "width = 0.3\n",
    "# Plot on the first subplot with two y-axes\n",
    "ax1 = axes[0]\n",
    "ax2 = ax1.twinx()\n",
    "ax1.bar(caseName, heaPumCap, color='blue', label='Heat pump capacity', width=width*(-1), align='edge')\n",
    "ax1.tick_params(axis='x', labelbottom=False)\n",
    "ax1.set_ylabel('Heat pump capacity [MW]')\n",
    "ax1.set_ylim(6,9)\n",
    "ax1.tick_params(axis='y', colors='blue')\n",
    "ax2.bar(caseName, netCosCha, color='red', label='Net cost change', width=width, align='edge')\n",
    "ax2.set_ylabel('Investment cost change [million $]')\n",
    "ax2.tick_params(axis='y', colors='red')\n",
    "ax2.set_ylim(0,4)\n",
    "ax1.legend(loc='upper center', bbox_to_anchor=(0.2,1.0))\n",
    "ax2.legend(loc='upper center', bbox_to_anchor=(0.6,1.0))\n",
    "\n",
    "ax3 = axes[1]\n",
    "ax4 = ax3.twinx()\n",
    "ax3.bar(caseName, maxLooTem, color='blue', label='Maximum loop temperature', width=width, align='edge')\n",
    "ax3.tick_params(axis='x', labelrotation=90)\n",
    "ax3.set_ylabel(r'Temperature [$^\\circ$C]')\n",
    "ax3.set_ylim(20, 30)\n",
    "ax3.tick_params(axis='y', colors='blue')\n",
    "ax4.bar(caseName, dTHou, color='red', label='Degree hours', width=width, align='edge')\n",
    "ax4.set_ylabel(r'Degree hours [$K \\cdot h$]')\n",
    "ax4.tick_params(axis='y', colors='red')\n",
    "ax4.set_ylim(0,10)\n",
    "ax3.legend(loc='upper center', bbox_to_anchor=(0.2,1.0))\n",
    "ax4.legend(loc='upper center', bbox_to_anchor=(0.6,1.0))\n",
    "\n",
    "# plt.title('Bar Plot with Two Y-Axes')\n",
    "fig.tight_layout()\n",
    "save_plot(plt, \"central_heat_pump_sizes\")"
   ]
  },
  {
   "cell_type": "code",
   "execution_count": null,
   "metadata": {},
   "outputs": [],
   "source": []
  }
 ],
 "metadata": {
  "kernelspec": {
   "display_name": "Python 3",
   "language": "python",
   "name": "python3"
  },
  "language_info": {
   "codemirror_mode": {
    "name": "ipython",
    "version": 3
   },
   "file_extension": ".py",
   "mimetype": "text/x-python",
   "name": "python",
   "nbconvert_exporter": "python",
   "pygments_lexer": "ipython3",
   "version": "3.8.10"
  }
 },
 "nbformat": 4,
 "nbformat_minor": 1
}
